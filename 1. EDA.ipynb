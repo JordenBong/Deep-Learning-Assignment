{
 "cells": [
  {
   "cell_type": "code",
   "execution_count": 2,
   "id": "57ac1bb8-a2e6-4caa-85e8-134375086756",
   "metadata": {},
   "outputs": [],
   "source": [
    "import pandas as pd\n",
    "import matplotlib.pyplot as plt\n",
    "import seaborn as sns"
   ]
  },
  {
   "cell_type": "code",
   "execution_count": 2,
   "id": "ab6d64f7-46c9-4c8c-98c3-c191da7d83d5",
   "metadata": {},
   "outputs": [],
   "source": [
    "# Load the datasets\n",
    "bid_set = pd.read_csv(\"datasets/bids.csv\")\n",
    "test_set = pd.read_csv(\"datasets/test.csv\")\n",
    "train_set = pd.read_csv(\"datasets/train.csv\")"
   ]
  },
  {
   "cell_type": "code",
   "execution_count": 3,
   "id": "c2efb5b8-c565-4f43-98bb-0f14cbc4dff7",
   "metadata": {},
   "outputs": [
    {
     "name": "stdout",
     "output_type": "stream",
     "text": [
      "Bid Set Info:\n",
      "<class 'pandas.core.frame.DataFrame'>\n",
      "RangeIndex: 7656334 entries, 0 to 7656333\n",
      "Data columns (total 9 columns):\n",
      " #   Column       Dtype \n",
      "---  ------       ----- \n",
      " 0   bid_id       int64 \n",
      " 1   bidder_id    object\n",
      " 2   auction      object\n",
      " 3   merchandise  object\n",
      " 4   device       object\n",
      " 5   time         int64 \n",
      " 6   country      object\n",
      " 7   ip           object\n",
      " 8   url          object\n",
      "dtypes: int64(2), object(7)\n",
      "memory usage: 525.7+ MB\n",
      "\n",
      "Train Set Info:\n",
      "<class 'pandas.core.frame.DataFrame'>\n",
      "RangeIndex: 2013 entries, 0 to 2012\n",
      "Data columns (total 4 columns):\n",
      " #   Column           Non-Null Count  Dtype  \n",
      "---  ------           --------------  -----  \n",
      " 0   bidder_id        2013 non-null   object \n",
      " 1   payment_account  2013 non-null   object \n",
      " 2   address          2013 non-null   object \n",
      " 3   outcome          2013 non-null   float64\n",
      "dtypes: float64(1), object(3)\n",
      "memory usage: 63.0+ KB\n"
     ]
    }
   ],
   "source": [
    "# Check the info\n",
    "print(\"Bid Set Info:\")\n",
    "bid_set.info()\n",
    "print(\"\\nTrain Set Info:\")\n",
    "train_set.info()"
   ]
  },
  {
   "cell_type": "code",
   "execution_count": 4,
   "id": "874cede8-0a11-4830-8dee-62778f20bfb8",
   "metadata": {},
   "outputs": [
    {
     "name": "stdout",
     "output_type": "stream",
     "text": [
      "   bid_id                              bidder_id auction merchandise  device  \\\n",
      "0       0  8dac2b259fd1c6d1120e519fb1ac14fbqvax8   ewmzr     jewelry  phone0   \n",
      "1       1  668d393e858e8126275433046bbd35c6tywop   aeqok   furniture  phone1   \n",
      "2       2  aa5f360084278b35d746fa6af3a7a1a5ra3xe   wa00e  home goods  phone2   \n",
      "3       3  3939ac3ef7d472a59a9c5f893dd3e39fh9ofi   jefix     jewelry  phone4   \n",
      "4       4  8393c48eaf4b8fa96886edc7cf27b372dsibi   jefix     jewelry  phone5   \n",
      "\n",
      "               time country              ip              url  \n",
      "0  9759243157894736      us   69.166.231.58  vasstdc27m7nks3  \n",
      "1  9759243157894736      in   50.201.125.84  jmqlhflrzwuay9c  \n",
      "2  9759243157894736      py  112.54.208.157  vasstdc27m7nks3  \n",
      "3  9759243157894736      in   18.99.175.133  vasstdc27m7nks3  \n",
      "4  9759243157894736      in    145.138.5.37  vasstdc27m7nks3   \n",
      "\n",
      "                               bidder_id  \\\n",
      "0  91a3c57b13234af24875c56fb7e2b2f4rb56a   \n",
      "1  624f258b49e77713fc34034560f93fb3hu3jo   \n",
      "2  1c5f4fc669099bfbfac515cd26997bd12ruaj   \n",
      "3  4bee9aba2abda51bf43d639013d6efe12iycd   \n",
      "4  4ab12bc61c82ddd9c2d65e60555808acqgos1   \n",
      "\n",
      "                         payment_account  \\\n",
      "0  a3d2de7675556553a5f08e4c88d2c228754av   \n",
      "1  a3d2de7675556553a5f08e4c88d2c228v1sga   \n",
      "2  a3d2de7675556553a5f08e4c88d2c2280cybl   \n",
      "3  51d80e233f7b6a7dfdee484a3c120f3b2ita8   \n",
      "4  a3d2de7675556553a5f08e4c88d2c22857ddh   \n",
      "\n",
      "                                 address  outcome  \n",
      "0  a3d2de7675556553a5f08e4c88d2c228vt0u4      0.0  \n",
      "1  ae87054e5a97a8f840a3991d12611fdcrfbq3      0.0  \n",
      "2  92520288b50f03907041887884ba49c0cl0pd      0.0  \n",
      "3  4cb9717c8ad7e88a9a284989dd79b98dbevyi      0.0  \n",
      "4  2a96c3ce94b3be921e0296097b88b56a7x1ji      0.0   \n",
      "\n"
     ]
    }
   ],
   "source": [
    "# View the first few rows of the datasets\n",
    "print(bid_set.head(), \"\\n\")  \n",
    "print(train_set.head(), \"\\n\")"
   ]
  },
  {
   "cell_type": "code",
   "execution_count": 5,
   "id": "5f897058-ff05-43b5-bdae-fef8eed7bbd6",
   "metadata": {},
   "outputs": [
    {
     "name": "stdout",
     "output_type": "stream",
     "text": [
      "\n",
      "bid shape:\n",
      "(7656334, 9)\n",
      "\n",
      "train shape:\n",
      "(2013, 4)\n"
     ]
    }
   ],
   "source": [
    "# Check the shape of the datasets\n",
    "print(\"\\nbid shape:\")\n",
    "print(bid_set.shape)  # Show the shape of the DataFrame\n",
    "print(\"\\ntrain shape:\")\n",
    "print(train_set.shape)  # Show the shape of the DataFrame"
   ]
  },
  {
   "cell_type": "code",
   "execution_count": 6,
   "id": "32878e88-7582-4588-b876-e3c00074618b",
   "metadata": {},
   "outputs": [],
   "source": [
    "# # Statistics of the datasets\n",
    "# print(\"\\nBid Set Statistics:\\n\", bid_set.describe())\n",
    "# print(\"\\nTrain Set Statistics:\\n\", train_set.describe())"
   ]
  },
  {
   "cell_type": "code",
   "execution_count": 7,
   "id": "6b23d7d4-53c1-4a17-9387-038cafc62bc1",
   "metadata": {},
   "outputs": [
    {
     "name": "stdout",
     "output_type": "stream",
     "text": [
      "\n",
      "Missing Values in Bid Set:\n",
      " bid_id            0\n",
      "bidder_id         0\n",
      "auction           0\n",
      "merchandise       0\n",
      "device            0\n",
      "time              0\n",
      "country        8859\n",
      "ip                0\n",
      "url               0\n",
      "dtype: int64\n",
      "\n",
      "Missing Values in Train Set:\n",
      " bidder_id          0\n",
      "payment_account    0\n",
      "address            0\n",
      "outcome            0\n",
      "dtype: int64\n"
     ]
    }
   ],
   "source": [
    "# Check for missing values\n",
    "print(\"\\nMissing Values in Bid Set:\\n\", bid_set.isnull().sum())\n",
    "print(\"\\nMissing Values in Train Set:\\n\", train_set.isnull().sum())"
   ]
  },
  {
   "cell_type": "code",
   "execution_count": 9,
   "id": "5a7ade1b-c58b-4942-b012-3b9392b9a261",
   "metadata": {},
   "outputs": [
    {
     "name": "stdout",
     "output_type": "stream",
     "text": [
      "\n",
      "Percentage of missing data in country column:  0.12%\n"
     ]
    }
   ],
   "source": [
    "missing_percent = bid_set['country'].isnull().mean()\n",
    "print(f\"\\nPercentage of missing data in country column: {missing_percent*100: .2f}%\")"
   ]
  },
  {
   "cell_type": "code",
   "execution_count": 10,
   "id": "bf0ccd55-4be0-4ba6-8657-cbd5e98594ef",
   "metadata": {},
   "outputs": [],
   "source": [
    "# unique_countries = bid_set['country'].value_counts()\n",
    "# filling missing values with the mode\n",
    "bid_set['country'] = bid_set['country'].fillna(bid_set['country'].mode()[0])"
   ]
  },
  {
   "cell_type": "code",
   "execution_count": 13,
   "id": "ef851d1e-a858-46aa-b307-59c77e810318",
   "metadata": {},
   "outputs": [
    {
     "name": "stdout",
     "output_type": "stream",
     "text": [
      "\n",
      "Missing Value count after merged: \n",
      " bidder_id           0\n",
      "payment_account     0\n",
      "address             0\n",
      "outcome             0\n",
      "bid_id             29\n",
      "auction            29\n",
      "merchandise        29\n",
      "device             29\n",
      "time               29\n",
      "country            29\n",
      "ip                 29\n",
      "url                29\n",
      "dtype: int64\n"
     ]
    }
   ],
   "source": [
    "merged_df = pd.merge(train_set, bid_set, on='bidder_id', how='left')\n",
    "missing_values_count = merged_df.isnull().sum()\n",
    "print(\"\\nMissing Value count after merged: \\n\" , missing_values_count )"
   ]
  },
  {
   "cell_type": "code",
   "execution_count": 14,
   "id": "781d663d-e061-48d7-874e-b7f7e1060601",
   "metadata": {},
   "outputs": [
    {
     "name": "stdout",
     "output_type": "stream",
     "text": [
      "\n",
      "Missing Values Ratio:\n",
      " bidder_id          0.000000\n",
      "payment_account    0.000000\n",
      "address            0.000000\n",
      "outcome            0.000000\n",
      "bid_id             0.000944\n",
      "auction            0.000944\n",
      "merchandise        0.000944\n",
      "device             0.000944\n",
      "time               0.000944\n",
      "country            0.000944\n",
      "ip                 0.000944\n",
      "url                0.000944\n",
      "dtype: float64\n"
     ]
    }
   ],
   "source": [
    "# Check the percentage of missing values in each column\n",
    "missing_values_ratio = merged_df.isnull().sum() / len(merged_df) * 100\n",
    "print(\"\\nMissing Values Ratio:\\n\", missing_values_ratio)"
   ]
  },
  {
   "cell_type": "code",
   "execution_count": 15,
   "id": "81792df4-c1ea-4c09-9a55-12de9107e84b",
   "metadata": {},
   "outputs": [
    {
     "name": "stdout",
     "output_type": "stream",
     "text": [
      "\n",
      "Missing Values Count after dropping rows with missing values:\n",
      " bidder_id          0\n",
      "payment_account    0\n",
      "address            0\n",
      "outcome            0\n",
      "bid_id             0\n",
      "auction            0\n",
      "merchandise        0\n",
      "device             0\n",
      "time               0\n",
      "country            0\n",
      "ip                 0\n",
      "url                0\n",
      "dtype: int64\n"
     ]
    }
   ],
   "source": [
    "# for all the missing value observation, drop it\n",
    "merged_df = merged_df.dropna()\n",
    "missing_values_count_dropped = merged_df.isnull().sum()\n",
    "print(\"\\nMissing Values Count after dropping rows with missing values:\\n\", missing_values_count_dropped )"
   ]
  },
  {
   "cell_type": "markdown",
   "id": "72dd20d7-3150-4a3d-9b93-cec8eef812ed",
   "metadata": {},
   "source": [
    "## EDA"
   ]
  },
  {
   "cell_type": "code",
   "execution_count": 16,
   "id": "f9ca9b9c-e548-424f-a6a2-ade0462e3a7a",
   "metadata": {},
   "outputs": [],
   "source": [
    "# EDA\n",
    "# Distribution of auction outcomes\n",
    "outcome_counts = merged_df['outcome'].value_counts()"
   ]
  },
  {
   "cell_type": "code",
   "execution_count": 17,
   "id": "c4552dc7-e7e9-42e6-9cea-0a3c7c17f1ae",
   "metadata": {},
   "outputs": [
    {
     "data": {
      "image/png": "[encoded data removed]",
      "text/plain": [
       "<Figure size 800x600 with 1 Axes>"
      ]
     },
     "metadata": {},
     "output_type": "display_data"
    }
   ],
   "source": [
    "# Visualizing the distribution of auction outcomes\n",
    "plt.figure(figsize=(8, 6))\n",
    "outcome_counts.plot(kind='bar', color=['blue', 'orange'])\n",
    "plt.title('Distribution of Outcomes')\n",
    "plt.xlabel('Outcome')\n",
    "plt.ylabel('Number of Bidders')\n",
    "plt.show()"
   ]
  },
  {
   "cell_type": "code",
   "execution_count": 18,
   "id": "027b43b1-53aa-4135-b25b-870d51dcf8d6",
   "metadata": {},
   "outputs": [
    {
     "data": {
      "text/plain": [
       "<Figure size 1400x800 with 0 Axes>"
      ]
     },
     "metadata": {},
     "output_type": "display_data"
    }
   ],
   "source": [
    "# Visualizing the top 10 merchandise types with the highest number of bids per label (outcome)\n",
    "plt.figure(figsize=(14, 8))\n",
    "top_merchandise_by_label = merged_df.groupby(['outcome', 'merchandise']).size().nlargest(30).reset_index(name='count')\n"
   ]
  },
  {
   "cell_type": "code",
   "execution_count": 19,
   "id": "6af1945d-8b8d-4553-953d-299c1baa95db",
   "metadata": {},
   "outputs": [
    {
     "data": {
      "image/png": "[encoded data removed]",
      "text/plain": [
       "<Figure size 640x480 with 1 Axes>"
      ]
     },
     "metadata": {},
     "output_type": "display_data"
    }
   ],
   "source": [
    "sns.barplot(x='merchandise', y='count', hue='outcome', data=top_merchandise_by_label)\n",
    "plt.title('Top 30 Merchandise Types with the Highest Number of Bids by Label')\n",
    "plt.xlabel('Merchandise Type')\n",
    "plt.ylabel('Number of Bids')\n",
    "plt.legend(title='Label (Outcome)')\n",
    "plt.show()"
   ]
  },
  {
   "cell_type": "code",
   "execution_count": 20,
   "id": "10ecedb9-e231-4b64-8f97-6354ceef5810",
   "metadata": {},
   "outputs": [
    {
     "data": {
      "image/png": "[encoded data removed]",
      "text/plain": [
       "<Figure size 1400x800 with 1 Axes>"
      ]
     },
     "metadata": {},
     "output_type": "display_data"
    }
   ],
   "source": [
    "# Visualizing the top 10 countries with the highest number of bids\n",
    "plt.figure(figsize=(14, 8))\n",
    "top_countries = merged_df['country'].value_counts().nlargest(10)\n",
    "sns.barplot(x=top_countries.index, y=top_countries.values)\n",
    "plt.title('Top 10 Countries with the Highest Number of Bids')\n",
    "plt.xlabel('Country')\n",
    "plt.ylabel('Number of Bids')\n",
    "plt.show()"
   ]
  },
  {
   "cell_type": "code",
   "execution_count": 21,
   "id": "68e476a6-f90a-43bd-850d-352b392ab9f2",
   "metadata": {},
   "outputs": [
    {
     "data": {
      "text/plain": [
       "<Figure size 1400x800 with 0 Axes>"
      ]
     },
     "metadata": {},
     "output_type": "display_data"
    }
   ],
   "source": [
    "# Visualizing the top 40 countries with the highest number of bids by label (outcome)\n",
    "plt.figure(figsize=(14, 8))\n",
    "top_countries_by_label = merged_df.groupby(['outcome', 'country']).size().nlargest(40).reset_index(name='count')"
   ]
  },
  {
   "cell_type": "code",
   "execution_count": 22,
   "id": "880ae653-ef05-4407-9124-736e4539cb31",
   "metadata": {},
   "outputs": [
    {
     "data": {
      "image/png": "[encoded data removed]",
      "text/plain": [
       "<Figure size 640x480 with 1 Axes>"
      ]
     },
     "metadata": {},
     "output_type": "display_data"
    }
   ],
   "source": [
    "sns.barplot(x='country', y='count', hue='outcome', data=top_countries_by_label)\n",
    "plt.title('Top 40 Countries with the Highest Number of Bids by Label')\n",
    "plt.xlabel('Country')\n",
    "plt.ylabel('Number of Bids')\n",
    "plt.legend(title='Label (Outcome)')\n",
    "plt.show()"
   ]
  },
  {
   "cell_type": "code",
   "execution_count": null,
   "id": "2e3891a0-9a02-444e-bfe4-275cf62daab3",
   "metadata": {},
   "outputs": [],
   "source": [
    "# Output merged dataset\n",
    "# df = pd.DataFrame(data = merged_df)\n",
    "# df.to_csv(\"merged_df.csv\", index=False)"
   ]
  },
  {
   "cell_type": "markdown",
   "id": "99e87b21-224c-43bb-a7b7-a689a67ead8e",
   "metadata": {},
   "source": [
    "## Merge test dataset"
   ]
  },
  {
   "cell_type": "code",
   "execution_count": 3,
   "id": "4efd4a6e-59b9-415c-845d-73c1c45f3bfd",
   "metadata": {},
   "outputs": [],
   "source": [
    "# Load the datasets\n",
    "bid_set = pd.read_csv(\"datasets/bids.csv\")\n",
    "test_set = pd.read_csv(\"datasets/test.csv\")"
   ]
  },
  {
   "cell_type": "code",
   "execution_count": 4,
   "id": "2b0765cd-5c38-4f3a-8885-46ded12ddb4b",
   "metadata": {},
   "outputs": [
    {
     "name": "stdout",
     "output_type": "stream",
     "text": [
      "Bid Set Info:\n",
      "<class 'pandas.core.frame.DataFrame'>\n",
      "RangeIndex: 7656334 entries, 0 to 7656333\n",
      "Data columns (total 9 columns):\n",
      " #   Column       Dtype \n",
      "---  ------       ----- \n",
      " 0   bid_id       int64 \n",
      " 1   bidder_id    object\n",
      " 2   auction      object\n",
      " 3   merchandise  object\n",
      " 4   device       object\n",
      " 5   time         int64 \n",
      " 6   country      object\n",
      " 7   ip           object\n",
      " 8   url          object\n",
      "dtypes: int64(2), object(7)\n",
      "memory usage: 525.7+ MB\n",
      "\n",
      "Test Set Info:\n",
      "<class 'pandas.core.frame.DataFrame'>\n",
      "RangeIndex: 4700 entries, 0 to 4699\n",
      "Data columns (total 3 columns):\n",
      " #   Column           Non-Null Count  Dtype \n",
      "---  ------           --------------  ----- \n",
      " 0   bidder_id        4700 non-null   object\n",
      " 1   payment_account  4700 non-null   object\n",
      " 2   address          4700 non-null   object\n",
      "dtypes: object(3)\n",
      "memory usage: 110.3+ KB\n"
     ]
    }
   ],
   "source": [
    "# Check the info\n",
    "print(\"Bid Set Info:\")\n",
    "bid_set.info()\n",
    "print(\"\\nTest Set Info:\")\n",
    "test_set.info()"
   ]
  },
  {
   "cell_type": "code",
   "execution_count": 5,
   "id": "fbdfb64b-2b5b-4276-b9b9-e75a9c532fc7",
   "metadata": {},
   "outputs": [
    {
     "name": "stdout",
     "output_type": "stream",
     "text": [
      "   bid_id                              bidder_id auction merchandise  device  \\\n",
      "0       0  8dac2b259fd1c6d1120e519fb1ac14fbqvax8   ewmzr     jewelry  phone0   \n",
      "1       1  668d393e858e8126275433046bbd35c6tywop   aeqok   furniture  phone1   \n",
      "2       2  aa5f360084278b35d746fa6af3a7a1a5ra3xe   wa00e  home goods  phone2   \n",
      "3       3  3939ac3ef7d472a59a9c5f893dd3e39fh9ofi   jefix     jewelry  phone4   \n",
      "4       4  8393c48eaf4b8fa96886edc7cf27b372dsibi   jefix     jewelry  phone5   \n",
      "\n",
      "               time country              ip              url  \n",
      "0  9759243157894736      us   69.166.231.58  vasstdc27m7nks3  \n",
      "1  9759243157894736      in   50.201.125.84  jmqlhflrzwuay9c  \n",
      "2  9759243157894736      py  112.54.208.157  vasstdc27m7nks3  \n",
      "3  9759243157894736      in   18.99.175.133  vasstdc27m7nks3  \n",
      "4  9759243157894736      in    145.138.5.37  vasstdc27m7nks3   \n",
      "\n",
      "                               bidder_id  \\\n",
      "0  49bb5a3c944b8fc337981cc7a9ccae41u31d7   \n",
      "1  a921612b85a1494456e74c09393ccb65ylp4y   \n",
      "2  6b601e72a4d264dab9ace9d7b229b47479v6i   \n",
      "3  eaf0ed0afc9689779417274b4791726cn5udi   \n",
      "4  cdecd8d02ed8c6037e38042c7745f688mx5sf   \n",
      "\n",
      "                         payment_account  \\\n",
      "0  a3d2de7675556553a5f08e4c88d2c228htx90   \n",
      "1  a3d2de7675556553a5f08e4c88d2c228rs17i   \n",
      "2  925381cce086b8cc9594eee1c77edf665zjpl   \n",
      "3  a3d2de7675556553a5f08e4c88d2c228nclv5   \n",
      "4  a3d2de7675556553a5f08e4c88d2c228dtdkd   \n",
      "\n",
      "                                 address  \n",
      "0  5d9fa1b71f992e7c7a106ce4b07a0a754le7c  \n",
      "1  a3d2de7675556553a5f08e4c88d2c228klidn  \n",
      "2  a3d2de7675556553a5f08e4c88d2c228aght0  \n",
      "3  b5714de1fd69d4a0d2e39d59e53fe9e15vwat  \n",
      "4  c3b363a3c3b838d58c85acf0fc9964cb4pnfa   \n",
      "\n"
     ]
    }
   ],
   "source": [
    "# View the first few rows of the datasets\n",
    "print(bid_set.head(), \"\\n\")  \n",
    "print(test_set.head(), \"\\n\")"
   ]
  },
  {
   "cell_type": "code",
   "execution_count": 6,
   "id": "f88d66f0-14de-4d1f-8c89-e177c5bb210b",
   "metadata": {},
   "outputs": [
    {
     "name": "stdout",
     "output_type": "stream",
     "text": [
      "\n",
      "bid shape:\n",
      "(7656334, 9)\n",
      "\n",
      "test shape:\n",
      "(4700, 3)\n"
     ]
    }
   ],
   "source": [
    "# Check the shape of the datasets\n",
    "print(\"\\nbid shape:\")\n",
    "print(bid_set.shape)  # Show the shape of the DataFrame\n",
    "print(\"\\ntest shape:\")\n",
    "print(test_set.shape)  # Show the shape of the DataFrame"
   ]
  },
  {
   "cell_type": "code",
   "execution_count": 7,
   "id": "af7f3818-2f3c-4a34-9c98-238f6166800d",
   "metadata": {},
   "outputs": [
    {
     "name": "stdout",
     "output_type": "stream",
     "text": [
      "\n",
      "Missing Values in Bid Set:\n",
      " bid_id            0\n",
      "bidder_id         0\n",
      "auction           0\n",
      "merchandise       0\n",
      "device            0\n",
      "time              0\n",
      "country        8859\n",
      "ip                0\n",
      "url               0\n",
      "dtype: int64\n",
      "\n",
      "Missing Values in Train Set:\n",
      " bidder_id          0\n",
      "payment_account    0\n",
      "address            0\n",
      "dtype: int64\n"
     ]
    }
   ],
   "source": [
    "# Check for missing values\n",
    "print(\"\\nMissing Values in Bid Set:\\n\", bid_set.isnull().sum())\n",
    "print(\"\\nMissing Values in Train Set:\\n\", test_set.isnull().sum())"
   ]
  },
  {
   "cell_type": "code",
   "execution_count": 8,
   "id": "4ed07b09-402a-40fa-b421-408e9cd54f0b",
   "metadata": {},
   "outputs": [
    {
     "name": "stdout",
     "output_type": "stream",
     "text": [
      "\n",
      "Percentage of missing data in country column:  0.12%\n"
     ]
    }
   ],
   "source": [
    "missing_percent = bid_set['country'].isnull().mean()\n",
    "print(f\"\\nPercentage of missing data in country column: {missing_percent*100: .2f}%\")\n"
   ]
  },
  {
   "cell_type": "code",
   "execution_count": 9,
   "id": "f6b9387d-afdf-4ab6-8773-8c9c760a5361",
   "metadata": {},
   "outputs": [],
   "source": [
    "# filling missing values with the mode\n",
    "bid_set['country'] = bid_set['country'].fillna(bid_set['country'].mode()[0])"
   ]
  },
  {
   "cell_type": "code",
   "execution_count": 10,
   "id": "698c47c2-45e4-4ca1-a2c9-d67dbeeea42d",
   "metadata": {},
   "outputs": [
    {
     "name": "stdout",
     "output_type": "stream",
     "text": [
      "\n",
      "Missing Value count after merged: \n",
      " bidder_id           0\n",
      "payment_account     0\n",
      "address             0\n",
      "bid_id             70\n",
      "auction            70\n",
      "merchandise        70\n",
      "device             70\n",
      "time               70\n",
      "country            70\n",
      "ip                 70\n",
      "url                70\n",
      "dtype: int64\n"
     ]
    }
   ],
   "source": [
    "merged_df = pd.merge(test_set, bid_set, on='bidder_id', how='left')\n",
    "missing_values_count = merged_df.isnull().sum()\n",
    "print(\"\\nMissing Value count after merged: \\n\" , missing_values_count )"
   ]
  },
  {
   "cell_type": "code",
   "execution_count": 11,
   "id": "a856fea8-fe1e-436f-8194-b23d7022849d",
   "metadata": {},
   "outputs": [
    {
     "name": "stdout",
     "output_type": "stream",
     "text": [
      "\n",
      "Missing Values Ratio:\n",
      " bidder_id          0.000000\n",
      "payment_account    0.000000\n",
      "address            0.000000\n",
      "bid_id             0.001527\n",
      "auction            0.001527\n",
      "merchandise        0.001527\n",
      "device             0.001527\n",
      "time               0.001527\n",
      "country            0.001527\n",
      "ip                 0.001527\n",
      "url                0.001527\n",
      "dtype: float64\n"
     ]
    }
   ],
   "source": [
    "# Check the percentage of missing values in each column\n",
    "missing_values_ratio = merged_df.isnull().sum() / len(merged_df) * 100\n",
    "print(\"\\nMissing Values Ratio:\\n\", missing_values_ratio)"
   ]
  },
  {
   "cell_type": "code",
   "execution_count": 22,
   "id": "9d511fdd-3957-442c-a5f2-12bb1f7ed258",
   "metadata": {},
   "outputs": [
    {
     "data": {
      "text/plain": [
       "(70, 11)"
      ]
     },
     "execution_count": 22,
     "metadata": {},
     "output_type": "execute_result"
    }
   ],
   "source": [
    "# Extract the bidder_ids with missing information\n",
    "bidder_ids_na = merged_df[merged_df['bid_id'].isnull()]\n",
    "bidder_ids_na.shape"
   ]
  },
  {
   "cell_type": "code",
   "execution_count": 23,
   "id": "b396603a-b7d5-4f1e-8816-01593e66b3ca",
   "metadata": {},
   "outputs": [
    {
     "data": {
      "text/plain": [
       "59676     b24e3af20453813e821f5a22ff55e072tgton\n",
       "147427    65489e2734f03652a76bf139df96c479lopnf\n",
       "147828    3c465a8c5b93301383617e4c539c850aumt08\n",
       "174804    55a699bd3a83fe99db348c4302ee754ep392w\n",
       "209357    4b24254e994ad8abcc4b5b4020991960q7j30\n",
       "Name: bidder_id, dtype: object"
      ]
     },
     "execution_count": 23,
     "metadata": {},
     "output_type": "execute_result"
    }
   ],
   "source": [
    "bidder_ids_na = bidder_ids_na['bidder_id']\n",
    "bidder_ids_na.head()"
   ]
  },
  {
   "cell_type": "code",
   "execution_count": 24,
   "id": "d32cb7c4-51ec-4e51-a4ef-06be1f490f35",
   "metadata": {},
   "outputs": [
    {
     "data": {
      "text/plain": [
       "(70,)"
      ]
     },
     "execution_count": 24,
     "metadata": {},
     "output_type": "execute_result"
    }
   ],
   "source": [
    "bidder_ids_na.shape"
   ]
  },
  {
   "cell_type": "code",
   "execution_count": 25,
   "id": "0bf937ba-1535-41b1-819a-6eaffd2290b8",
   "metadata": {},
   "outputs": [],
   "source": [
    "# Output the bidder_ids_na for future use\n",
    "bidder_ids_na.to_csv(\"datasets/bidder_ids_na.csv\", index=False)"
   ]
  },
  {
   "cell_type": "code",
   "execution_count": 32,
   "id": "2538a1cf-a3ef-4fd1-98b7-cba59067112b",
   "metadata": {},
   "outputs": [
    {
     "name": "stdout",
     "output_type": "stream",
     "text": [
      "\n",
      "Missing Values Count after dropping rows with missing values:\n",
      " bidder_id          0\n",
      "payment_account    0\n",
      "address            0\n",
      "bid_id             0\n",
      "auction            0\n",
      "merchandise        0\n",
      "device             0\n",
      "time               0\n",
      "country            0\n",
      "ip                 0\n",
      "url                0\n",
      "dtype: int64\n"
     ]
    }
   ],
   "source": [
    "# for all the missing value observation, drop it\n",
    "merged_df = merged_df.dropna()\n",
    "missing_values_count_dropped = merged_df.isnull().sum()\n",
    "print(\"\\nMissing Values Count after dropping rows with missing values:\\n\", missing_values_count_dropped )"
   ]
  },
  {
   "cell_type": "code",
   "execution_count": 34,
   "id": "ad6926fa-d03b-47f8-9b79-d5f48be2af03",
   "metadata": {},
   "outputs": [
    {
     "data": {
      "text/html": [
       "<div>\n",
       "<style scoped>\n",
       "    .dataframe tbody tr th:only-of-type {\n",
       "        vertical-align: middle;\n",
       "    }\n",
       "\n",
       "    .dataframe tbody tr th {\n",
       "        vertical-align: top;\n",
       "    }\n",
       "\n",
       "    .dataframe thead th {\n",
       "        text-align: right;\n",
       "    }\n",
       "</style>\n",
       "<table border=\"1\" class=\"dataframe\">\n",
       "  <thead>\n",
       "    <tr style=\"text-align: right;\">\n",
       "      <th></th>\n",
       "      <th>bidder_id</th>\n",
       "      <th>payment_account</th>\n",
       "      <th>address</th>\n",
       "      <th>bid_id</th>\n",
       "      <th>auction</th>\n",
       "      <th>merchandise</th>\n",
       "      <th>device</th>\n",
       "      <th>time</th>\n",
       "      <th>country</th>\n",
       "      <th>ip</th>\n",
       "      <th>url</th>\n",
       "    </tr>\n",
       "  </thead>\n",
       "  <tbody>\n",
       "    <tr>\n",
       "      <th>0</th>\n",
       "      <td>49bb5a3c944b8fc337981cc7a9ccae41u31d7</td>\n",
       "      <td>a3d2de7675556553a5f08e4c88d2c228htx90</td>\n",
       "      <td>5d9fa1b71f992e7c7a106ce4b07a0a754le7c</td>\n",
       "      <td>2714053.0</td>\n",
       "      <td>cl3cf</td>\n",
       "      <td>home goods</td>\n",
       "      <td>phone169</td>\n",
       "      <td>9.633127e+15</td>\n",
       "      <td>us</td>\n",
       "      <td>128.59.117.159</td>\n",
       "      <td>8ohccaw6fhyc1gy</td>\n",
       "    </tr>\n",
       "    <tr>\n",
       "      <th>1</th>\n",
       "      <td>49bb5a3c944b8fc337981cc7a9ccae41u31d7</td>\n",
       "      <td>a3d2de7675556553a5f08e4c88d2c228htx90</td>\n",
       "      <td>5d9fa1b71f992e7c7a106ce4b07a0a754le7c</td>\n",
       "      <td>3785632.0</td>\n",
       "      <td>edggv</td>\n",
       "      <td>home goods</td>\n",
       "      <td>phone65</td>\n",
       "      <td>9.638908e+15</td>\n",
       "      <td>cn</td>\n",
       "      <td>254.171.78.220</td>\n",
       "      <td>vasstdc27m7nks3</td>\n",
       "    </tr>\n",
       "    <tr>\n",
       "      <th>2</th>\n",
       "      <td>49bb5a3c944b8fc337981cc7a9ccae41u31d7</td>\n",
       "      <td>a3d2de7675556553a5f08e4c88d2c228htx90</td>\n",
       "      <td>5d9fa1b71f992e7c7a106ce4b07a0a754le7c</td>\n",
       "      <td>5788255.0</td>\n",
       "      <td>jqx39</td>\n",
       "      <td>home goods</td>\n",
       "      <td>phone65</td>\n",
       "      <td>9.698805e+15</td>\n",
       "      <td>in</td>\n",
       "      <td>102.115.72.52</td>\n",
       "      <td>jezzg7twk0rqfuw</td>\n",
       "    </tr>\n",
       "    <tr>\n",
       "      <th>3</th>\n",
       "      <td>49bb5a3c944b8fc337981cc7a9ccae41u31d7</td>\n",
       "      <td>a3d2de7675556553a5f08e4c88d2c228htx90</td>\n",
       "      <td>5d9fa1b71f992e7c7a106ce4b07a0a754le7c</td>\n",
       "      <td>6575051.0</td>\n",
       "      <td>jqx39</td>\n",
       "      <td>home goods</td>\n",
       "      <td>phone65</td>\n",
       "      <td>9.703350e+15</td>\n",
       "      <td>cn</td>\n",
       "      <td>210.90.145.131</td>\n",
       "      <td>vasstdc27m7nks3</td>\n",
       "    </tr>\n",
       "    <tr>\n",
       "      <th>4</th>\n",
       "      <td>a921612b85a1494456e74c09393ccb65ylp4y</td>\n",
       "      <td>a3d2de7675556553a5f08e4c88d2c228rs17i</td>\n",
       "      <td>a3d2de7675556553a5f08e4c88d2c228klidn</td>\n",
       "      <td>2536026.0</td>\n",
       "      <td>h2nr3</td>\n",
       "      <td>sporting goods</td>\n",
       "      <td>phone640</td>\n",
       "      <td>9.632413e+15</td>\n",
       "      <td>az</td>\n",
       "      <td>85.169.46.232</td>\n",
       "      <td>vasstdc27m7nks3</td>\n",
       "    </tr>\n",
       "  </tbody>\n",
       "</table>\n",
       "</div>"
      ],
      "text/plain": [
       "                               bidder_id  \\\n",
       "0  49bb5a3c944b8fc337981cc7a9ccae41u31d7   \n",
       "1  49bb5a3c944b8fc337981cc7a9ccae41u31d7   \n",
       "2  49bb5a3c944b8fc337981cc7a9ccae41u31d7   \n",
       "3  49bb5a3c944b8fc337981cc7a9ccae41u31d7   \n",
       "4  a921612b85a1494456e74c09393ccb65ylp4y   \n",
       "\n",
       "                         payment_account  \\\n",
       "0  a3d2de7675556553a5f08e4c88d2c228htx90   \n",
       "1  a3d2de7675556553a5f08e4c88d2c228htx90   \n",
       "2  a3d2de7675556553a5f08e4c88d2c228htx90   \n",
       "3  a3d2de7675556553a5f08e4c88d2c228htx90   \n",
       "4  a3d2de7675556553a5f08e4c88d2c228rs17i   \n",
       "\n",
       "                                 address     bid_id auction     merchandise  \\\n",
       "0  5d9fa1b71f992e7c7a106ce4b07a0a754le7c  2714053.0   cl3cf      home goods   \n",
       "1  5d9fa1b71f992e7c7a106ce4b07a0a754le7c  3785632.0   edggv      home goods   \n",
       "2  5d9fa1b71f992e7c7a106ce4b07a0a754le7c  5788255.0   jqx39      home goods   \n",
       "3  5d9fa1b71f992e7c7a106ce4b07a0a754le7c  6575051.0   jqx39      home goods   \n",
       "4  a3d2de7675556553a5f08e4c88d2c228klidn  2536026.0   h2nr3  sporting goods   \n",
       "\n",
       "     device          time country              ip              url  \n",
       "0  phone169  9.633127e+15      us  128.59.117.159  8ohccaw6fhyc1gy  \n",
       "1   phone65  9.638908e+15      cn  254.171.78.220  vasstdc27m7nks3  \n",
       "2   phone65  9.698805e+15      in   102.115.72.52  jezzg7twk0rqfuw  \n",
       "3   phone65  9.703350e+15      cn  210.90.145.131  vasstdc27m7nks3  \n",
       "4  phone640  9.632413e+15      az   85.169.46.232  vasstdc27m7nks3  "
      ]
     },
     "execution_count": 34,
     "metadata": {},
     "output_type": "execute_result"
    }
   ],
   "source": [
    "merged_df.head()"
   ]
  },
  {
   "cell_type": "code",
   "execution_count": 36,
   "id": "39c0b713-ad58-4f75-81eb-f42eb7c7d305",
   "metadata": {},
   "outputs": [],
   "source": [
    "# Output merged dataset\n",
    "# merged_df.to_csv(\"datasets/test_merged_df.csv\", index=False)"
   ]
  }
 ],
 "metadata": {
  "kernelspec": {
   "display_name": "Python (.venv)",
   "language": "python",
   "name": ".venv"
  },
  "language_info": {
   "codemirror_mode": {
    "name": "ipython",
    "version": 3
   },
   "file_extension": ".py",
   "mimetype": "text/x-python",
   "name": "python",
   "nbconvert_exporter": "python",
   "pygments_lexer": "ipython3",
   "version": "3.12.10"
  }
 },
 "nbformat": 4,
 "nbformat_minor": 5
}
