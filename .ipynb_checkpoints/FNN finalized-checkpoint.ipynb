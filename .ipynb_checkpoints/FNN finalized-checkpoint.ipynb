{
 "cells": [
  {
   "cell_type": "markdown",
   "id": "98886474",
   "metadata": {},
   "source": [
    "Import Libraries"
   ]
  },
  {
   "cell_type": "code",
   "execution_count": 1,
   "id": "d4461d4a",
   "metadata": {},
   "outputs": [],
   "source": [
    "# Imports\n",
    "import pandas as pd\n",
    "import numpy as np\n",
    "import matplotlib.pyplot as plt\n",
    "import pickle\n",
    "import tensorflow as tf\n",
    "import seaborn as sns\n",
    "\n",
    "from sklearn.model_selection import train_test_split\n",
    "from sklearn.metrics import (\n",
    "    precision_score, recall_score, f1_score,\n",
    "    roc_auc_score, confusion_matrix, classification_report, ConfusionMatrixDisplay\n",
    ")\n",
    "from sklearn.preprocessing import StandardScaler\n",
    "from imblearn.over_sampling import SMOTE\n",
    "\n",
    "from tensorflow.keras.models import Sequential, load_model\n",
    "from tensorflow.keras.layers import Dense, Dropout, BatchNormalization, Input\n",
    "from tensorflow.keras.callbacks import EarlyStopping\n",
    "from tensorflow.keras.optimizers import Adam\n",
    "from tensorflow.keras.metrics import AUC\n",
    "\n",
    "\n",
    "import keras_tuner as kt"
   ]
  },
  {
   "cell_type": "markdown",
   "id": "91c66869",
   "metadata": {},
   "source": [
    "i got used this preprocessing logic code to come out preprocessed_train_data.csv, can just refer this"
   ]
  },
  {
   "cell_type": "code",
   "execution_count": null,
   "id": "d9c72b5b",
   "metadata": {},
   "outputs": [],
   "source": [
    "def load_and_feature_engineer(bid_path='bids.csv', train_path='train.csv'):\n",
    "    bid_set = pd.read_csv(bid_path)\n",
    "    train_set = pd.read_csv(train_path)\n",
    "\n",
    "    # Drop payment_account and address from bid_set before merging\n",
    "    bid_set = bid_set.drop(columns=['payment_account', 'address'], errors='ignore')\n",
    "\n",
    "    # Merge bids and train on bidder_id\n",
    "    merged_df = pd.merge(train_set, bid_set, on='bidder_id', how='left')\n",
    "    merged_df = merged_df.dropna()\n",
    "\n",
    "    merged_df['time'] = pd.to_datetime(merged_df['time'])\n",
    "\n",
    "    # Frequency encoding for high-cardinality features ip and url\n",
    "    ip_freq = merged_df['ip'].value_counts(normalize=True)\n",
    "    merged_df['ip_freq'] = merged_df['ip'].map(ip_freq)\n",
    "    url_freq = merged_df['url'].value_counts(normalize=True)\n",
    "    merged_df['url_freq'] = merged_df['url'].map(url_freq)\n",
    "\n",
    "    # Aggregate features per bidder, using frequency encoded ip_freq and url_freq\n",
    "    grouped = merged_df.groupby('bidder_id').agg({\n",
    "        'auction': 'nunique',\n",
    "        'country': 'nunique',\n",
    "        'merchandise': 'nunique',\n",
    "        'device': 'nunique',\n",
    "        'time': lambda x: (x.max() - x.min()).total_seconds(),\n",
    "        'ip_freq': 'mean',\n",
    "        'url_freq': 'mean'\n",
    "    }).reset_index()\n",
    "\n",
    "    # Number of bids per bidder\n",
    "    bids_per_bidder = merged_df.groupby('bidder_id').size().reset_index(name='num_bids')\n",
    "\n",
    "    # Majority outcome per bidder\n",
    "    majority_outcome = merged_df.groupby('bidder_id')['outcome'].agg(lambda x: x.mode()[0]).reset_index(name='outcome')\n",
    "\n",
    "    # Merge all features\n",
    "    featured_df = bids_per_bidder.merge(grouped, on='bidder_id')\n",
    "    featured_df = featured_df.merge(majority_outcome, on='bidder_id')\n",
    "\n",
    "    return featured_df"
   ]
  },
  {
   "cell_type": "markdown",
   "id": "67c47851",
   "metadata": {},
   "source": [
    "Load & Preprocess Data"
   ]
  },
  {
   "cell_type": "code",
   "execution_count": 2,
   "id": "680dcbd9",
   "metadata": {},
   "outputs": [
    {
     "name": "stdout",
     "output_type": "stream",
     "text": [
      "Original class distribution: [1880  103]\n",
      "Balanced class distribution: [1880 1880]\n"
     ]
    },
    {
     "name": "stderr",
     "output_type": "stream",
     "text": [
      "c:\\Users\\Michelle\\AppData\\Local\\Programs\\Python\\Python39\\lib\\site-packages\\sklearn\\base.py:474: FutureWarning: `BaseEstimator._validate_data` is deprecated in 1.6 and will be removed in 1.7. Use `sklearn.utils.validation.validate_data` instead. This function becomes public and is part of the scikit-learn developer API.\n",
      "  warnings.warn(\n"
     ]
    }
   ],
   "source": [
    "\n",
    "# Load and process the dataset\n",
    "df = pd.read_csv('preprocessed_train_data.csv')\n",
    "\n",
    "# Separate features and target\n",
    "bidder_ids = df['bidder_id']\n",
    "X = df.drop(columns=['bidder_id', 'outcome'])\n",
    "y = df['outcome'].astype(int)\n",
    "\n",
    "# Save feature column names\n",
    "feature_columns = X.columns.tolist()\n",
    "with open('feature_columns.pkl', 'wb') as f:\n",
    "    pickle.dump(feature_columns, f)\n",
    "\n",
    "# Print original class distribution\n",
    "print(f\"Original class distribution: {np.bincount(y)}\")\n",
    "\n",
    "# Balance classes with SMOTE\n",
    "smote = SMOTE(random_state=42)\n",
    "X_bal, y_bal = smote.fit_resample(X, y)\n",
    "print(f\"Balanced class distribution: {np.bincount(y_bal)}\")\n",
    "\n",
    "# Scale features\n",
    "scaler = StandardScaler()\n",
    "X_scaled = scaler.fit_transform(X_bal)\n",
    "\n",
    "# Save the scaler\n",
    "with open('scaler.pkl', 'wb') as f:\n",
    "    pickle.dump(scaler, f)\n",
    "\n",
    "# Split data into training and validation sets\n",
    "X_train, X_val, y_train, y_val = train_test_split(\n",
    "    X_scaled, y_bal, test_size=0.2, random_state=42, stratify=y_bal\n",
    ")\n"
   ]
  },
  {
   "cell_type": "markdown",
   "id": "2d40ab5a",
   "metadata": {},
   "source": [
    "Build FNN model"
   ]
  },
  {
   "cell_type": "code",
   "execution_count": 3,
   "id": "b4f759a9",
   "metadata": {},
   "outputs": [
    {
     "name": "stdout",
     "output_type": "stream",
     "text": [
      "\n",
      "Building FNN model...\n"
     ]
    },
    {
     "name": "stderr",
     "output_type": "stream",
     "text": [
      "c:\\Users\\Michelle\\AppData\\Local\\Programs\\Python\\Python39\\lib\\site-packages\\keras\\src\\layers\\core\\dense.py:87: UserWarning: Do not pass an `input_shape`/`input_dim` argument to a layer. When using Sequential models, prefer using an `Input(shape)` object as the first layer in the model instead.\n",
      "  super().__init__(activity_regularizer=activity_regularizer, **kwargs)\n"
     ]
    },
    {
     "data": {
      "text/html": [
       "<pre style=\"white-space:pre;overflow-x:auto;line-height:normal;font-family:Menlo,'DejaVu Sans Mono',consolas,'Courier New',monospace\"><span style=\"font-weight: bold\">Model: \"sequential\"</span>\n",
       "</pre>\n"
      ],
      "text/plain": [
       "\u001b[1mModel: \"sequential\"\u001b[0m\n"
      ]
     },
     "metadata": {},
     "output_type": "display_data"
    },
    {
     "data": {
      "text/html": [
       "<pre style=\"white-space:pre;overflow-x:auto;line-height:normal;font-family:Menlo,'DejaVu Sans Mono',consolas,'Courier New',monospace\">┏━━━━━━━━━━━━━━━━━━━━━━━━━━━━━━━━━┳━━━━━━━━━━━━━━━━━━━━━━━━┳━━━━━━━━━━━━━━━┓\n",
       "┃<span style=\"font-weight: bold\"> Layer (type)                    </span>┃<span style=\"font-weight: bold\"> Output Shape           </span>┃<span style=\"font-weight: bold\">       Param # </span>┃\n",
       "┡━━━━━━━━━━━━━━━━━━━━━━━━━━━━━━━━━╇━━━━━━━━━━━━━━━━━━━━━━━━╇━━━━━━━━━━━━━━━┩\n",
       "│ dense (<span style=\"color: #0087ff; text-decoration-color: #0087ff\">Dense</span>)                   │ (<span style=\"color: #00d7ff; text-decoration-color: #00d7ff\">None</span>, <span style=\"color: #00af00; text-decoration-color: #00af00\">128</span>)            │         <span style=\"color: #00af00; text-decoration-color: #00af00\">1,152</span> │\n",
       "├─────────────────────────────────┼────────────────────────┼───────────────┤\n",
       "│ batch_normalization             │ (<span style=\"color: #00d7ff; text-decoration-color: #00d7ff\">None</span>, <span style=\"color: #00af00; text-decoration-color: #00af00\">128</span>)            │           <span style=\"color: #00af00; text-decoration-color: #00af00\">512</span> │\n",
       "│ (<span style=\"color: #0087ff; text-decoration-color: #0087ff\">BatchNormalization</span>)            │                        │               │\n",
       "├─────────────────────────────────┼────────────────────────┼───────────────┤\n",
       "│ dropout (<span style=\"color: #0087ff; text-decoration-color: #0087ff\">Dropout</span>)               │ (<span style=\"color: #00d7ff; text-decoration-color: #00d7ff\">None</span>, <span style=\"color: #00af00; text-decoration-color: #00af00\">128</span>)            │             <span style=\"color: #00af00; text-decoration-color: #00af00\">0</span> │\n",
       "├─────────────────────────────────┼────────────────────────┼───────────────┤\n",
       "│ dense_1 (<span style=\"color: #0087ff; text-decoration-color: #0087ff\">Dense</span>)                 │ (<span style=\"color: #00d7ff; text-decoration-color: #00d7ff\">None</span>, <span style=\"color: #00af00; text-decoration-color: #00af00\">64</span>)             │         <span style=\"color: #00af00; text-decoration-color: #00af00\">8,256</span> │\n",
       "├─────────────────────────────────┼────────────────────────┼───────────────┤\n",
       "│ batch_normalization_1           │ (<span style=\"color: #00d7ff; text-decoration-color: #00d7ff\">None</span>, <span style=\"color: #00af00; text-decoration-color: #00af00\">64</span>)             │           <span style=\"color: #00af00; text-decoration-color: #00af00\">256</span> │\n",
       "│ (<span style=\"color: #0087ff; text-decoration-color: #0087ff\">BatchNormalization</span>)            │                        │               │\n",
       "├─────────────────────────────────┼────────────────────────┼───────────────┤\n",
       "│ dropout_1 (<span style=\"color: #0087ff; text-decoration-color: #0087ff\">Dropout</span>)             │ (<span style=\"color: #00d7ff; text-decoration-color: #00d7ff\">None</span>, <span style=\"color: #00af00; text-decoration-color: #00af00\">64</span>)             │             <span style=\"color: #00af00; text-decoration-color: #00af00\">0</span> │\n",
       "├─────────────────────────────────┼────────────────────────┼───────────────┤\n",
       "│ dense_2 (<span style=\"color: #0087ff; text-decoration-color: #0087ff\">Dense</span>)                 │ (<span style=\"color: #00d7ff; text-decoration-color: #00d7ff\">None</span>, <span style=\"color: #00af00; text-decoration-color: #00af00\">32</span>)             │         <span style=\"color: #00af00; text-decoration-color: #00af00\">2,080</span> │\n",
       "├─────────────────────────────────┼────────────────────────┼───────────────┤\n",
       "│ batch_normalization_2           │ (<span style=\"color: #00d7ff; text-decoration-color: #00d7ff\">None</span>, <span style=\"color: #00af00; text-decoration-color: #00af00\">32</span>)             │           <span style=\"color: #00af00; text-decoration-color: #00af00\">128</span> │\n",
       "│ (<span style=\"color: #0087ff; text-decoration-color: #0087ff\">BatchNormalization</span>)            │                        │               │\n",
       "├─────────────────────────────────┼────────────────────────┼───────────────┤\n",
       "│ dropout_2 (<span style=\"color: #0087ff; text-decoration-color: #0087ff\">Dropout</span>)             │ (<span style=\"color: #00d7ff; text-decoration-color: #00d7ff\">None</span>, <span style=\"color: #00af00; text-decoration-color: #00af00\">32</span>)             │             <span style=\"color: #00af00; text-decoration-color: #00af00\">0</span> │\n",
       "├─────────────────────────────────┼────────────────────────┼───────────────┤\n",
       "│ dense_3 (<span style=\"color: #0087ff; text-decoration-color: #0087ff\">Dense</span>)                 │ (<span style=\"color: #00d7ff; text-decoration-color: #00d7ff\">None</span>, <span style=\"color: #00af00; text-decoration-color: #00af00\">1</span>)              │            <span style=\"color: #00af00; text-decoration-color: #00af00\">33</span> │\n",
       "└─────────────────────────────────┴────────────────────────┴───────────────┘\n",
       "</pre>\n"
      ],
      "text/plain": [
       "┏━━━━━━━━━━━━━━━━━━━━━━━━━━━━━━━━━┳━━━━━━━━━━━━━━━━━━━━━━━━┳━━━━━━━━━━━━━━━┓\n",
       "┃\u001b[1m \u001b[0m\u001b[1mLayer (type)                   \u001b[0m\u001b[1m \u001b[0m┃\u001b[1m \u001b[0m\u001b[1mOutput Shape          \u001b[0m\u001b[1m \u001b[0m┃\u001b[1m \u001b[0m\u001b[1m      Param #\u001b[0m\u001b[1m \u001b[0m┃\n",
       "┡━━━━━━━━━━━━━━━━━━━━━━━━━━━━━━━━━╇━━━━━━━━━━━━━━━━━━━━━━━━╇━━━━━━━━━━━━━━━┩\n",
       "│ dense (\u001b[38;5;33mDense\u001b[0m)                   │ (\u001b[38;5;45mNone\u001b[0m, \u001b[38;5;34m128\u001b[0m)            │         \u001b[38;5;34m1,152\u001b[0m │\n",
       "├─────────────────────────────────┼────────────────────────┼───────────────┤\n",
       "│ batch_normalization             │ (\u001b[38;5;45mNone\u001b[0m, \u001b[38;5;34m128\u001b[0m)            │           \u001b[38;5;34m512\u001b[0m │\n",
       "│ (\u001b[38;5;33mBatchNormalization\u001b[0m)            │                        │               │\n",
       "├─────────────────────────────────┼────────────────────────┼───────────────┤\n",
       "│ dropout (\u001b[38;5;33mDropout\u001b[0m)               │ (\u001b[38;5;45mNone\u001b[0m, \u001b[38;5;34m128\u001b[0m)            │             \u001b[38;5;34m0\u001b[0m │\n",
       "├─────────────────────────────────┼────────────────────────┼───────────────┤\n",
       "│ dense_1 (\u001b[38;5;33mDense\u001b[0m)                 │ (\u001b[38;5;45mNone\u001b[0m, \u001b[38;5;34m64\u001b[0m)             │         \u001b[38;5;34m8,256\u001b[0m │\n",
       "├─────────────────────────────────┼────────────────────────┼───────────────┤\n",
       "│ batch_normalization_1           │ (\u001b[38;5;45mNone\u001b[0m, \u001b[38;5;34m64\u001b[0m)             │           \u001b[38;5;34m256\u001b[0m │\n",
       "│ (\u001b[38;5;33mBatchNormalization\u001b[0m)            │                        │               │\n",
       "├─────────────────────────────────┼────────────────────────┼───────────────┤\n",
       "│ dropout_1 (\u001b[38;5;33mDropout\u001b[0m)             │ (\u001b[38;5;45mNone\u001b[0m, \u001b[38;5;34m64\u001b[0m)             │             \u001b[38;5;34m0\u001b[0m │\n",
       "├─────────────────────────────────┼────────────────────────┼───────────────┤\n",
       "│ dense_2 (\u001b[38;5;33mDense\u001b[0m)                 │ (\u001b[38;5;45mNone\u001b[0m, \u001b[38;5;34m32\u001b[0m)             │         \u001b[38;5;34m2,080\u001b[0m │\n",
       "├─────────────────────────────────┼────────────────────────┼───────────────┤\n",
       "│ batch_normalization_2           │ (\u001b[38;5;45mNone\u001b[0m, \u001b[38;5;34m32\u001b[0m)             │           \u001b[38;5;34m128\u001b[0m │\n",
       "│ (\u001b[38;5;33mBatchNormalization\u001b[0m)            │                        │               │\n",
       "├─────────────────────────────────┼────────────────────────┼───────────────┤\n",
       "│ dropout_2 (\u001b[38;5;33mDropout\u001b[0m)             │ (\u001b[38;5;45mNone\u001b[0m, \u001b[38;5;34m32\u001b[0m)             │             \u001b[38;5;34m0\u001b[0m │\n",
       "├─────────────────────────────────┼────────────────────────┼───────────────┤\n",
       "│ dense_3 (\u001b[38;5;33mDense\u001b[0m)                 │ (\u001b[38;5;45mNone\u001b[0m, \u001b[38;5;34m1\u001b[0m)              │            \u001b[38;5;34m33\u001b[0m │\n",
       "└─────────────────────────────────┴────────────────────────┴───────────────┘\n"
      ]
     },
     "metadata": {},
     "output_type": "display_data"
    },
    {
     "data": {
      "text/html": [
       "<pre style=\"white-space:pre;overflow-x:auto;line-height:normal;font-family:Menlo,'DejaVu Sans Mono',consolas,'Courier New',monospace\"><span style=\"font-weight: bold\"> Total params: </span><span style=\"color: #00af00; text-decoration-color: #00af00\">12,417</span> (48.50 KB)\n",
       "</pre>\n"
      ],
      "text/plain": [
       "\u001b[1m Total params: \u001b[0m\u001b[38;5;34m12,417\u001b[0m (48.50 KB)\n"
      ]
     },
     "metadata": {},
     "output_type": "display_data"
    },
    {
     "data": {
      "text/html": [
       "<pre style=\"white-space:pre;overflow-x:auto;line-height:normal;font-family:Menlo,'DejaVu Sans Mono',consolas,'Courier New',monospace\"><span style=\"font-weight: bold\"> Trainable params: </span><span style=\"color: #00af00; text-decoration-color: #00af00\">11,969</span> (46.75 KB)\n",
       "</pre>\n"
      ],
      "text/plain": [
       "\u001b[1m Trainable params: \u001b[0m\u001b[38;5;34m11,969\u001b[0m (46.75 KB)\n"
      ]
     },
     "metadata": {},
     "output_type": "display_data"
    },
    {
     "data": {
      "text/html": [
       "<pre style=\"white-space:pre;overflow-x:auto;line-height:normal;font-family:Menlo,'DejaVu Sans Mono',consolas,'Courier New',monospace\"><span style=\"font-weight: bold\"> Non-trainable params: </span><span style=\"color: #00af00; text-decoration-color: #00af00\">448</span> (1.75 KB)\n",
       "</pre>\n"
      ],
      "text/plain": [
       "\u001b[1m Non-trainable params: \u001b[0m\u001b[38;5;34m448\u001b[0m (1.75 KB)\n"
      ]
     },
     "metadata": {},
     "output_type": "display_data"
    }
   ],
   "source": [
    "def build_fnn(input_shape):\n",
    "    model = Sequential([\n",
    "        Dense(128, activation='relu', input_shape=(input_shape,)),\n",
    "        BatchNormalization(),\n",
    "        Dropout(0.3),\n",
    "        \n",
    "        Dense(64, activation='relu'),\n",
    "        BatchNormalization(),\n",
    "        Dropout(0.2),\n",
    "        \n",
    "        Dense(32, activation='relu'),\n",
    "        BatchNormalization(),\n",
    "        Dropout(0.1),\n",
    "        \n",
    "        Dense(1, activation='sigmoid')\n",
    "    ])\n",
    "    \n",
    "    model.compile(\n",
    "        optimizer=Adam(learning_rate=0.001),\n",
    "        loss='binary_crossentropy',\n",
    "        metrics=[\n",
    "        'accuracy',\n",
    "        tf.keras.metrics.Precision(name='precision'),\n",
    "        tf.keras.metrics.Recall(name='recall'),\n",
    "        AUC(name='auc')\n",
    "    ]\n",
    "    )\n",
    "    return model\n",
    "\n",
    "print(\"\\nBuilding FNN model...\")\n",
    "model = build_fnn(X_train.shape[1])\n",
    "model.summary()"
   ]
  },
  {
   "cell_type": "markdown",
   "id": "badd4aea",
   "metadata": {},
   "source": [
    "Train Model"
   ]
  },
  {
   "cell_type": "code",
   "execution_count": 4,
   "id": "dec6d16d",
   "metadata": {},
   "outputs": [
    {
     "name": "stdout",
     "output_type": "stream",
     "text": [
      "\n",
      "Training model...\n",
      "Epoch 1/100\n",
      "\u001b[1m47/47\u001b[0m \u001b[32m━━━━━━━━━━━━━━━━━━━━\u001b[0m\u001b[37m\u001b[0m \u001b[1m2s\u001b[0m 11ms/step - accuracy: 0.6179 - auc: 0.6660 - loss: 0.7229 - precision: 0.6117 - recall: 0.6404 - val_accuracy: 0.6888 - val_auc: 0.8165 - val_loss: 0.6437 - val_precision: 0.6183 - val_recall: 0.9867\n",
      "Epoch 2/100\n",
      "\u001b[1m47/47\u001b[0m \u001b[32m━━━━━━━━━━━━━━━━━━━━\u001b[0m\u001b[37m\u001b[0m \u001b[1m0s\u001b[0m 3ms/step - accuracy: 0.6980 - auc: 0.7656 - loss: 0.5886 - precision: 0.6774 - recall: 0.7449 - val_accuracy: 0.5731 - val_auc: 0.8423 - val_loss: 0.6480 - val_precision: 0.5396 - val_recall: 0.9973\n",
      "Epoch 3/100\n",
      "\u001b[1m47/47\u001b[0m \u001b[32m━━━━━━━━━━━━━━━━━━━━\u001b[0m\u001b[37m\u001b[0m \u001b[1m0s\u001b[0m 3ms/step - accuracy: 0.7336 - auc: 0.8081 - loss: 0.5292 - precision: 0.7116 - recall: 0.7779 - val_accuracy: 0.5785 - val_auc: 0.8164 - val_loss: 0.6579 - val_precision: 0.5426 - val_recall: 1.0000\n",
      "Epoch 4/100\n",
      "\u001b[1m47/47\u001b[0m \u001b[32m━━━━━━━━━━━━━━━━━━━━\u001b[0m\u001b[37m\u001b[0m \u001b[1m0s\u001b[0m 4ms/step - accuracy: 0.7645 - auc: 0.8306 - loss: 0.5053 - precision: 0.7434 - recall: 0.7958 - val_accuracy: 0.5798 - val_auc: 0.8174 - val_loss: 0.6594 - val_precision: 0.5434 - val_recall: 1.0000\n",
      "Epoch 5/100\n",
      "\u001b[1m47/47\u001b[0m \u001b[32m━━━━━━━━━━━━━━━━━━━━\u001b[0m\u001b[37m\u001b[0m \u001b[1m0s\u001b[0m 4ms/step - accuracy: 0.7443 - auc: 0.8205 - loss: 0.5206 - precision: 0.7338 - recall: 0.7719 - val_accuracy: 0.6144 - val_auc: 0.8670 - val_loss: 0.6051 - val_precision: 0.5646 - val_recall: 1.0000\n",
      "Epoch 6/100\n",
      "\u001b[1m47/47\u001b[0m \u001b[32m━━━━━━━━━━━━━━━━━━━━\u001b[0m\u001b[37m\u001b[0m \u001b[1m0s\u001b[0m 4ms/step - accuracy: 0.7743 - auc: 0.8504 - loss: 0.4797 - precision: 0.7591 - recall: 0.8159 - val_accuracy: 0.6263 - val_auc: 0.8924 - val_loss: 0.5938 - val_precision: 0.5723 - val_recall: 1.0000\n",
      "Epoch 7/100\n",
      "\u001b[1m47/47\u001b[0m \u001b[32m━━━━━━━━━━━━━━━━━━━━\u001b[0m\u001b[37m\u001b[0m \u001b[1m0s\u001b[0m 3ms/step - accuracy: 0.7720 - auc: 0.8568 - loss: 0.4697 - precision: 0.7400 - recall: 0.8191 - val_accuracy: 0.6516 - val_auc: 0.9068 - val_loss: 0.5494 - val_precision: 0.5896 - val_recall: 0.9973\n",
      "Epoch 8/100\n",
      "\u001b[1m47/47\u001b[0m \u001b[32m━━━━━━━━━━━━━━━━━━━━\u001b[0m\u001b[37m\u001b[0m \u001b[1m0s\u001b[0m 3ms/step - accuracy: 0.7814 - auc: 0.8708 - loss: 0.4444 - precision: 0.7592 - recall: 0.8184 - val_accuracy: 0.6503 - val_auc: 0.8864 - val_loss: 0.5787 - val_precision: 0.5887 - val_recall: 0.9973\n",
      "Epoch 9/100\n",
      "\u001b[1m47/47\u001b[0m \u001b[32m━━━━━━━━━━━━━━━━━━━━\u001b[0m\u001b[37m\u001b[0m \u001b[1m0s\u001b[0m 3ms/step - accuracy: 0.7964 - auc: 0.8720 - loss: 0.4401 - precision: 0.7779 - recall: 0.8400 - val_accuracy: 0.7713 - val_auc: 0.9100 - val_loss: 0.4924 - val_precision: 0.6875 - val_recall: 0.9947\n",
      "Epoch 10/100\n",
      "\u001b[1m47/47\u001b[0m \u001b[32m━━━━━━━━━━━━━━━━━━━━\u001b[0m\u001b[37m\u001b[0m \u001b[1m0s\u001b[0m 3ms/step - accuracy: 0.8034 - auc: 0.8851 - loss: 0.4223 - precision: 0.7785 - recall: 0.8358 - val_accuracy: 0.7407 - val_auc: 0.9263 - val_loss: 0.4868 - val_precision: 0.6596 - val_recall: 0.9947\n",
      "Epoch 11/100\n",
      "\u001b[1m47/47\u001b[0m \u001b[32m━━━━━━━━━━━━━━━━━━━━\u001b[0m\u001b[37m\u001b[0m \u001b[1m0s\u001b[0m 3ms/step - accuracy: 0.8107 - auc: 0.8969 - loss: 0.4030 - precision: 0.7916 - recall: 0.8483 - val_accuracy: 0.8005 - val_auc: 0.9219 - val_loss: 0.4443 - val_precision: 0.7156 - val_recall: 0.9973\n",
      "Epoch 12/100\n",
      "\u001b[1m47/47\u001b[0m \u001b[32m━━━━━━━━━━━━━━━━━━━━\u001b[0m\u001b[37m\u001b[0m \u001b[1m0s\u001b[0m 4ms/step - accuracy: 0.7959 - auc: 0.8728 - loss: 0.4429 - precision: 0.7641 - recall: 0.8388 - val_accuracy: 0.7912 - val_auc: 0.9234 - val_loss: 0.4518 - val_precision: 0.7078 - val_recall: 0.9920\n",
      "Epoch 13/100\n",
      "\u001b[1m47/47\u001b[0m \u001b[32m━━━━━━━━━━━━━━━━━━━━\u001b[0m\u001b[37m\u001b[0m \u001b[1m0s\u001b[0m 6ms/step - accuracy: 0.8309 - auc: 0.9038 - loss: 0.3876 - precision: 0.8052 - recall: 0.8721 - val_accuracy: 0.8351 - val_auc: 0.9436 - val_loss: 0.3638 - val_precision: 0.7540 - val_recall: 0.9947\n",
      "Epoch 14/100\n",
      "\u001b[1m47/47\u001b[0m \u001b[32m━━━━━━━━━━━━━━━━━━━━\u001b[0m\u001b[37m\u001b[0m \u001b[1m0s\u001b[0m 5ms/step - accuracy: 0.8266 - auc: 0.9074 - loss: 0.3811 - precision: 0.8113 - recall: 0.8614 - val_accuracy: 0.8763 - val_auc: 0.9465 - val_loss: 0.3270 - val_precision: 0.8329 - val_recall: 0.9415\n",
      "Epoch 15/100\n",
      "\u001b[1m47/47\u001b[0m \u001b[32m━━━━━━━━━━━━━━━━━━━━\u001b[0m\u001b[37m\u001b[0m \u001b[1m0s\u001b[0m 4ms/step - accuracy: 0.8279 - auc: 0.9184 - loss: 0.3597 - precision: 0.8126 - recall: 0.8546 - val_accuracy: 0.8285 - val_auc: 0.9520 - val_loss: 0.3711 - val_precision: 0.7455 - val_recall: 0.9973\n",
      "Epoch 16/100\n",
      "\u001b[1m47/47\u001b[0m \u001b[32m━━━━━━━━━━━━━━━━━━━━\u001b[0m\u001b[37m\u001b[0m \u001b[1m0s\u001b[0m 5ms/step - accuracy: 0.8348 - auc: 0.9223 - loss: 0.3518 - precision: 0.8213 - recall: 0.8602 - val_accuracy: 0.8777 - val_auc: 0.9527 - val_loss: 0.2990 - val_precision: 0.8447 - val_recall: 0.9255\n",
      "Epoch 17/100\n",
      "\u001b[1m47/47\u001b[0m \u001b[32m━━━━━━━━━━━━━━━━━━━━\u001b[0m\u001b[37m\u001b[0m \u001b[1m0s\u001b[0m 3ms/step - accuracy: 0.8402 - auc: 0.9214 - loss: 0.3591 - precision: 0.8225 - recall: 0.8685 - val_accuracy: 0.8896 - val_auc: 0.9594 - val_loss: 0.2935 - val_precision: 0.8600 - val_recall: 0.9309\n",
      "Epoch 18/100\n",
      "\u001b[1m47/47\u001b[0m \u001b[32m━━━━━━━━━━━━━━━━━━━━\u001b[0m\u001b[37m\u001b[0m \u001b[1m0s\u001b[0m 3ms/step - accuracy: 0.8577 - auc: 0.9295 - loss: 0.3381 - precision: 0.8337 - recall: 0.8858 - val_accuracy: 0.8590 - val_auc: 0.9648 - val_loss: 0.3010 - val_precision: 0.7872 - val_recall: 0.9840\n",
      "Epoch 19/100\n",
      "\u001b[1m47/47\u001b[0m \u001b[32m━━━━━━━━━━━━━━━━━━━━\u001b[0m\u001b[37m\u001b[0m \u001b[1m0s\u001b[0m 4ms/step - accuracy: 0.8568 - auc: 0.9265 - loss: 0.3449 - precision: 0.8409 - recall: 0.8771 - val_accuracy: 0.8936 - val_auc: 0.9674 - val_loss: 0.2755 - val_precision: 0.8524 - val_recall: 0.9521\n",
      "Epoch 20/100\n",
      "\u001b[1m47/47\u001b[0m \u001b[32m━━━━━━━━━━━━━━━━━━━━\u001b[0m\u001b[37m\u001b[0m \u001b[1m0s\u001b[0m 4ms/step - accuracy: 0.8534 - auc: 0.9284 - loss: 0.3402 - precision: 0.8432 - recall: 0.8682 - val_accuracy: 0.8777 - val_auc: 0.9593 - val_loss: 0.2700 - val_precision: 0.8515 - val_recall: 0.9149\n",
      "Epoch 21/100\n",
      "\u001b[1m47/47\u001b[0m \u001b[32m━━━━━━━━━━━━━━━━━━━━\u001b[0m\u001b[37m\u001b[0m \u001b[1m0s\u001b[0m 4ms/step - accuracy: 0.8419 - auc: 0.9263 - loss: 0.3438 - precision: 0.8358 - recall: 0.8550 - val_accuracy: 0.8923 - val_auc: 0.9613 - val_loss: 0.2579 - val_precision: 0.8892 - val_recall: 0.8963\n",
      "Epoch 22/100\n",
      "\u001b[1m47/47\u001b[0m \u001b[32m━━━━━━━━━━━━━━━━━━━━\u001b[0m\u001b[37m\u001b[0m \u001b[1m0s\u001b[0m 4ms/step - accuracy: 0.8549 - auc: 0.9340 - loss: 0.3261 - precision: 0.8524 - recall: 0.8597 - val_accuracy: 0.8710 - val_auc: 0.9720 - val_loss: 0.2694 - val_precision: 0.8039 - val_recall: 0.9814\n",
      "Epoch 23/100\n",
      "\u001b[1m47/47\u001b[0m \u001b[32m━━━━━━━━━━━━━━━━━━━━\u001b[0m\u001b[37m\u001b[0m \u001b[1m0s\u001b[0m 3ms/step - accuracy: 0.8671 - auc: 0.9389 - loss: 0.3107 - precision: 0.8511 - recall: 0.8893 - val_accuracy: 0.8949 - val_auc: 0.9663 - val_loss: 0.2474 - val_precision: 0.8759 - val_recall: 0.9202\n",
      "Epoch 24/100\n",
      "\u001b[1m47/47\u001b[0m \u001b[32m━━━━━━━━━━━━━━━━━━━━\u001b[0m\u001b[37m\u001b[0m \u001b[1m0s\u001b[0m 3ms/step - accuracy: 0.8769 - auc: 0.9496 - loss: 0.2870 - precision: 0.8795 - recall: 0.8735 - val_accuracy: 0.8923 - val_auc: 0.9660 - val_loss: 0.2545 - val_precision: 0.8697 - val_recall: 0.9229\n",
      "Epoch 25/100\n",
      "\u001b[1m47/47\u001b[0m \u001b[32m━━━━━━━━━━━━━━━━━━━━\u001b[0m\u001b[37m\u001b[0m \u001b[1m0s\u001b[0m 4ms/step - accuracy: 0.8829 - auc: 0.9479 - loss: 0.2925 - precision: 0.8698 - recall: 0.8931 - val_accuracy: 0.8723 - val_auc: 0.9746 - val_loss: 0.2962 - val_precision: 0.7966 - val_recall: 1.0000\n",
      "Epoch 26/100\n",
      "\u001b[1m47/47\u001b[0m \u001b[32m━━━━━━━━━━━━━━━━━━━━\u001b[0m\u001b[37m\u001b[0m \u001b[1m0s\u001b[0m 4ms/step - accuracy: 0.8616 - auc: 0.9425 - loss: 0.3039 - precision: 0.8431 - recall: 0.8860 - val_accuracy: 0.8457 - val_auc: 0.9746 - val_loss: 0.3173 - val_precision: 0.7675 - val_recall: 0.9920\n",
      "Epoch 27/100\n",
      "\u001b[1m47/47\u001b[0m \u001b[32m━━━━━━━━━━━━━━━━━━━━\u001b[0m\u001b[37m\u001b[0m \u001b[1m0s\u001b[0m 5ms/step - accuracy: 0.8740 - auc: 0.9496 - loss: 0.2865 - precision: 0.8606 - recall: 0.8899 - val_accuracy: 0.8989 - val_auc: 0.9673 - val_loss: 0.2424 - val_precision: 0.8827 - val_recall: 0.9202\n",
      "Epoch 28/100\n",
      "\u001b[1m47/47\u001b[0m \u001b[32m━━━━━━━━━━━━━━━━━━━━\u001b[0m\u001b[37m\u001b[0m \u001b[1m0s\u001b[0m 3ms/step - accuracy: 0.8731 - auc: 0.9468 - loss: 0.2933 - precision: 0.8548 - recall: 0.8955 - val_accuracy: 0.8710 - val_auc: 0.9528 - val_loss: 0.2921 - val_precision: 0.8801 - val_recall: 0.8590\n",
      "Epoch 29/100\n",
      "\u001b[1m47/47\u001b[0m \u001b[32m━━━━━━━━━━━━━━━━━━━━\u001b[0m\u001b[37m\u001b[0m \u001b[1m0s\u001b[0m 3ms/step - accuracy: 0.8770 - auc: 0.9502 - loss: 0.2849 - precision: 0.8585 - recall: 0.8985 - val_accuracy: 0.8644 - val_auc: 0.9770 - val_loss: 0.2792 - val_precision: 0.7890 - val_recall: 0.9947\n",
      "Epoch 30/100\n",
      "\u001b[1m47/47\u001b[0m \u001b[32m━━━━━━━━━━━━━━━━━━━━\u001b[0m\u001b[37m\u001b[0m \u001b[1m0s\u001b[0m 3ms/step - accuracy: 0.8765 - auc: 0.9524 - loss: 0.2788 - precision: 0.8808 - recall: 0.8809 - val_accuracy: 0.9029 - val_auc: 0.9784 - val_loss: 0.2170 - val_precision: 0.8704 - val_recall: 0.9468\n",
      "Epoch 31/100\n",
      "\u001b[1m47/47\u001b[0m \u001b[32m━━━━━━━━━━━━━━━━━━━━\u001b[0m\u001b[37m\u001b[0m \u001b[1m0s\u001b[0m 4ms/step - accuracy: 0.8825 - auc: 0.9529 - loss: 0.2776 - precision: 0.8709 - recall: 0.8963 - val_accuracy: 0.8936 - val_auc: 0.9799 - val_loss: 0.2152 - val_precision: 0.8318 - val_recall: 0.9867\n",
      "Epoch 32/100\n",
      "\u001b[1m47/47\u001b[0m \u001b[32m━━━━━━━━━━━━━━━━━━━━\u001b[0m\u001b[37m\u001b[0m \u001b[1m0s\u001b[0m 4ms/step - accuracy: 0.8689 - auc: 0.9515 - loss: 0.2786 - precision: 0.8734 - recall: 0.8688 - val_accuracy: 0.9162 - val_auc: 0.9794 - val_loss: 0.2001 - val_precision: 0.9003 - val_recall: 0.9362\n",
      "Epoch 33/100\n",
      "\u001b[1m47/47\u001b[0m \u001b[32m━━━━━━━━━━━━━━━━━━━━\u001b[0m\u001b[37m\u001b[0m \u001b[1m0s\u001b[0m 3ms/step - accuracy: 0.8849 - auc: 0.9596 - loss: 0.2575 - precision: 0.8761 - recall: 0.8947 - val_accuracy: 0.8949 - val_auc: 0.9685 - val_loss: 0.2374 - val_precision: 0.8817 - val_recall: 0.9122\n",
      "Epoch 34/100\n",
      "\u001b[1m47/47\u001b[0m \u001b[32m━━━━━━━━━━━━━━━━━━━━\u001b[0m\u001b[37m\u001b[0m \u001b[1m0s\u001b[0m 4ms/step - accuracy: 0.8866 - auc: 0.9549 - loss: 0.2722 - precision: 0.8699 - recall: 0.9097 - val_accuracy: 0.9056 - val_auc: 0.9768 - val_loss: 0.2038 - val_precision: 0.9003 - val_recall: 0.9122\n",
      "Epoch 35/100\n",
      "\u001b[1m47/47\u001b[0m \u001b[32m━━━━━━━━━━━━━━━━━━━━\u001b[0m\u001b[37m\u001b[0m \u001b[1m0s\u001b[0m 4ms/step - accuracy: 0.9099 - auc: 0.9665 - loss: 0.2347 - precision: 0.9025 - recall: 0.9193 - val_accuracy: 0.9069 - val_auc: 0.9737 - val_loss: 0.2122 - val_precision: 0.9069 - val_recall: 0.9069\n",
      "Epoch 36/100\n",
      "\u001b[1m47/47\u001b[0m \u001b[32m━━━━━━━━━━━━━━━━━━━━\u001b[0m\u001b[37m\u001b[0m \u001b[1m0s\u001b[0m 4ms/step - accuracy: 0.8951 - auc: 0.9648 - loss: 0.2390 - precision: 0.8952 - recall: 0.9010 - val_accuracy: 0.9122 - val_auc: 0.9816 - val_loss: 0.1953 - val_precision: 0.8856 - val_recall: 0.9468\n",
      "Epoch 37/100\n",
      "\u001b[1m47/47\u001b[0m \u001b[32m━━━━━━━━━━━━━━━━━━━━\u001b[0m\u001b[37m\u001b[0m \u001b[1m0s\u001b[0m 3ms/step - accuracy: 0.8895 - auc: 0.9589 - loss: 0.2591 - precision: 0.8764 - recall: 0.9024 - val_accuracy: 0.9176 - val_auc: 0.9807 - val_loss: 0.1867 - val_precision: 0.9153 - val_recall: 0.9202\n",
      "Epoch 38/100\n",
      "\u001b[1m47/47\u001b[0m \u001b[32m━━━━━━━━━━━━━━━━━━━━\u001b[0m\u001b[37m\u001b[0m \u001b[1m0s\u001b[0m 3ms/step - accuracy: 0.8983 - auc: 0.9662 - loss: 0.2362 - precision: 0.9026 - recall: 0.8940 - val_accuracy: 0.8883 - val_auc: 0.9650 - val_loss: 0.2629 - val_precision: 0.9124 - val_recall: 0.8590\n",
      "Epoch 39/100\n",
      "\u001b[1m47/47\u001b[0m \u001b[32m━━━━━━━━━━━━━━━━━━━━\u001b[0m\u001b[37m\u001b[0m \u001b[1m0s\u001b[0m 3ms/step - accuracy: 0.8868 - auc: 0.9616 - loss: 0.2491 - precision: 0.8873 - recall: 0.8911 - val_accuracy: 0.9149 - val_auc: 0.9788 - val_loss: 0.1918 - val_precision: 0.9105 - val_recall: 0.9202\n",
      "Epoch 40/100\n",
      "\u001b[1m47/47\u001b[0m \u001b[32m━━━━━━━━━━━━━━━━━━━━\u001b[0m\u001b[37m\u001b[0m \u001b[1m0s\u001b[0m 3ms/step - accuracy: 0.9009 - auc: 0.9634 - loss: 0.2433 - precision: 0.8980 - recall: 0.9043 - val_accuracy: 0.9082 - val_auc: 0.9784 - val_loss: 0.1911 - val_precision: 0.9029 - val_recall: 0.9149\n",
      "Epoch 41/100\n",
      "\u001b[1m47/47\u001b[0m \u001b[32m━━━━━━━━━━━━━━━━━━━━\u001b[0m\u001b[37m\u001b[0m \u001b[1m0s\u001b[0m 3ms/step - accuracy: 0.9038 - auc: 0.9650 - loss: 0.2410 - precision: 0.9062 - recall: 0.9064 - val_accuracy: 0.9149 - val_auc: 0.9807 - val_loss: 0.1928 - val_precision: 0.9041 - val_recall: 0.9282\n",
      "Epoch 42/100\n",
      "\u001b[1m47/47\u001b[0m \u001b[32m━━━━━━━━━━━━━━━━━━━━\u001b[0m\u001b[37m\u001b[0m \u001b[1m0s\u001b[0m 4ms/step - accuracy: 0.8956 - auc: 0.9658 - loss: 0.2375 - precision: 0.9021 - recall: 0.8913 - val_accuracy: 0.9136 - val_auc: 0.9770 - val_loss: 0.1960 - val_precision: 0.9191 - val_recall: 0.9069\n",
      "Epoch 43/100\n",
      "\u001b[1m47/47\u001b[0m \u001b[32m━━━━━━━━━━━━━━━━━━━━\u001b[0m\u001b[37m\u001b[0m \u001b[1m0s\u001b[0m 3ms/step - accuracy: 0.8847 - auc: 0.9549 - loss: 0.2724 - precision: 0.8970 - recall: 0.8750 - val_accuracy: 0.9189 - val_auc: 0.9803 - val_loss: 0.1866 - val_precision: 0.9156 - val_recall: 0.9229\n",
      "Epoch 44/100\n",
      "\u001b[1m47/47\u001b[0m \u001b[32m━━━━━━━━━━━━━━━━━━━━\u001b[0m\u001b[37m\u001b[0m \u001b[1m0s\u001b[0m 3ms/step - accuracy: 0.8926 - auc: 0.9633 - loss: 0.2443 - precision: 0.8827 - recall: 0.9005 - val_accuracy: 0.9162 - val_auc: 0.9798 - val_loss: 0.1874 - val_precision: 0.9196 - val_recall: 0.9122\n",
      "Epoch 45/100\n",
      "\u001b[1m47/47\u001b[0m \u001b[32m━━━━━━━━━━━━━━━━━━━━\u001b[0m\u001b[37m\u001b[0m \u001b[1m0s\u001b[0m 3ms/step - accuracy: 0.8892 - auc: 0.9608 - loss: 0.2542 - precision: 0.8933 - recall: 0.8855 - val_accuracy: 0.9082 - val_auc: 0.9772 - val_loss: 0.1991 - val_precision: 0.9050 - val_recall: 0.9122\n",
      "Epoch 46/100\n",
      "\u001b[1m47/47\u001b[0m \u001b[32m━━━━━━━━━━━━━━━━━━━━\u001b[0m\u001b[37m\u001b[0m \u001b[1m0s\u001b[0m 3ms/step - accuracy: 0.8901 - auc: 0.9655 - loss: 0.2379 - precision: 0.8727 - recall: 0.9082 - val_accuracy: 0.9162 - val_auc: 0.9805 - val_loss: 0.1958 - val_precision: 0.8922 - val_recall: 0.9468\n",
      "Epoch 47/100\n",
      "\u001b[1m47/47\u001b[0m \u001b[32m━━━━━━━━━━━━━━━━━━━━\u001b[0m\u001b[37m\u001b[0m \u001b[1m0s\u001b[0m 3ms/step - accuracy: 0.8961 - auc: 0.9676 - loss: 0.2300 - precision: 0.8809 - recall: 0.9143 - val_accuracy: 0.9189 - val_auc: 0.9809 - val_loss: 0.1817 - val_precision: 0.9200 - val_recall: 0.9176\n",
      "Epoch 48/100\n",
      "\u001b[1m47/47\u001b[0m \u001b[32m━━━━━━━━━━━━━━━━━━━━\u001b[0m\u001b[37m\u001b[0m \u001b[1m0s\u001b[0m 3ms/step - accuracy: 0.9027 - auc: 0.9670 - loss: 0.2315 - precision: 0.8959 - recall: 0.9091 - val_accuracy: 0.9189 - val_auc: 0.9781 - val_loss: 0.1910 - val_precision: 0.9200 - val_recall: 0.9176\n",
      "Epoch 49/100\n",
      "\u001b[1m47/47\u001b[0m \u001b[32m━━━━━━━━━━━━━━━━━━━━\u001b[0m\u001b[37m\u001b[0m \u001b[1m0s\u001b[0m 4ms/step - accuracy: 0.9117 - auc: 0.9698 - loss: 0.2216 - precision: 0.9061 - recall: 0.9167 - val_accuracy: 0.8949 - val_auc: 0.9825 - val_loss: 0.1911 - val_precision: 0.8367 - val_recall: 0.9814\n",
      "Epoch 50/100\n",
      "\u001b[1m47/47\u001b[0m \u001b[32m━━━━━━━━━━━━━━━━━━━━\u001b[0m\u001b[37m\u001b[0m \u001b[1m0s\u001b[0m 4ms/step - accuracy: 0.9058 - auc: 0.9710 - loss: 0.2175 - precision: 0.8998 - recall: 0.9131 - val_accuracy: 0.9215 - val_auc: 0.9822 - val_loss: 0.1785 - val_precision: 0.9138 - val_recall: 0.9309\n",
      "Epoch 51/100\n",
      "\u001b[1m47/47\u001b[0m \u001b[32m━━━━━━━━━━━━━━━━━━━━\u001b[0m\u001b[37m\u001b[0m \u001b[1m0s\u001b[0m 3ms/step - accuracy: 0.8878 - auc: 0.9649 - loss: 0.2409 - precision: 0.8960 - recall: 0.8809 - val_accuracy: 0.9136 - val_auc: 0.9790 - val_loss: 0.1866 - val_precision: 0.9147 - val_recall: 0.9122\n",
      "Epoch 52/100\n",
      "\u001b[1m47/47\u001b[0m \u001b[32m━━━━━━━━━━━━━━━━━━━━\u001b[0m\u001b[37m\u001b[0m \u001b[1m0s\u001b[0m 3ms/step - accuracy: 0.9089 - auc: 0.9699 - loss: 0.2217 - precision: 0.9145 - recall: 0.9073 - val_accuracy: 0.9229 - val_auc: 0.9826 - val_loss: 0.1703 - val_precision: 0.9229 - val_recall: 0.9229\n",
      "Epoch 53/100\n",
      "\u001b[1m47/47\u001b[0m \u001b[32m━━━━━━━━━━━━━━━━━━━━\u001b[0m\u001b[37m\u001b[0m \u001b[1m0s\u001b[0m 4ms/step - accuracy: 0.9149 - auc: 0.9735 - loss: 0.2089 - precision: 0.9186 - recall: 0.9157 - val_accuracy: 0.9255 - val_auc: 0.9836 - val_loss: 0.1682 - val_precision: 0.9167 - val_recall: 0.9362\n",
      "Epoch 54/100\n",
      "\u001b[1m47/47\u001b[0m \u001b[32m━━━━━━━━━━━━━━━━━━━━\u001b[0m\u001b[37m\u001b[0m \u001b[1m0s\u001b[0m 3ms/step - accuracy: 0.9042 - auc: 0.9676 - loss: 0.2292 - precision: 0.9075 - recall: 0.9062 - val_accuracy: 0.8976 - val_auc: 0.9690 - val_loss: 0.2561 - val_precision: 0.9211 - val_recall: 0.8697\n",
      "Epoch 55/100\n",
      "\u001b[1m47/47\u001b[0m \u001b[32m━━━━━━━━━━━━━━━━━━━━\u001b[0m\u001b[37m\u001b[0m \u001b[1m0s\u001b[0m 3ms/step - accuracy: 0.8929 - auc: 0.9650 - loss: 0.2402 - precision: 0.8884 - recall: 0.8944 - val_accuracy: 0.9176 - val_auc: 0.9818 - val_loss: 0.1872 - val_precision: 0.8965 - val_recall: 0.9441\n",
      "Epoch 56/100\n",
      "\u001b[1m47/47\u001b[0m \u001b[32m━━━━━━━━━━━━━━━━━━━━\u001b[0m\u001b[37m\u001b[0m \u001b[1m0s\u001b[0m 3ms/step - accuracy: 0.9088 - auc: 0.9705 - loss: 0.2191 - precision: 0.9110 - recall: 0.9101 - val_accuracy: 0.9202 - val_auc: 0.9835 - val_loss: 0.1752 - val_precision: 0.9072 - val_recall: 0.9362\n",
      "Epoch 57/100\n",
      "\u001b[1m47/47\u001b[0m \u001b[32m━━━━━━━━━━━━━━━━━━━━\u001b[0m\u001b[37m\u001b[0m \u001b[1m0s\u001b[0m 3ms/step - accuracy: 0.9075 - auc: 0.9703 - loss: 0.2212 - precision: 0.9053 - recall: 0.9065 - val_accuracy: 0.9229 - val_auc: 0.9826 - val_loss: 0.1818 - val_precision: 0.9036 - val_recall: 0.9468\n",
      "Epoch 58/100\n",
      "\u001b[1m47/47\u001b[0m \u001b[32m━━━━━━━━━━━━━━━━━━━━\u001b[0m\u001b[37m\u001b[0m \u001b[1m0s\u001b[0m 3ms/step - accuracy: 0.9006 - auc: 0.9714 - loss: 0.2196 - precision: 0.9129 - recall: 0.8960 - val_accuracy: 0.9282 - val_auc: 0.9844 - val_loss: 0.1665 - val_precision: 0.9423 - val_recall: 0.9122\n",
      "Epoch 59/100\n",
      "\u001b[1m47/47\u001b[0m \u001b[32m━━━━━━━━━━━━━━━━━━━━\u001b[0m\u001b[37m\u001b[0m \u001b[1m0s\u001b[0m 3ms/step - accuracy: 0.9095 - auc: 0.9710 - loss: 0.2164 - precision: 0.9131 - recall: 0.9065 - val_accuracy: 0.9295 - val_auc: 0.9840 - val_loss: 0.1654 - val_precision: 0.9449 - val_recall: 0.9122\n",
      "Epoch 60/100\n",
      "\u001b[1m47/47\u001b[0m \u001b[32m━━━━━━━━━━━━━━━━━━━━\u001b[0m\u001b[37m\u001b[0m \u001b[1m0s\u001b[0m 3ms/step - accuracy: 0.9000 - auc: 0.9674 - loss: 0.2285 - precision: 0.8935 - recall: 0.9087 - val_accuracy: 0.9269 - val_auc: 0.9838 - val_loss: 0.1717 - val_precision: 0.9169 - val_recall: 0.9388\n",
      "Epoch 61/100\n",
      "\u001b[1m47/47\u001b[0m \u001b[32m━━━━━━━━━━━━━━━━━━━━\u001b[0m\u001b[37m\u001b[0m \u001b[1m0s\u001b[0m 4ms/step - accuracy: 0.9172 - auc: 0.9765 - loss: 0.1964 - precision: 0.9189 - recall: 0.9179 - val_accuracy: 0.9269 - val_auc: 0.9835 - val_loss: 0.1630 - val_precision: 0.9280 - val_recall: 0.9255\n",
      "Epoch 62/100\n",
      "\u001b[1m47/47\u001b[0m \u001b[32m━━━━━━━━━━━━━━━━━━━━\u001b[0m\u001b[37m\u001b[0m \u001b[1m0s\u001b[0m 3ms/step - accuracy: 0.9025 - auc: 0.9660 - loss: 0.2355 - precision: 0.9066 - recall: 0.8991 - val_accuracy: 0.9295 - val_auc: 0.9839 - val_loss: 0.1698 - val_precision: 0.9353 - val_recall: 0.9229\n",
      "Epoch 63/100\n",
      "\u001b[1m47/47\u001b[0m \u001b[32m━━━━━━━━━━━━━━━━━━━━\u001b[0m\u001b[37m\u001b[0m \u001b[1m0s\u001b[0m 3ms/step - accuracy: 0.9075 - auc: 0.9699 - loss: 0.2206 - precision: 0.9041 - recall: 0.9076 - val_accuracy: 0.9003 - val_auc: 0.9847 - val_loss: 0.1914 - val_precision: 0.8413 - val_recall: 0.9867\n",
      "Epoch 64/100\n",
      "\u001b[1m47/47\u001b[0m \u001b[32m━━━━━━━━━━━━━━━━━━━━\u001b[0m\u001b[37m\u001b[0m \u001b[1m0s\u001b[0m 3ms/step - accuracy: 0.9179 - auc: 0.9756 - loss: 0.1986 - precision: 0.9111 - recall: 0.9259 - val_accuracy: 0.9348 - val_auc: 0.9851 - val_loss: 0.1609 - val_precision: 0.9407 - val_recall: 0.9282\n",
      "Epoch 65/100\n",
      "\u001b[1m47/47\u001b[0m \u001b[32m━━━━━━━━━━━━━━━━━━━━\u001b[0m\u001b[37m\u001b[0m \u001b[1m0s\u001b[0m 3ms/step - accuracy: 0.9101 - auc: 0.9721 - loss: 0.2128 - precision: 0.8990 - recall: 0.9216 - val_accuracy: 0.9269 - val_auc: 0.9818 - val_loss: 0.1753 - val_precision: 0.9471 - val_recall: 0.9043\n",
      "Epoch 66/100\n",
      "\u001b[1m47/47\u001b[0m \u001b[32m━━━━━━━━━━━━━━━━━━━━\u001b[0m\u001b[37m\u001b[0m \u001b[1m0s\u001b[0m 3ms/step - accuracy: 0.8987 - auc: 0.9676 - loss: 0.2341 - precision: 0.9192 - recall: 0.8846 - val_accuracy: 0.9229 - val_auc: 0.9823 - val_loss: 0.1686 - val_precision: 0.9344 - val_recall: 0.9096\n",
      "Epoch 67/100\n",
      "\u001b[1m47/47\u001b[0m \u001b[32m━━━━━━━━━━━━━━━━━━━━\u001b[0m\u001b[37m\u001b[0m \u001b[1m0s\u001b[0m 3ms/step - accuracy: 0.9164 - auc: 0.9733 - loss: 0.2055 - precision: 0.9191 - recall: 0.9121 - val_accuracy: 0.9282 - val_auc: 0.9851 - val_loss: 0.1688 - val_precision: 0.9237 - val_recall: 0.9335\n",
      "Epoch 68/100\n",
      "\u001b[1m47/47\u001b[0m \u001b[32m━━━━━━━━━━━━━━━━━━━━\u001b[0m\u001b[37m\u001b[0m \u001b[1m0s\u001b[0m 3ms/step - accuracy: 0.9096 - auc: 0.9695 - loss: 0.2215 - precision: 0.9018 - recall: 0.9179 - val_accuracy: 0.8976 - val_auc: 0.9845 - val_loss: 0.1818 - val_precision: 0.8437 - val_recall: 0.9761\n",
      "Epoch 69/100\n",
      "\u001b[1m47/47\u001b[0m \u001b[32m━━━━━━━━━━━━━━━━━━━━\u001b[0m\u001b[37m\u001b[0m \u001b[1m0s\u001b[0m 3ms/step - accuracy: 0.9185 - auc: 0.9770 - loss: 0.1942 - precision: 0.9100 - recall: 0.9266 - val_accuracy: 0.9282 - val_auc: 0.9854 - val_loss: 0.1652 - val_precision: 0.9107 - val_recall: 0.9495\n",
      "Epoch 70/100\n",
      "\u001b[1m47/47\u001b[0m \u001b[32m━━━━━━━━━━━━━━━━━━━━\u001b[0m\u001b[37m\u001b[0m \u001b[1m0s\u001b[0m 3ms/step - accuracy: 0.9095 - auc: 0.9699 - loss: 0.2208 - precision: 0.9103 - recall: 0.9109 - val_accuracy: 0.9295 - val_auc: 0.9851 - val_loss: 0.1605 - val_precision: 0.9239 - val_recall: 0.9362\n",
      "Epoch 71/100\n",
      "\u001b[1m47/47\u001b[0m \u001b[32m━━━━━━━━━━━━━━━━━━━━\u001b[0m\u001b[37m\u001b[0m \u001b[1m0s\u001b[0m 3ms/step - accuracy: 0.9038 - auc: 0.9720 - loss: 0.2125 - precision: 0.9084 - recall: 0.8990 - val_accuracy: 0.9136 - val_auc: 0.9850 - val_loss: 0.1595 - val_precision: 0.8729 - val_recall: 0.9681\n",
      "Epoch 72/100\n",
      "\u001b[1m47/47\u001b[0m \u001b[32m━━━━━━━━━━━━━━━━━━━━\u001b[0m\u001b[37m\u001b[0m \u001b[1m0s\u001b[0m 4ms/step - accuracy: 0.9098 - auc: 0.9754 - loss: 0.1998 - precision: 0.8988 - recall: 0.9246 - val_accuracy: 0.9242 - val_auc: 0.9826 - val_loss: 0.1725 - val_precision: 0.9443 - val_recall: 0.9016\n",
      "Epoch 73/100\n",
      "\u001b[1m47/47\u001b[0m \u001b[32m━━━━━━━━━━━━━━━━━━━━\u001b[0m\u001b[37m\u001b[0m \u001b[1m0s\u001b[0m 3ms/step - accuracy: 0.9126 - auc: 0.9722 - loss: 0.2161 - precision: 0.9169 - recall: 0.9175 - val_accuracy: 0.9309 - val_auc: 0.9880 - val_loss: 0.1595 - val_precision: 0.9154 - val_recall: 0.9495\n",
      "Epoch 74/100\n",
      "\u001b[1m47/47\u001b[0m \u001b[32m━━━━━━━━━━━━━━━━━━━━\u001b[0m\u001b[37m\u001b[0m \u001b[1m0s\u001b[0m 3ms/step - accuracy: 0.9169 - auc: 0.9764 - loss: 0.1965 - precision: 0.9210 - recall: 0.9154 - val_accuracy: 0.9415 - val_auc: 0.9881 - val_loss: 0.1508 - val_precision: 0.9486 - val_recall: 0.9335\n",
      "Epoch 75/100\n",
      "\u001b[1m47/47\u001b[0m \u001b[32m━━━━━━━━━━━━━━━━━━━━\u001b[0m\u001b[37m\u001b[0m \u001b[1m0s\u001b[0m 3ms/step - accuracy: 0.9054 - auc: 0.9744 - loss: 0.2040 - precision: 0.9079 - recall: 0.9002 - val_accuracy: 0.9348 - val_auc: 0.9850 - val_loss: 0.1605 - val_precision: 0.9407 - val_recall: 0.9282\n",
      "Epoch 76/100\n",
      "\u001b[1m47/47\u001b[0m \u001b[32m━━━━━━━━━━━━━━━━━━━━\u001b[0m\u001b[37m\u001b[0m \u001b[1m0s\u001b[0m 3ms/step - accuracy: 0.9221 - auc: 0.9755 - loss: 0.1981 - precision: 0.9143 - recall: 0.9316 - val_accuracy: 0.9441 - val_auc: 0.9884 - val_loss: 0.1485 - val_precision: 0.9395 - val_recall: 0.9495\n",
      "Epoch 77/100\n",
      "\u001b[1m47/47\u001b[0m \u001b[32m━━━━━━━━━━━━━━━━━━━━\u001b[0m\u001b[37m\u001b[0m \u001b[1m0s\u001b[0m 3ms/step - accuracy: 0.9108 - auc: 0.9693 - loss: 0.2229 - precision: 0.9071 - recall: 0.9155 - val_accuracy: 0.9202 - val_auc: 0.9814 - val_loss: 0.1764 - val_precision: 0.9317 - val_recall: 0.9069\n",
      "Epoch 78/100\n",
      "\u001b[1m47/47\u001b[0m \u001b[32m━━━━━━━━━━━━━━━━━━━━\u001b[0m\u001b[37m\u001b[0m \u001b[1m0s\u001b[0m 3ms/step - accuracy: 0.9309 - auc: 0.9786 - loss: 0.1859 - precision: 0.9258 - recall: 0.9365 - val_accuracy: 0.9322 - val_auc: 0.9853 - val_loss: 0.1527 - val_precision: 0.9428 - val_recall: 0.9202\n",
      "Epoch 79/100\n",
      "\u001b[1m47/47\u001b[0m \u001b[32m━━━━━━━━━━━━━━━━━━━━\u001b[0m\u001b[37m\u001b[0m \u001b[1m0s\u001b[0m 3ms/step - accuracy: 0.9192 - auc: 0.9755 - loss: 0.1992 - precision: 0.9099 - recall: 0.9285 - val_accuracy: 0.9348 - val_auc: 0.9882 - val_loss: 0.1580 - val_precision: 0.9337 - val_recall: 0.9362\n",
      "Epoch 80/100\n",
      "\u001b[1m47/47\u001b[0m \u001b[32m━━━━━━━━━━━━━━━━━━━━\u001b[0m\u001b[37m\u001b[0m \u001b[1m0s\u001b[0m 3ms/step - accuracy: 0.9130 - auc: 0.9738 - loss: 0.2039 - precision: 0.9142 - recall: 0.9115 - val_accuracy: 0.9388 - val_auc: 0.9874 - val_loss: 0.1535 - val_precision: 0.9342 - val_recall: 0.9441\n",
      "Epoch 81/100\n",
      "\u001b[1m47/47\u001b[0m \u001b[32m━━━━━━━━━━━━━━━━━━━━\u001b[0m\u001b[37m\u001b[0m \u001b[1m0s\u001b[0m 3ms/step - accuracy: 0.9220 - auc: 0.9766 - loss: 0.1946 - precision: 0.9216 - recall: 0.9217 - val_accuracy: 0.9122 - val_auc: 0.9884 - val_loss: 0.1625 - val_precision: 0.8571 - val_recall: 0.9894\n",
      "Epoch 82/100\n",
      "\u001b[1m47/47\u001b[0m \u001b[32m━━━━━━━━━━━━━━━━━━━━\u001b[0m\u001b[37m\u001b[0m \u001b[1m0s\u001b[0m 3ms/step - accuracy: 0.9253 - auc: 0.9782 - loss: 0.1854 - precision: 0.9189 - recall: 0.9318 - val_accuracy: 0.9162 - val_auc: 0.9882 - val_loss: 0.1608 - val_precision: 0.8631 - val_recall: 0.9894\n",
      "Epoch 83/100\n",
      "\u001b[1m47/47\u001b[0m \u001b[32m━━━━━━━━━━━━━━━━━━━━\u001b[0m\u001b[37m\u001b[0m \u001b[1m0s\u001b[0m 3ms/step - accuracy: 0.9088 - auc: 0.9724 - loss: 0.2147 - precision: 0.8998 - recall: 0.9180 - val_accuracy: 0.9402 - val_auc: 0.9873 - val_loss: 0.1463 - val_precision: 0.9510 - val_recall: 0.9282\n",
      "Epoch 84/100\n",
      "\u001b[1m47/47\u001b[0m \u001b[32m━━━━━━━━━━━━━━━━━━━━\u001b[0m\u001b[37m\u001b[0m \u001b[1m0s\u001b[0m 3ms/step - accuracy: 0.9166 - auc: 0.9758 - loss: 0.1980 - precision: 0.9203 - recall: 0.9126 - val_accuracy: 0.9269 - val_auc: 0.9870 - val_loss: 0.1677 - val_precision: 0.9735 - val_recall: 0.8777\n",
      "Epoch 85/100\n",
      "\u001b[1m47/47\u001b[0m \u001b[32m━━━━━━━━━━━━━━━━━━━━\u001b[0m\u001b[37m\u001b[0m \u001b[1m0s\u001b[0m 3ms/step - accuracy: 0.9148 - auc: 0.9761 - loss: 0.2004 - precision: 0.9130 - recall: 0.9136 - val_accuracy: 0.9388 - val_auc: 0.9891 - val_loss: 0.1440 - val_precision: 0.9275 - val_recall: 0.9521\n",
      "Epoch 86/100\n",
      "\u001b[1m47/47\u001b[0m \u001b[32m━━━━━━━━━━━━━━━━━━━━\u001b[0m\u001b[37m\u001b[0m \u001b[1m0s\u001b[0m 3ms/step - accuracy: 0.9187 - auc: 0.9775 - loss: 0.1919 - precision: 0.9040 - recall: 0.9353 - val_accuracy: 0.9309 - val_auc: 0.9855 - val_loss: 0.1614 - val_precision: 0.9602 - val_recall: 0.8989\n",
      "Epoch 87/100\n",
      "\u001b[1m47/47\u001b[0m \u001b[32m━━━━━━━━━━━━━━━━━━━━\u001b[0m\u001b[37m\u001b[0m \u001b[1m0s\u001b[0m 3ms/step - accuracy: 0.9115 - auc: 0.9751 - loss: 0.2060 - precision: 0.9213 - recall: 0.9085 - val_accuracy: 0.9309 - val_auc: 0.9868 - val_loss: 0.1557 - val_precision: 0.9682 - val_recall: 0.8910\n",
      "Epoch 88/100\n",
      "\u001b[1m47/47\u001b[0m \u001b[32m━━━━━━━━━━━━━━━━━━━━\u001b[0m\u001b[37m\u001b[0m \u001b[1m0s\u001b[0m 3ms/step - accuracy: 0.9229 - auc: 0.9768 - loss: 0.1952 - precision: 0.9273 - recall: 0.9131 - val_accuracy: 0.9016 - val_auc: 0.9871 - val_loss: 0.1767 - val_precision: 0.8416 - val_recall: 0.9894\n",
      "Epoch 89/100\n",
      "\u001b[1m47/47\u001b[0m \u001b[32m━━━━━━━━━━━━━━━━━━━━\u001b[0m\u001b[37m\u001b[0m \u001b[1m0s\u001b[0m 3ms/step - accuracy: 0.9182 - auc: 0.9785 - loss: 0.1890 - precision: 0.9054 - recall: 0.9320 - val_accuracy: 0.9362 - val_auc: 0.9856 - val_loss: 0.1533 - val_precision: 0.9457 - val_recall: 0.9255\n",
      "Epoch 90/100\n",
      "\u001b[1m47/47\u001b[0m \u001b[32m━━━━━━━━━━━━━━━━━━━━\u001b[0m\u001b[37m\u001b[0m \u001b[1m0s\u001b[0m 3ms/step - accuracy: 0.9257 - auc: 0.9808 - loss: 0.1772 - precision: 0.9164 - recall: 0.9359 - val_accuracy: 0.9215 - val_auc: 0.9891 - val_loss: 0.1508 - val_precision: 0.8747 - val_recall: 0.9840\n",
      "Epoch 91/100\n",
      "\u001b[1m47/47\u001b[0m \u001b[32m━━━━━━━━━━━━━━━━━━━━\u001b[0m\u001b[37m\u001b[0m \u001b[1m0s\u001b[0m 3ms/step - accuracy: 0.9217 - auc: 0.9799 - loss: 0.1825 - precision: 0.9094 - recall: 0.9315 - val_accuracy: 0.9362 - val_auc: 0.9860 - val_loss: 0.1499 - val_precision: 0.9432 - val_recall: 0.9282\n",
      "Epoch 92/100\n",
      "\u001b[1m47/47\u001b[0m \u001b[32m━━━━━━━━━━━━━━━━━━━━\u001b[0m\u001b[37m\u001b[0m \u001b[1m0s\u001b[0m 3ms/step - accuracy: 0.9291 - auc: 0.9803 - loss: 0.1804 - precision: 0.9307 - recall: 0.9288 - val_accuracy: 0.9269 - val_auc: 0.9846 - val_loss: 0.1589 - val_precision: 0.9521 - val_recall: 0.8989\n",
      "Epoch 93/100\n",
      "\u001b[1m47/47\u001b[0m \u001b[32m━━━━━━━━━━━━━━━━━━━━\u001b[0m\u001b[37m\u001b[0m \u001b[1m0s\u001b[0m 3ms/step - accuracy: 0.9198 - auc: 0.9754 - loss: 0.1940 - precision: 0.9181 - recall: 0.9179 - val_accuracy: 0.9455 - val_auc: 0.9887 - val_loss: 0.1370 - val_precision: 0.9515 - val_recall: 0.9388\n",
      "Epoch 94/100\n",
      "\u001b[1m47/47\u001b[0m \u001b[32m━━━━━━━━━━━━━━━━━━━━\u001b[0m\u001b[37m\u001b[0m \u001b[1m0s\u001b[0m 3ms/step - accuracy: 0.9220 - auc: 0.9810 - loss: 0.1744 - precision: 0.9230 - recall: 0.9179 - val_accuracy: 0.9428 - val_auc: 0.9891 - val_loss: 0.1391 - val_precision: 0.9464 - val_recall: 0.9388\n",
      "Epoch 95/100\n",
      "\u001b[1m47/47\u001b[0m \u001b[32m━━━━━━━━━━━━━━━━━━━━\u001b[0m\u001b[37m\u001b[0m \u001b[1m0s\u001b[0m 3ms/step - accuracy: 0.9139 - auc: 0.9763 - loss: 0.1959 - precision: 0.9190 - recall: 0.9061 - val_accuracy: 0.9056 - val_auc: 0.9895 - val_loss: 0.1698 - val_precision: 0.8458 - val_recall: 0.9920\n",
      "Epoch 96/100\n",
      "\u001b[1m47/47\u001b[0m \u001b[32m━━━━━━━━━━━━━━━━━━━━\u001b[0m\u001b[37m\u001b[0m \u001b[1m0s\u001b[0m 3ms/step - accuracy: 0.9288 - auc: 0.9817 - loss: 0.1753 - precision: 0.9189 - recall: 0.9368 - val_accuracy: 0.9441 - val_auc: 0.9889 - val_loss: 0.1375 - val_precision: 0.9613 - val_recall: 0.9255\n",
      "Epoch 97/100\n",
      "\u001b[1m47/47\u001b[0m \u001b[32m━━━━━━━━━━━━━━━━━━━━\u001b[0m\u001b[37m\u001b[0m \u001b[1m0s\u001b[0m 3ms/step - accuracy: 0.9284 - auc: 0.9783 - loss: 0.1877 - precision: 0.9290 - recall: 0.9293 - val_accuracy: 0.9481 - val_auc: 0.9895 - val_loss: 0.1322 - val_precision: 0.9566 - val_recall: 0.9388\n",
      "Epoch 98/100\n",
      "\u001b[1m47/47\u001b[0m \u001b[32m━━━━━━━━━━━━━━━━━━━━\u001b[0m\u001b[37m\u001b[0m \u001b[1m0s\u001b[0m 4ms/step - accuracy: 0.9187 - auc: 0.9767 - loss: 0.1922 - precision: 0.9220 - recall: 0.9130 - val_accuracy: 0.9255 - val_auc: 0.9831 - val_loss: 0.1788 - val_precision: 0.9571 - val_recall: 0.8910\n",
      "Epoch 99/100\n",
      "\u001b[1m47/47\u001b[0m \u001b[32m━━━━━━━━━━━━━━━━━━━━\u001b[0m\u001b[37m\u001b[0m \u001b[1m0s\u001b[0m 3ms/step - accuracy: 0.9171 - auc: 0.9777 - loss: 0.1893 - precision: 0.9265 - recall: 0.9095 - val_accuracy: 0.9428 - val_auc: 0.9895 - val_loss: 0.1358 - val_precision: 0.9416 - val_recall: 0.9441\n",
      "Epoch 100/100\n",
      "\u001b[1m47/47\u001b[0m \u001b[32m━━━━━━━━━━━━━━━━━━━━\u001b[0m\u001b[37m\u001b[0m \u001b[1m0s\u001b[0m 3ms/step - accuracy: 0.9265 - auc: 0.9808 - loss: 0.1763 - precision: 0.9266 - recall: 0.9279 - val_accuracy: 0.9335 - val_auc: 0.9885 - val_loss: 0.1514 - val_precision: 0.9158 - val_recall: 0.9548\n"
     ]
    }
   ],
   "source": [
    "print(\"\\nTraining model...\")\n",
    "early_stop = EarlyStopping(monitor='val_loss', patience=10, restore_best_weights=True)\n",
    "\n",
    "history = model.fit(\n",
    "    X_train, y_train,\n",
    "    validation_data=(X_val, y_val),\n",
    "    epochs=100,\n",
    "    batch_size=64,\n",
    "    callbacks=[early_stop],\n",
    "    verbose=1\n",
    ")\n"
   ]
  },
  {
   "cell_type": "markdown",
   "id": "6cbf195f",
   "metadata": {},
   "source": [
    "Evaluation"
   ]
  },
  {
   "cell_type": "code",
   "execution_count": 5,
   "id": "1b143d5c",
   "metadata": {},
   "outputs": [
    {
     "name": "stdout",
     "output_type": "stream",
     "text": [
      "\n",
      "Evaluating model...\n",
      "\u001b[1m24/24\u001b[0m \u001b[32m━━━━━━━━━━━━━━━━━━━━\u001b[0m\u001b[37m\u001b[0m \u001b[1m0s\u001b[0m 4ms/step\n",
      "\n",
      "Performance Metrics:\n",
      "AUC-ROC: 0.9896\n",
      "Precision: 0.9566\n",
      "Recall: 0.9388\n",
      "F1 Score: 0.9477\n",
      "\n",
      "Classification Report:\n",
      "              precision    recall  f1-score   support\n",
      "\n",
      "       Human       0.94      0.96      0.95       376\n",
      "       Robot       0.96      0.94      0.95       376\n",
      "\n",
      "    accuracy                           0.95       752\n",
      "   macro avg       0.95      0.95      0.95       752\n",
      "weighted avg       0.95      0.95      0.95       752\n",
      "\n"
     ]
    }
   ],
   "source": [
    "print(\"\\nEvaluating model...\")\n",
    "y_pred_proba = model.predict(X_val).flatten()\n",
    "y_pred = (y_pred_proba > 0.5).astype(int)\n",
    "\n",
    "# Calculate metrics\n",
    "metrics = {\n",
    "    'AUC-ROC': roc_auc_score(y_val, y_pred_proba),\n",
    "    'Precision': precision_score(y_val, y_pred),\n",
    "    'Recall': recall_score(y_val, y_pred),\n",
    "    'F1 Score': f1_score(y_val, y_pred)\n",
    "}\n",
    "\n",
    "# Print metrics\n",
    "print(\"\\nPerformance Metrics:\")\n",
    "for metric, value in metrics.items():\n",
    "    print(f\"{metric}: {value:.4f}\")\n",
    "\n",
    "# Classification report\n",
    "print(\"\\nClassification Report:\")\n",
    "print(classification_report(y_val, y_pred, target_names=['Human', 'Robot']))\n"
   ]
  },
  {
   "cell_type": "code",
   "execution_count": 6,
   "id": "0ea0ed5a",
   "metadata": {},
   "outputs": [
    {
     "name": "stdout",
     "output_type": "stream",
     "text": [
      "\n",
      "Confusion Matrix:\n",
      "[[349  27]\n",
      " [ 29 347]]\n"
     ]
    },
    {
     "data": {
      "image/png": "[encoded data removed]",
      "text/plain": [
       "<Figure size 600x400 with 2 Axes>"
      ]
     },
     "metadata": {},
     "output_type": "display_data"
    }
   ],
   "source": [
    "# Compute confusion matrix\n",
    "cm = confusion_matrix(y_val, y_pred)\n",
    "\n",
    "print(\"\\nConfusion Matrix:\")\n",
    "print(cm)\n",
    "\n",
    "# Optional: plot confusion matrix heatmap\n",
    "plt.figure(figsize=(6,4))\n",
    "sns.heatmap(cm, annot=True, fmt='d', cmap='Blues', xticklabels=['Human', 'Robot'], yticklabels=['Human', 'Robot'])\n",
    "plt.xlabel('Predicted')\n",
    "plt.ylabel('True')\n",
    "plt.title('Confusion Matrix')\n",
    "plt.show()"
   ]
  },
  {
   "cell_type": "markdown",
   "id": "7d963226",
   "metadata": {},
   "source": [
    "Custom callback to track metrics per epoch\n"
   ]
  },
  {
   "cell_type": "code",
   "execution_count": 6,
   "id": "7da3f07d",
   "metadata": {},
   "outputs": [],
   "source": [
    "from tensorflow.keras.callbacks import EarlyStopping, Callback\n",
    "\n",
    "class MetricsLogger(Callback):\n",
    "    def __init__(self, X_train, y_train, X_val, y_val):\n",
    "        self.X_train = X_train\n",
    "        self.y_train = y_train\n",
    "        self.X_val = X_val\n",
    "        self.y_val = y_val\n",
    "        self.history = {\n",
    "            'train_auc': [], 'val_auc': [],\n",
    "            'train_precision': [], 'val_precision': [],\n",
    "            'train_recall': [], 'val_recall': [],\n",
    "            'train_f1': [], 'val_f1': []\n",
    "        }\n",
    "\n",
    "    def on_epoch_end(self, epoch, logs=None):\n",
    "        y_train_pred = self.model.predict(self.X_train, verbose=0).flatten()\n",
    "        y_val_pred = self.model.predict(self.X_val, verbose=0).flatten()\n",
    "        y_train_bin = (y_train_pred > 0.5).astype(int)\n",
    "        y_val_bin = (y_val_pred > 0.5).astype(int)\n",
    "\n",
    "        self.history['train_auc'].append(roc_auc_score(self.y_train, y_train_pred))\n",
    "        self.history['val_auc'].append(roc_auc_score(self.y_val, y_val_pred))\n",
    "        self.history['train_precision'].append(precision_score(self.y_train, y_train_bin))\n",
    "        self.history['val_precision'].append(precision_score(self.y_val, y_val_bin))\n",
    "        self.history['train_recall'].append(recall_score(self.y_train, y_train_bin))\n",
    "        self.history['val_recall'].append(recall_score(self.y_val, y_val_bin))\n",
    "        self.history['train_f1'].append(f1_score(self.y_train, y_train_bin))\n",
    "        self.history['val_f1'].append(f1_score(self.y_val, y_val_bin))\n"
   ]
  },
  {
   "cell_type": "markdown",
   "id": "c559620f",
   "metadata": {},
   "source": [
    "Perform tuning and get best model evalutation metrics and best model hyperparameters"
   ]
  },
  {
   "cell_type": "code",
   "execution_count": 7,
   "id": "0398ec7f",
   "metadata": {},
   "outputs": [
    {
     "name": "stdout",
     "output_type": "stream",
     "text": [
      "\n",
      "Starting tuning...\n",
      "→ AUC: 0.9863, Precision: 0.9510, Recall: 0.9282, F1: 0.9394, Avg: 0.9512\n",
      "→ AUC: 0.9805, Precision: 0.9418, Recall: 0.9043, F1: 0.9227, Avg: 0.9373\n",
      "→ AUC: 0.9864, Precision: 0.9556, Recall: 0.9149, F1: 0.9348, Avg: 0.9479\n",
      "→ AUC: 0.9881, Precision: 0.9482, Recall: 0.9255, F1: 0.9367, Avg: 0.9497\n",
      "→ AUC: 0.9878, Precision: 0.9428, Recall: 0.9202, F1: 0.9314, Avg: 0.9455\n",
      "→ AUC: 0.9907, Precision: 0.9593, Recall: 0.9415, F1: 0.9503, Avg: 0.9605\n",
      "✅ New best model found!\n",
      "→ AUC: 0.9591, Precision: 0.8376, Recall: 0.9468, F1: 0.8889, Avg: 0.9081\n",
      "→ AUC: 0.9820, Precision: 0.9208, Recall: 0.9282, F1: 0.9245, Avg: 0.9389\n",
      "→ AUC: 0.9898, Precision: 0.9484, Recall: 0.9282, F1: 0.9382, Avg: 0.9511\n",
      "→ AUC: 0.9837, Precision: 0.9475, Recall: 0.9122, F1: 0.9295, Avg: 0.9432\n",
      "→ AUC: 0.9844, Precision: 0.9251, Recall: 0.9202, F1: 0.9227, Avg: 0.9381\n",
      "→ AUC: 0.9813, Precision: 0.9288, Recall: 0.9362, F1: 0.9325, Avg: 0.9447\n",
      "\n",
      "✅ Best Model Metrics:\n",
      "AUC-ROC: 0.9907\n",
      "Precision: 0.9593\n",
      "Recall: 0.9415\n",
      "F1 Score: 0.9503\n",
      "\n",
      "🔧 Best Model Hyperparameters:\n",
      "learning_rate: 0.001\n",
      "batch_size: 64\n",
      "dropout_rates: (0.2, 0.1, 0.05)\n"
     ]
    }
   ],
   "source": [
    "best_model = model\n",
    "best_metrics = metrics\n",
    "best_avg = sum(metrics.values()) / len(metrics)\n",
    "best_history = None  # to store history of best model\n",
    "best_hyperparams = None\n",
    "\n",
    "learning_rates = [0.001, 0.0005]\n",
    "batch_sizes = [32, 64]\n",
    "dropouts = [\n",
    "    (0.3, 0.2, 0.1),\n",
    "    (0.4, 0.3, 0.2),\n",
    "    (0.2, 0.1, 0.05)\n",
    "]\n",
    "\n",
    "\n",
    "print(\"\\nStarting tuning...\")\n",
    "\n",
    "for lr in learning_rates:\n",
    "    for batch in batch_sizes:\n",
    "        for d1, d2, d3 in dropouts:\n",
    "            tuned_model = Sequential([\n",
    "                Input(shape=(X_train.shape[1],)),\n",
    "                Dense(128, activation='relu'),\n",
    "                BatchNormalization(),\n",
    "                Dropout(d1),\n",
    "\n",
    "                Dense(64, activation='relu'),\n",
    "                BatchNormalization(),\n",
    "                Dropout(d2),\n",
    "\n",
    "                Dense(32, activation='relu'),\n",
    "                BatchNormalization(),\n",
    "                Dropout(d3),\n",
    "\n",
    "                Dense(1, activation='sigmoid')\n",
    "            ])\n",
    "            tuned_model.compile(\n",
    "                optimizer=Adam(learning_rate=lr),\n",
    "                loss='binary_crossentropy',\n",
    "                metrics=[\n",
    "                'accuracy',\n",
    "                tf.keras.metrics.Precision(name='precision'),\n",
    "                tf.keras.metrics.Recall(name='recall'),\n",
    "                AUC(name='auc')]\n",
    "            )\n",
    "\n",
    "            # Callbacks\n",
    "            early_stop = EarlyStopping(monitor='val_loss', patience=10, restore_best_weights=True)\n",
    "            metrics_callback = MetricsLogger(X_train, y_train, X_val, y_val)\n",
    "\n",
    "            # Train\n",
    "            tuned_model.fit(\n",
    "                X_train, y_train,\n",
    "                validation_data=(X_val, y_val),\n",
    "                epochs=100,\n",
    "                batch_size=batch,\n",
    "                callbacks=[early_stop, metrics_callback],\n",
    "                verbose=0\n",
    "            )\n",
    "\n",
    "            # Evaluate\n",
    "            y_pred_proba = tuned_model.predict(X_val, verbose=0).flatten()\n",
    "            y_pred = (y_pred_proba > 0.5).astype(int)\n",
    "            auc = roc_auc_score(y_val, y_pred_proba)\n",
    "            precision = precision_score(y_val, y_pred)\n",
    "            recall = recall_score(y_val, y_pred)\n",
    "            f1 = f1_score(y_val, y_pred)\n",
    "            avg = (auc + precision + recall + f1) / 4\n",
    "    \n",
    "            print(f\"→ AUC: {auc:.4f}, Precision: {precision:.4f}, Recall: {recall:.4f}, F1: {f1:.4f}, Avg: {avg:.4f}\")\n",
    "\n",
    "            # Save best model & history\n",
    "            if avg > best_avg:\n",
    "                best_model = tuned_model\n",
    "                best_metrics = {\n",
    "                    'AUC-ROC': auc,\n",
    "                    'Precision': precision,\n",
    "                    'Recall': recall,\n",
    "                    'F1 Score': f1\n",
    "                }\n",
    "                best_avg = avg\n",
    "                best_history = metrics_callback.history\n",
    "                best_hyperparams = {\n",
    "                    'learning_rate': lr,\n",
    "                    'batch_size': batch,\n",
    "                    'dropout_rates': (d1, d2, d3)\n",
    "                }\n",
    "                print(\"✅ New best model found!\")\n",
    "\n",
    "# Final metrics report\n",
    "print(\"\\n✅ Best Model Metrics:\")\n",
    "for metric, val in best_metrics.items():\n",
    "    print(f\"{metric}: {val:.4f}\")\n",
    "\n",
    "print(\"\\n🔧 Best Model Hyperparameters:\")\n",
    "for param, val in best_hyperparams.items():\n",
    "    print(f\"{param}: {val}\")"
   ]
  },
  {
   "cell_type": "code",
   "execution_count": 16,
   "id": "3408d13a",
   "metadata": {},
   "outputs": [
    {
     "name": "stdout",
     "output_type": "stream",
     "text": [
      "\n",
      " Best Model Summary:\n"
     ]
    },
    {
     "data": {
      "text/html": [
       "<pre style=\"white-space:pre;overflow-x:auto;line-height:normal;font-family:Menlo,'DejaVu Sans Mono',consolas,'Courier New',monospace\"><span style=\"font-weight: bold\">Model: \"sequential_6\"</span>\n",
       "</pre>\n"
      ],
      "text/plain": [
       "\u001b[1mModel: \"sequential_6\"\u001b[0m\n"
      ]
     },
     "metadata": {},
     "output_type": "display_data"
    },
    {
     "data": {
      "text/html": [
       "<pre style=\"white-space:pre;overflow-x:auto;line-height:normal;font-family:Menlo,'DejaVu Sans Mono',consolas,'Courier New',monospace\">┏━━━━━━━━━━━━━━━━━━━━━━━━━━━━━━━━━┳━━━━━━━━━━━━━━━━━━━━━━━━┳━━━━━━━━━━━━━━━┓\n",
       "┃<span style=\"font-weight: bold\"> Layer (type)                    </span>┃<span style=\"font-weight: bold\"> Output Shape           </span>┃<span style=\"font-weight: bold\">       Param # </span>┃\n",
       "┡━━━━━━━━━━━━━━━━━━━━━━━━━━━━━━━━━╇━━━━━━━━━━━━━━━━━━━━━━━━╇━━━━━━━━━━━━━━━┩\n",
       "│ dense_24 (<span style=\"color: #0087ff; text-decoration-color: #0087ff\">Dense</span>)                │ (<span style=\"color: #00d7ff; text-decoration-color: #00d7ff\">None</span>, <span style=\"color: #00af00; text-decoration-color: #00af00\">128</span>)            │         <span style=\"color: #00af00; text-decoration-color: #00af00\">1,152</span> │\n",
       "├─────────────────────────────────┼────────────────────────┼───────────────┤\n",
       "│ batch_normalization_18          │ (<span style=\"color: #00d7ff; text-decoration-color: #00d7ff\">None</span>, <span style=\"color: #00af00; text-decoration-color: #00af00\">128</span>)            │           <span style=\"color: #00af00; text-decoration-color: #00af00\">512</span> │\n",
       "│ (<span style=\"color: #0087ff; text-decoration-color: #0087ff\">BatchNormalization</span>)            │                        │               │\n",
       "├─────────────────────────────────┼────────────────────────┼───────────────┤\n",
       "│ dropout_18 (<span style=\"color: #0087ff; text-decoration-color: #0087ff\">Dropout</span>)            │ (<span style=\"color: #00d7ff; text-decoration-color: #00d7ff\">None</span>, <span style=\"color: #00af00; text-decoration-color: #00af00\">128</span>)            │             <span style=\"color: #00af00; text-decoration-color: #00af00\">0</span> │\n",
       "├─────────────────────────────────┼────────────────────────┼───────────────┤\n",
       "│ dense_25 (<span style=\"color: #0087ff; text-decoration-color: #0087ff\">Dense</span>)                │ (<span style=\"color: #00d7ff; text-decoration-color: #00d7ff\">None</span>, <span style=\"color: #00af00; text-decoration-color: #00af00\">64</span>)             │         <span style=\"color: #00af00; text-decoration-color: #00af00\">8,256</span> │\n",
       "├─────────────────────────────────┼────────────────────────┼───────────────┤\n",
       "│ batch_normalization_19          │ (<span style=\"color: #00d7ff; text-decoration-color: #00d7ff\">None</span>, <span style=\"color: #00af00; text-decoration-color: #00af00\">64</span>)             │           <span style=\"color: #00af00; text-decoration-color: #00af00\">256</span> │\n",
       "│ (<span style=\"color: #0087ff; text-decoration-color: #0087ff\">BatchNormalization</span>)            │                        │               │\n",
       "├─────────────────────────────────┼────────────────────────┼───────────────┤\n",
       "│ dropout_19 (<span style=\"color: #0087ff; text-decoration-color: #0087ff\">Dropout</span>)            │ (<span style=\"color: #00d7ff; text-decoration-color: #00d7ff\">None</span>, <span style=\"color: #00af00; text-decoration-color: #00af00\">64</span>)             │             <span style=\"color: #00af00; text-decoration-color: #00af00\">0</span> │\n",
       "├─────────────────────────────────┼────────────────────────┼───────────────┤\n",
       "│ dense_26 (<span style=\"color: #0087ff; text-decoration-color: #0087ff\">Dense</span>)                │ (<span style=\"color: #00d7ff; text-decoration-color: #00d7ff\">None</span>, <span style=\"color: #00af00; text-decoration-color: #00af00\">32</span>)             │         <span style=\"color: #00af00; text-decoration-color: #00af00\">2,080</span> │\n",
       "├─────────────────────────────────┼────────────────────────┼───────────────┤\n",
       "│ batch_normalization_20          │ (<span style=\"color: #00d7ff; text-decoration-color: #00d7ff\">None</span>, <span style=\"color: #00af00; text-decoration-color: #00af00\">32</span>)             │           <span style=\"color: #00af00; text-decoration-color: #00af00\">128</span> │\n",
       "│ (<span style=\"color: #0087ff; text-decoration-color: #0087ff\">BatchNormalization</span>)            │                        │               │\n",
       "├─────────────────────────────────┼────────────────────────┼───────────────┤\n",
       "│ dropout_20 (<span style=\"color: #0087ff; text-decoration-color: #0087ff\">Dropout</span>)            │ (<span style=\"color: #00d7ff; text-decoration-color: #00d7ff\">None</span>, <span style=\"color: #00af00; text-decoration-color: #00af00\">32</span>)             │             <span style=\"color: #00af00; text-decoration-color: #00af00\">0</span> │\n",
       "├─────────────────────────────────┼────────────────────────┼───────────────┤\n",
       "│ dense_27 (<span style=\"color: #0087ff; text-decoration-color: #0087ff\">Dense</span>)                │ (<span style=\"color: #00d7ff; text-decoration-color: #00d7ff\">None</span>, <span style=\"color: #00af00; text-decoration-color: #00af00\">1</span>)              │            <span style=\"color: #00af00; text-decoration-color: #00af00\">33</span> │\n",
       "└─────────────────────────────────┴────────────────────────┴───────────────┘\n",
       "</pre>\n"
      ],
      "text/plain": [
       "┏━━━━━━━━━━━━━━━━━━━━━━━━━━━━━━━━━┳━━━━━━━━━━━━━━━━━━━━━━━━┳━━━━━━━━━━━━━━━┓\n",
       "┃\u001b[1m \u001b[0m\u001b[1mLayer (type)                   \u001b[0m\u001b[1m \u001b[0m┃\u001b[1m \u001b[0m\u001b[1mOutput Shape          \u001b[0m\u001b[1m \u001b[0m┃\u001b[1m \u001b[0m\u001b[1m      Param #\u001b[0m\u001b[1m \u001b[0m┃\n",
       "┡━━━━━━━━━━━━━━━━━━━━━━━━━━━━━━━━━╇━━━━━━━━━━━━━━━━━━━━━━━━╇━━━━━━━━━━━━━━━┩\n",
       "│ dense_24 (\u001b[38;5;33mDense\u001b[0m)                │ (\u001b[38;5;45mNone\u001b[0m, \u001b[38;5;34m128\u001b[0m)            │         \u001b[38;5;34m1,152\u001b[0m │\n",
       "├─────────────────────────────────┼────────────────────────┼───────────────┤\n",
       "│ batch_normalization_18          │ (\u001b[38;5;45mNone\u001b[0m, \u001b[38;5;34m128\u001b[0m)            │           \u001b[38;5;34m512\u001b[0m │\n",
       "│ (\u001b[38;5;33mBatchNormalization\u001b[0m)            │                        │               │\n",
       "├─────────────────────────────────┼────────────────────────┼───────────────┤\n",
       "│ dropout_18 (\u001b[38;5;33mDropout\u001b[0m)            │ (\u001b[38;5;45mNone\u001b[0m, \u001b[38;5;34m128\u001b[0m)            │             \u001b[38;5;34m0\u001b[0m │\n",
       "├─────────────────────────────────┼────────────────────────┼───────────────┤\n",
       "│ dense_25 (\u001b[38;5;33mDense\u001b[0m)                │ (\u001b[38;5;45mNone\u001b[0m, \u001b[38;5;34m64\u001b[0m)             │         \u001b[38;5;34m8,256\u001b[0m │\n",
       "├─────────────────────────────────┼────────────────────────┼───────────────┤\n",
       "│ batch_normalization_19          │ (\u001b[38;5;45mNone\u001b[0m, \u001b[38;5;34m64\u001b[0m)             │           \u001b[38;5;34m256\u001b[0m │\n",
       "│ (\u001b[38;5;33mBatchNormalization\u001b[0m)            │                        │               │\n",
       "├─────────────────────────────────┼────────────────────────┼───────────────┤\n",
       "│ dropout_19 (\u001b[38;5;33mDropout\u001b[0m)            │ (\u001b[38;5;45mNone\u001b[0m, \u001b[38;5;34m64\u001b[0m)             │             \u001b[38;5;34m0\u001b[0m │\n",
       "├─────────────────────────────────┼────────────────────────┼───────────────┤\n",
       "│ dense_26 (\u001b[38;5;33mDense\u001b[0m)                │ (\u001b[38;5;45mNone\u001b[0m, \u001b[38;5;34m32\u001b[0m)             │         \u001b[38;5;34m2,080\u001b[0m │\n",
       "├─────────────────────────────────┼────────────────────────┼───────────────┤\n",
       "│ batch_normalization_20          │ (\u001b[38;5;45mNone\u001b[0m, \u001b[38;5;34m32\u001b[0m)             │           \u001b[38;5;34m128\u001b[0m │\n",
       "│ (\u001b[38;5;33mBatchNormalization\u001b[0m)            │                        │               │\n",
       "├─────────────────────────────────┼────────────────────────┼───────────────┤\n",
       "│ dropout_20 (\u001b[38;5;33mDropout\u001b[0m)            │ (\u001b[38;5;45mNone\u001b[0m, \u001b[38;5;34m32\u001b[0m)             │             \u001b[38;5;34m0\u001b[0m │\n",
       "├─────────────────────────────────┼────────────────────────┼───────────────┤\n",
       "│ dense_27 (\u001b[38;5;33mDense\u001b[0m)                │ (\u001b[38;5;45mNone\u001b[0m, \u001b[38;5;34m1\u001b[0m)              │            \u001b[38;5;34m33\u001b[0m │\n",
       "└─────────────────────────────────┴────────────────────────┴───────────────┘\n"
      ]
     },
     "metadata": {},
     "output_type": "display_data"
    },
    {
     "data": {
      "text/html": [
       "<pre style=\"white-space:pre;overflow-x:auto;line-height:normal;font-family:Menlo,'DejaVu Sans Mono',consolas,'Courier New',monospace\"><span style=\"font-weight: bold\"> Total params: </span><span style=\"color: #00af00; text-decoration-color: #00af00\">36,357</span> (142.02 KB)\n",
       "</pre>\n"
      ],
      "text/plain": [
       "\u001b[1m Total params: \u001b[0m\u001b[38;5;34m36,357\u001b[0m (142.02 KB)\n"
      ]
     },
     "metadata": {},
     "output_type": "display_data"
    },
    {
     "data": {
      "text/html": [
       "<pre style=\"white-space:pre;overflow-x:auto;line-height:normal;font-family:Menlo,'DejaVu Sans Mono',consolas,'Courier New',monospace\"><span style=\"font-weight: bold\"> Trainable params: </span><span style=\"color: #00af00; text-decoration-color: #00af00\">11,969</span> (46.75 KB)\n",
       "</pre>\n"
      ],
      "text/plain": [
       "\u001b[1m Trainable params: \u001b[0m\u001b[38;5;34m11,969\u001b[0m (46.75 KB)\n"
      ]
     },
     "metadata": {},
     "output_type": "display_data"
    },
    {
     "data": {
      "text/html": [
       "<pre style=\"white-space:pre;overflow-x:auto;line-height:normal;font-family:Menlo,'DejaVu Sans Mono',consolas,'Courier New',monospace\"><span style=\"font-weight: bold\"> Non-trainable params: </span><span style=\"color: #00af00; text-decoration-color: #00af00\">448</span> (1.75 KB)\n",
       "</pre>\n"
      ],
      "text/plain": [
       "\u001b[1m Non-trainable params: \u001b[0m\u001b[38;5;34m448\u001b[0m (1.75 KB)\n"
      ]
     },
     "metadata": {},
     "output_type": "display_data"
    },
    {
     "data": {
      "text/html": [
       "<pre style=\"white-space:pre;overflow-x:auto;line-height:normal;font-family:Menlo,'DejaVu Sans Mono',consolas,'Courier New',monospace\"><span style=\"font-weight: bold\"> Optimizer params: </span><span style=\"color: #00af00; text-decoration-color: #00af00\">23,940</span> (93.52 KB)\n",
       "</pre>\n"
      ],
      "text/plain": [
       "\u001b[1m Optimizer params: \u001b[0m\u001b[38;5;34m23,940\u001b[0m (93.52 KB)\n"
      ]
     },
     "metadata": {},
     "output_type": "display_data"
    }
   ],
   "source": [
    "print(\"\\n Best Model Summary:\")\n",
    "best_model.summary()"
   ]
  },
  {
   "cell_type": "code",
   "execution_count": 20,
   "id": "ba0425a0",
   "metadata": {},
   "outputs": [
    {
     "data": {
      "image/png": "[encoded data removed]",
      "text/plain": [
       "<Figure size 640x480 with 1 Axes>"
      ]
     },
     "metadata": {},
     "output_type": "display_data"
    }
   ],
   "source": [
    "import matplotlib.pyplot as plt\n",
    "import numpy as np\n",
    "\n",
    "# Ensure best_history is not None\n",
    "if best_history is not None:\n",
    "    # Extract last epoch's scores\n",
    "    train_scores = [\n",
    "        best_history['train_auc'][-1],\n",
    "        best_history['train_precision'][-1],\n",
    "        best_history['train_recall'][-1],\n",
    "        best_history['train_f1'][-1]\n",
    "    ]\n",
    "\n",
    "    val_scores = [\n",
    "        best_history['val_auc'][-1],\n",
    "        best_history['val_precision'][-1],\n",
    "        best_history['val_recall'][-1],\n",
    "        best_history['val_f1'][-1]\n",
    "    ]\n",
    "\n",
    "    # Labels\n",
    "    metrics = ['AUC-ROC', 'Precision', 'Recall', 'F1-Score']\n",
    "    x = np.arange(len(metrics))\n",
    "    width = 0.35\n",
    "\n",
    "    # Plot\n",
    "    fig, ax = plt.subplots()\n",
    "    bars1 = ax.bar(x - width/2, train_scores, width, label='Training', color='skyblue')\n",
    "    bars2 = ax.bar(x + width/2, val_scores, width, label='Validation', color='salmon')\n",
    "\n",
    "    # Add value labels\n",
    "    ax.bar_label(bars1, fmt='%.2f', padding=3)\n",
    "    ax.bar_label(bars2, fmt='%.2f', padding=3)\n",
    "\n",
    "    # Axis and title settings\n",
    "    ax.set_ylabel('Scores')\n",
    "    ax.set_xlabel('Metrics')\n",
    "    ax.set_title('Best Model - Training vs Validation Metrics', pad=20)  # Increased padding\n",
    "    ax.set_xticks(x)\n",
    "    ax.set_xticklabels(metrics)\n",
    "    ax.set_ylim(0, 1)\n",
    "    ax.legend(loc='upper right')  # Move legend to the right\n",
    "\n",
    "    plt.tight_layout()\n",
    "    plt.show()\n",
    "else:\n",
    "    print(\"No best_history was saved — check if at least one model improved.\")\n"
   ]
  },
  {
   "cell_type": "markdown",
   "id": "1914a99b",
   "metadata": {},
   "source": [
    "Get predictions from best model"
   ]
  },
  {
   "cell_type": "code",
   "execution_count": 9,
   "id": "89ac862d",
   "metadata": {},
   "outputs": [],
   "source": [
    "y_val_pred_proba = best_model.predict(X_val, verbose=0).flatten()\n",
    "y_val_pred = (y_val_pred_proba > 0.5).astype(int)"
   ]
  },
  {
   "cell_type": "markdown",
   "id": "f9e98489",
   "metadata": {},
   "source": [
    "Confusion Matrix"
   ]
  },
  {
   "cell_type": "code",
   "execution_count": 10,
   "id": "4b736ac6",
   "metadata": {},
   "outputs": [
    {
     "data": {
      "image/png": "[encoded data removed]",
      "text/plain": [
       "<Figure size 600x500 with 2 Axes>"
      ]
     },
     "metadata": {},
     "output_type": "display_data"
    }
   ],
   "source": [
    "cm = confusion_matrix(y_val, y_val_pred)\n",
    "plt.figure(figsize=(6, 5))\n",
    "sns.heatmap(cm, annot=True, fmt='d', cmap='Blues')\n",
    "plt.title(\"Confusion Matrix\")\n",
    "plt.xlabel(\"Predicted\")\n",
    "plt.ylabel(\"Actual\")\n",
    "plt.show()"
   ]
  },
  {
   "cell_type": "markdown",
   "id": "0778e5b0",
   "metadata": {},
   "source": [
    "ROC curve"
   ]
  },
  {
   "cell_type": "code",
   "execution_count": 11,
   "id": "72cf3666",
   "metadata": {},
   "outputs": [
    {
     "data": {
      "image/png": "[encoded data removed]",
      "text/plain": [
       "<Figure size 600x500 with 1 Axes>"
      ]
     },
     "metadata": {},
     "output_type": "display_data"
    }
   ],
   "source": [
    "from sklearn.metrics import roc_curve, auc\n",
    "\n",
    "fpr, tpr, _ = roc_curve(y_val, y_val_pred_proba)\n",
    "roc_auc = auc(fpr, tpr)\n",
    "plt.figure(figsize=(6, 5))\n",
    "plt.plot(fpr, tpr, label=f\"AUC = {roc_auc:.4f}\")\n",
    "plt.plot([0, 1], [0, 1], 'k--')  # Diagonal line\n",
    "plt.title(\"ROC Curve\")\n",
    "plt.xlabel(\"False Positive Rate\")\n",
    "plt.ylabel(\"True Positive Rate\")\n",
    "plt.legend(loc='lower right')\n",
    "plt.grid(True)\n",
    "plt.show()"
   ]
  },
  {
   "cell_type": "markdown",
   "id": "684eb119",
   "metadata": {},
   "source": [
    "Precision-Recall Curve"
   ]
  },
  {
   "cell_type": "code",
   "execution_count": 12,
   "id": "cdaa6d4d",
   "metadata": {},
   "outputs": [
    {
     "data": {
      "image/png": "[encoded data removed]",
      "text/plain": [
       "<Figure size 600x500 with 1 Axes>"
      ]
     },
     "metadata": {},
     "output_type": "display_data"
    }
   ],
   "source": [
    "from sklearn.metrics import precision_recall_curve\n",
    "\n",
    "precision, recall, _ = precision_recall_curve(y_val, y_val_pred_proba)\n",
    "plt.figure(figsize=(6, 5))\n",
    "plt.plot(recall, precision, label=\"Precision-Recall\")\n",
    "plt.title(\"Precision-Recall Curve\")\n",
    "plt.xlabel(\"Recall\")\n",
    "plt.ylabel(\"Precision\")\n",
    "plt.grid(True)\n",
    "plt.legend()\n",
    "plt.show()"
   ]
  },
  {
   "cell_type": "markdown",
   "id": "11e7ccd6",
   "metadata": {},
   "source": [
    "Model Loss Curve"
   ]
  },
  {
   "cell_type": "code",
   "execution_count": null,
   "id": "0be5ecf5",
   "metadata": {},
   "outputs": [
    {
     "data": {
      "image/png": "[encoded data removed]",
      "text/plain": [
       "<Figure size 600x500 with 1 Axes>"
      ]
     },
     "metadata": {},
     "output_type": "display_data"
    }
   ],
   "source": [
    "if 'loss' in best_model.history.history:\n",
    "\n",
    "    history_loss = best_model.history.history\n",
    "    plt.figure(figsize=(6, 5))\n",
    "    plt.plot(history_loss['loss'], label='Train Loss')\n",
    "    plt.plot(history_loss['val_loss'], label='Validation Loss')\n",
    "    plt.title('Loss Curve')\n",
    "    plt.xlabel('Epoch')\n",
    "    plt.ylabel('Binary Crossentropy Loss')\n",
    "    plt.legend()\n",
    "    plt.grid(True)\n",
    "    plt.show()\n",
    "else:\n",
    "    print(\"Loss curve not available from best_model.history. Please re-train with `model.fit(..., return_history=True)` or track loss manually.\")"
   ]
  },
  {
   "cell_type": "markdown",
   "id": "8009cdc8",
   "metadata": {},
   "source": [
    "Save best model result"
   ]
  },
  {
   "cell_type": "code",
   "execution_count": 14,
   "id": "f826b59e",
   "metadata": {},
   "outputs": [
    {
     "name": "stdout",
     "output_type": "stream",
     "text": [
      "✅ Best model saved as best_modelFNN.keras\n"
     ]
    }
   ],
   "source": [
    "# Save the best model\n",
    "best_model.save(\"best_modelFNN.keras\")\n",
    "print(\"✅ Best model saved as best_modelFNN.keras\")\n"
   ]
  },
  {
   "cell_type": "markdown",
   "id": "ccd4a863",
   "metadata": {},
   "source": [
    "Load the Model for Prediction"
   ]
  },
  {
   "cell_type": "code",
   "execution_count": 15,
   "id": "2967c1f2",
   "metadata": {},
   "outputs": [],
   "source": [
    "import pandas as pd\n",
    "import pickle\n",
    "from sklearn.preprocessing import StandardScaler\n",
    "\n",
    "# Load best model\n",
    "model = load_model(\"best_modelFNN.keras\")\n",
    "\n",
    "# Load scaler used during training\n",
    "with open('scaler.pkl', 'rb') as f:\n",
    "    scaler = pickle.load(f)\n"
   ]
  },
  {
   "cell_type": "markdown",
   "id": "b20c92de",
   "metadata": {},
   "source": [
    "Process Test Data"
   ]
  },
  {
   "cell_type": "code",
   "execution_count": 15,
   "id": "9573322a",
   "metadata": {},
   "outputs": [],
   "source": [
    "# Load and preprocess test data\n",
    "bids = pd.read_csv('bids.csv')\n",
    "test = pd.read_csv('test.csv')\n",
    "\n",
    "# Drop unnecessary columns\n",
    "bids = bids.drop(columns=['payment_account', 'address'], errors='ignore')\n",
    "\n",
    "# Merge\n",
    "merged = pd.merge(test, bids, on='bidder_id', how='left')\n",
    "merged = merged.dropna()\n",
    "merged['time'] = pd.to_datetime(merged['time'])\n",
    "\n",
    "# Frequency encode\n",
    "ip_freq = merged['ip'].value_counts(normalize=True)\n",
    "merged['ip_freq'] = merged['ip'].map(ip_freq)\n",
    "url_freq = merged['url'].value_counts(normalize=True)\n",
    "merged['url_freq'] = merged['url'].map(url_freq)\n",
    "\n",
    "# Aggregate\n",
    "grouped = merged.groupby('bidder_id').agg({\n",
    "    'auction': 'nunique',\n",
    "    'country': 'nunique',\n",
    "    'merchandise': 'nunique',\n",
    "    'device': 'nunique',\n",
    "    'time': lambda x: (x.max() - x.min()).total_seconds(),\n",
    "    'ip_freq': 'mean',\n",
    "    'url_freq': 'mean'\n",
    "}).reset_index()\n",
    "\n",
    "# Count bids\n",
    "bids_per_bidder = merged.groupby('bidder_id').size().reset_index(name='num_bids')\n",
    "\n",
    "# Final features\n",
    "final_test_df = bids_per_bidder.merge(grouped, on='bidder_id')\n",
    "\n",
    "# Save bidder_id\n",
    "bidder_ids = final_test_df['bidder_id']\n",
    "\n",
    "# Prepare input features\n",
    "X_val = final_test_df.drop(columns=['bidder_id'])\n",
    "\n",
    "# Scale with previously fitted scaler\n",
    "X_val_scaled = scaler.transform(X_val)\n"
   ]
  },
  {
   "cell_type": "markdown",
   "id": "f0146d96",
   "metadata": {},
   "source": [
    "Perform prediction"
   ]
  },
  {
   "cell_type": "code",
   "execution_count": 16,
   "id": "8231b772",
   "metadata": {},
   "outputs": [
    {
     "name": "stdout",
     "output_type": "stream",
     "text": [
      "\u001b[1m  1/145\u001b[0m \u001b[37m━━━━━━━━━━━━━━━━━━━━\u001b[0m \u001b[1m8s\u001b[0m 60ms/step"
     ]
    },
    {
     "name": "stdout",
     "output_type": "stream",
     "text": [
      "\u001b[1m145/145\u001b[0m \u001b[32m━━━━━━━━━━━━━━━━━━━━\u001b[0m\u001b[37m\u001b[0m \u001b[1m0s\u001b[0m 1ms/step  \n",
      "✅ submission.csv generated!\n"
     ]
    }
   ],
   "source": [
    "# Predict\n",
    "y_pred_proba = model.predict(X_val_scaled).flatten()\n",
    "\n",
    "# Create submission\n",
    "submission = pd.DataFrame({\n",
    "    'bidder_id': bidder_ids,\n",
    "    'prediction': y_pred_proba\n",
    "})\n",
    "\n",
    "submission.to_csv('submission.csv', index=False)\n",
    "print(\"✅ submission.csv generated!\")\n"
   ]
  }
 ],
 "metadata": {
  "kernelspec": {
   "display_name": "Python 3 (ipykernel)",
   "language": "python",
   "name": "python3"
  },
  "language_info": {
   "codemirror_mode": {
    "name": "ipython",
    "version": 3
   },
   "file_extension": ".py",
   "mimetype": "text/x-python",
   "name": "python",
   "nbconvert_exporter": "python",
   "pygments_lexer": "ipython3",
   "version": "3.12.10"
  }
 },
 "nbformat": 4,
 "nbformat_minor": 5
}
