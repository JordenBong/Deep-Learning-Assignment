{
 "cells": [
  {
   "cell_type": "markdown",
   "id": "92a29ca4-e624-4f44-9825-2461e6374bd5",
   "metadata": {},
   "source": [
    "## Sequential Data Preprocess - RNN with LSTM/GRU and Transformer Models Training"
   ]
  },
  {
   "cell_type": "markdown",
   "id": "d7e88970-e8d1-48c3-a534-9ed7cd9d1403",
   "metadata": {},
   "source": [
    "### Prepare Train and Val dataset"
   ]
  },
  {
   "cell_type": "code",
   "execution_count": 1,
   "id": "3881bf61-c249-4243-920d-9712d428b589",
   "metadata": {},
   "outputs": [],
   "source": [
    "import pandas as pd\n",
    "import numpy as np\n",
    "from tensorflow.keras.preprocessing.sequence import pad_sequences\n",
    "from sklearn.preprocessing import LabelEncoder, StandardScaler"
   ]
  },
  {
   "cell_type": "code",
   "execution_count": 2,
   "id": "7c0e99da-e064-4290-9a24-d072cd71af6c",
   "metadata": {},
   "outputs": [],
   "source": [
    "# Load dataset\n",
    "df = pd.read_csv(\"datasets/train_merged_df.csv\")"
   ]
  },
  {
   "cell_type": "code",
   "execution_count": 3,
   "id": "e9c3216e-31e3-499d-9176-1d1460f8d796",
   "metadata": {},
   "outputs": [],
   "source": [
    "# Drop sensitive features that are likely unique per bidder\n",
    "df = df.drop(['payment_account', 'address'], axis=1)"
   ]
  },
  {
   "cell_type": "code",
   "execution_count": 4,
   "id": "a2d0031f-0ef3-4493-b456-0e3625798684",
   "metadata": {},
   "outputs": [],
   "source": [
    "# Encode categorical features\n",
    "categorical_cols = ['merchandise', 'country']\n",
    "label_encoders = {}\n",
    "for col in categorical_cols:\n",
    "    le = LabelEncoder()\n",
    "    le.fit(np.append(df[col].unique(), ['unknown']))\n",
    "    label_encoders[col] = le\n",
    "    df[col] = le.transform(df[col])"
   ]
  },
  {
   "cell_type": "code",
   "execution_count": 5,
   "id": "7aa17f74-f5b6-459f-8151-c3cc4daf8bd8",
   "metadata": {},
   "outputs": [],
   "source": [
    "# Frequency encoding for high-cardinality (>1000) features (ip, url, auction, device)\n",
    "freq_encoders = {}\n",
    "for col in ['ip', 'url', 'auction', 'device']:\n",
    "    freq = df[col].value_counts(normalize=True)\n",
    "    freq_encoders[col] = freq\n",
    "    df[f'{col}_freq'] = df[col].map(freq)\n",
    "df = df.drop(['ip', 'url', 'auction', 'device'], axis=1)"
   ]
  },
  {
   "cell_type": "code",
   "execution_count": 6,
   "id": "b9a2bf66-0d6e-489c-8dcd-afe62db24361",
   "metadata": {},
   "outputs": [],
   "source": [
    "# Enhance Temporal Features\n",
    "df['time_dt'] = pd.to_datetime(df['time'], unit='ns')\n",
    "df['hour'] = df['time_dt'].dt.hour\n",
    "df['day_of_week'] = df['time_dt'].dt.dayofweek"
   ]
  },
  {
   "cell_type": "code",
   "execution_count": 7,
   "id": "9db07999-ab16-44a1-b5e5-c6673561b6c9",
   "metadata": {},
   "outputs": [],
   "source": [
    "# Normalize numerical feature (time)\n",
    "std_scalers = {}\n",
    "for col in ['time_dt', 'hour', 'day_of_week']:\n",
    "    scaler = StandardScaler()\n",
    "    scaler.fit(df[[col]])\n",
    "    std_scalers[col] = scaler\n",
    "    df[col] = scaler.transform(df[[col]])\n",
    "    "
   ]
  },
  {
   "cell_type": "code",
   "execution_count": 8,
   "id": "087b8277-6a8c-43a0-8626-e871aae38e52",
   "metadata": {},
   "outputs": [],
   "source": [
    "# Group bids by bidder_id and sort by time\n",
    "df = df.sort_values(['bidder_id', 'time'])\n",
    "sequences = []\n",
    "labels = []\n",
    "bidder_ids = []\n",
    "feature_cols = ['auction_freq', 'merchandise', 'device_freq', 'time_dt', 'hour', 'day_of_week', 'country', 'ip_freq', 'url_freq']"
   ]
  },
  {
   "cell_type": "code",
   "execution_count": 9,
   "id": "5d7bc66e-4f0d-473c-b310-a0d2c54e8987",
   "metadata": {},
   "outputs": [],
   "source": [
    "for bidder_id, group in df.groupby('bidder_id'):\n",
    "    # Extract features for the sequence\n",
    "    seq = group[feature_cols].values\n",
    "    sequences.append(seq)\n",
    "    bidder_ids.append(bidder_id)\n",
    "    labels.append(group['outcome'].iloc[0])\n"
   ]
  },
  {
   "cell_type": "code",
   "execution_count": 10,
   "id": "3044ec28-fcd7-44f1-8768-4172b1478c1a",
   "metadata": {},
   "outputs": [
    {
     "data": {
      "text/plain": [
       "array([[ 4.44448207e-04,  6.00000000e+00,  1.23403568e-04,\n",
       "         1.85280872e-01, -1.88332317e-01,  2.30607300e-01,\n",
       "         2.30000000e+01,  2.55272816e-04,  5.03401901e-01]])"
      ]
     },
     "execution_count": 10,
     "metadata": {},
     "output_type": "execute_result"
    }
   ],
   "source": [
    "sequences[0]"
   ]
  },
  {
   "cell_type": "code",
   "execution_count": 11,
   "id": "7ef43a63-9ab9-4ecd-9098-c0efa395a025",
   "metadata": {},
   "outputs": [],
   "source": [
    "# Pad sequences to the same length (use max length or a reasonable fixed length)\n",
    "max_len = min(max(len(seq) for seq in sequences), 100)  # Cap at 100 for efficiency\n",
    "X = pad_sequences(sequences, maxlen=max_len, padding='post', dtype='float32')\n",
    "bidder_ids = np.array(bidder_ids) \n",
    "y = np.array(labels)"
   ]
  },
  {
   "cell_type": "code",
   "execution_count": 12,
   "id": "5736675a-0b69-4163-99ef-a10fa5536ec8",
   "metadata": {},
   "outputs": [
    {
     "data": {
      "text/plain": [
       "((1984, 100, 9), (1984,))"
      ]
     },
     "execution_count": 12,
     "metadata": {},
     "output_type": "execute_result"
    }
   ],
   "source": [
    "X.shape, y.shape"
   ]
  },
  {
   "cell_type": "code",
   "execution_count": 13,
   "id": "d50fceef-a132-4c0d-93fc-441bd4330ef6",
   "metadata": {},
   "outputs": [],
   "source": [
    "# Train-Test Split\n",
    "from sklearn.model_selection import train_test_split\n",
    "\n",
    "X_train, X_test, y_train, y_test = train_test_split(\n",
    "    X, y, test_size=0.2, random_state=42, stratify=y\n",
    ")"
   ]
  },
  {
   "cell_type": "code",
   "execution_count": 14,
   "id": "2e61a12d-6454-4beb-b995-ee87a3c62eda",
   "metadata": {},
   "outputs": [
    {
     "name": "stdout",
     "output_type": "stream",
     "text": [
      "Train shape: (X, y): ((1587, 100, 9), (1587,))\n",
      "Validation shape: (X, y): ((397, 100, 9), (397,))\n"
     ]
    }
   ],
   "source": [
    "print(\"Train shape: (X, y):\", (X_train.shape, y_train.shape))\n",
    "print(\"Validation shape: (X, y):\", (X_test.shape, y_test.shape))"
   ]
  },
  {
   "cell_type": "code",
   "execution_count": 15,
   "id": "a51a66e6-57ab-40e7-a9df-297c7ab92123",
   "metadata": {},
   "outputs": [
    {
     "data": {
      "text/plain": [
       "(array([0., 1.]), array([1505,   82]))"
      ]
     },
     "execution_count": 15,
     "metadata": {},
     "output_type": "execute_result"
    }
   ],
   "source": [
    "unique, frequency = np.unique(y_train, return_counts=True)\n",
    "unique, frequency"
   ]
  },
  {
   "cell_type": "code",
   "execution_count": 16,
   "id": "4eeb2e58-ae7a-45a7-a8f5-b801a96c20c6",
   "metadata": {},
   "outputs": [
    {
     "data": {
      "text/plain": [
       "(array([0., 1.]), array([376,  21]))"
      ]
     },
     "execution_count": 16,
     "metadata": {},
     "output_type": "execute_result"
    }
   ],
   "source": [
    "unique, frequency = np.unique(y_test, return_counts=True)\n",
    "unique, frequency"
   ]
  },
  {
   "cell_type": "markdown",
   "id": "d1e3c802-41af-4a8e-91e6-75cc375889e8",
   "metadata": {},
   "source": [
    "### Handle Imbalance "
   ]
  },
  {
   "cell_type": "code",
   "execution_count": 17,
   "id": "24ef117e-07fe-4d15-9ace-ed704fc113f0",
   "metadata": {},
   "outputs": [],
   "source": [
    "# # Apply SMOTE to balance the classes (SMOTE on flattened sequences)\n",
    "# from imblearn.over_sampling import SMOTE\n",
    "\n",
    "# n_samples, max_len, n_features = X_train.shape\n",
    "# X_train_flat = X_train.reshape(n_samples, -1)  # Flatten for SMOTE\n",
    "\n",
    "# smote = SMOTE(random_state=42)\n",
    "# X_train_flat_resampled, y_train_resampled = smote.fit_resample(X_train_flat, y_train)\n",
    "\n",
    "# # Reshape back to 3D for LSTM/GRU\n",
    "# X_train_resampled = X_train_flat_resampled.reshape(-1, max_len, n_features)"
   ]
  },
  {
   "cell_type": "code",
   "execution_count": 19,
   "id": "2b9c414a-7dbd-421f-854d-f9301916963f",
   "metadata": {},
   "outputs": [],
   "source": [
    "# print(\"Train shape: (X, y):\", (X_train_resampled.shape, y_train_resampled.shape))"
   ]
  },
  {
   "cell_type": "code",
   "execution_count": 20,
   "id": "681be2db-7e7f-4d37-bd99-384c1d828659",
   "metadata": {},
   "outputs": [],
   "source": [
    "# Save into npy, for LSTM/GRU and Transformer Models Training\n",
    "np.save('datasets/X_train.npy', X_train)\n",
    "np.save('datasets/X_val.npy', X_test)\n",
    "np.save('datasets/y_train.npy', y_train)\n",
    "np.save('datasets/y_val.npy', y_test)"
   ]
  },
  {
   "cell_type": "markdown",
   "id": "2236dc61-f3e1-4013-a33f-c2a6641b439f",
   "metadata": {},
   "source": [
    "## Prepare for Test Dataset"
   ]
  },
  {
   "cell_type": "code",
   "execution_count": 21,
   "id": "22b0b7c9-10f5-41a5-8b73-307f7f4b92c8",
   "metadata": {},
   "outputs": [],
   "source": [
    "# Load dataset\n",
    "df = pd.read_csv(\"datasets/test_merged_df.csv\")"
   ]
  },
  {
   "cell_type": "code",
   "execution_count": 22,
   "id": "71bbf258-7fd3-4e5b-a516-0d5cf90180ba",
   "metadata": {},
   "outputs": [],
   "source": [
    "# Drop sensitive features that are likely unique per bidder\n",
    "df = df.drop(['payment_account', 'address'], axis=1)"
   ]
  },
  {
   "cell_type": "code",
   "execution_count": 23,
   "id": "bd400561-4bc9-40f3-8479-692b6d912b52",
   "metadata": {},
   "outputs": [],
   "source": [
    "# Encode categorical features\n",
    "categorical_cols = ['merchandise', 'country']\n",
    "# label_encoders = [le, le, le, ...] # previous stored le while fit_transform train dataset\n",
    "for col in categorical_cols:\n",
    "    le = label_encoders[col]\n",
    "    # Replace unseen categories with 'unknown' before transforming\n",
    "    df[col] = df[col].apply(lambda x: x if x in le.classes_ else 'unknown')\n",
    "    df[col] = le.transform(df[col])"
   ]
  },
  {
   "cell_type": "code",
   "execution_count": 24,
   "id": "cee853b3-a985-483f-bdf5-e8295cc9ccd1",
   "metadata": {},
   "outputs": [],
   "source": [
    "# Frequency encoding for high-cardinality (>1000) features (ip, url, auction, device) \n",
    "for col in ['ip', 'url', 'auction', 'device']:\n",
    "    freq = freq_encoders[col]\n",
    "    df[f'{col}_freq'] = df[col].map(freq).fillna(freq.min())\n",
    "df = df.drop(['ip', 'url', 'auction', 'device'], axis=1)"
   ]
  },
  {
   "cell_type": "code",
   "execution_count": 25,
   "id": "aceb2cbf-1da1-4c68-9f59-5caea256e5fc",
   "metadata": {},
   "outputs": [],
   "source": [
    "# Enhance Temporal Features\n",
    "df['time_dt'] = pd.to_datetime(df['time'], unit='ns')\n",
    "df['hour'] = df['time_dt'].dt.hour\n",
    "df['day_of_week'] = df['time_dt'].dt.dayofweek"
   ]
  },
  {
   "cell_type": "code",
   "execution_count": 26,
   "id": "5a9e5c25-f056-42b1-a73f-57fc05ebca60",
   "metadata": {},
   "outputs": [],
   "source": [
    "# Normalize numerical feature (time)\n",
    "# resue std_scalers in training to transform\n",
    "for col in ['time_dt', 'hour', 'day_of_week']:\n",
    "    scaler = std_scalers[col]\n",
    "    df[col] = scaler.transform(df[[col]])"
   ]
  },
  {
   "cell_type": "code",
   "execution_count": 30,
   "id": "190cb58f-37c3-4e8a-a71a-59a6273b5b94",
   "metadata": {},
   "outputs": [],
   "source": [
    "# Group bids by bidder_id and sort by time\n",
    "df = df.sort_values(['bidder_id', 'time'])\n",
    "sequences = []\n",
    "bidder_ids = []\n",
    "feature_cols = ['auction_freq', 'merchandise', 'device_freq', 'time_dt', 'hour', 'day_of_week', 'country', 'ip_freq', 'url_freq']"
   ]
  },
  {
   "cell_type": "code",
   "execution_count": 31,
   "id": "155570f7-540d-49f4-be01-70f514458683",
   "metadata": {},
   "outputs": [],
   "source": [
    "for bidder_id, group in df.groupby('bidder_id'):\n",
    "    # Extract features for the sequence\n",
    "    seq = group[feature_cols].values\n",
    "    sequences.append(seq)\n",
    "    bidder_ids.append(bidder_id)\n"
   ]
  },
  {
   "cell_type": "code",
   "execution_count": 32,
   "id": "5e5ec02c-79d7-4b31-9e74-9d0f58deaaca",
   "metadata": {},
   "outputs": [
    {
     "data": {
      "text/plain": [
       "array([[ 1.79081695e-05,  7.00000000e+00,  1.41083815e-03,\n",
       "         1.33435164e+00, -1.46481722e+00,  1.55248093e+00,\n",
       "         1.61000000e+02,  3.25603082e-07,  5.03401901e-01],\n",
       "       [ 1.79081695e-05,  7.00000000e+00,  1.22198837e-03,\n",
       "         1.33435364e+00, -1.46481722e+00,  1.55248093e+00,\n",
       "         1.61000000e+02,  3.25603082e-07,  5.03401901e-01]])"
      ]
     },
     "execution_count": 32,
     "metadata": {},
     "output_type": "execute_result"
    }
   ],
   "source": [
    "sequences[0]"
   ]
  },
  {
   "cell_type": "code",
   "execution_count": 33,
   "id": "98adc630-bbc4-41a2-bbb9-12d3dea9a348",
   "metadata": {},
   "outputs": [],
   "source": [
    "# Pad sequences to the same length (use max length or a reasonable fixed length)\n",
    "# reuse max_len from training\n",
    "X = pad_sequences(sequences, maxlen=max_len, padding='post', dtype='float32')\n",
    "bidder_ids = np.array(bidder_ids) \n"
   ]
  },
  {
   "cell_type": "code",
   "execution_count": 34,
   "id": "0447b215-ff7d-488a-ba54-c5ba77b3270e",
   "metadata": {},
   "outputs": [
    {
     "data": {
      "text/plain": [
       "(4630, 100, 9)"
      ]
     },
     "execution_count": 34,
     "metadata": {},
     "output_type": "execute_result"
    }
   ],
   "source": [
    "X.shape"
   ]
  },
  {
   "cell_type": "code",
   "execution_count": 35,
   "id": "1d00b801-d875-4227-8a88-45c1ff7a98e8",
   "metadata": {},
   "outputs": [
    {
     "data": {
      "text/plain": [
       "(4630,)"
      ]
     },
     "execution_count": 35,
     "metadata": {},
     "output_type": "execute_result"
    }
   ],
   "source": [
    "bidder_ids.shape"
   ]
  },
  {
   "cell_type": "code",
   "execution_count": 36,
   "id": "a05de328-ef75-439f-ac13-87047629b24d",
   "metadata": {},
   "outputs": [],
   "source": [
    "# Save into npy, for LSTM/GRU and Transformer Models Training\n",
    "np.save('datasets/X_test.npy', X)\n",
    "np.save('datasets/bidders_ids.npy', bidder_ids)"
   ]
  },
  {
   "cell_type": "code",
   "execution_count": null,
   "id": "df73772b-0118-4afc-a903-e17361823988",
   "metadata": {},
   "outputs": [],
   "source": []
  },
  {
   "cell_type": "code",
   "execution_count": null,
   "id": "4daaeec0-1400-4595-b63e-84dccda0a6e9",
   "metadata": {},
   "outputs": [],
   "source": []
  },
  {
   "cell_type": "code",
   "execution_count": null,
   "id": "2c1d28c4-b498-43a6-9ed2-43f92e7573b8",
   "metadata": {},
   "outputs": [],
   "source": []
  },
  {
   "cell_type": "markdown",
   "id": "ed48c1e1-c821-47f7-9638-4344b3e924cd",
   "metadata": {},
   "source": [
    "### How to load the dataset ?"
   ]
  },
  {
   "cell_type": "code",
   "execution_count": 37,
   "id": "08964a29-6952-43c1-83ed-bf147fd052af",
   "metadata": {},
   "outputs": [],
   "source": [
    "# Load Train data\n",
    "X_train = np.load(\"datasets/X_train.npy\")\n",
    "y_train = np.load(\"datasets/y_train.npy\")"
   ]
  },
  {
   "cell_type": "code",
   "execution_count": 38,
   "id": "93eb6dbb-0b12-4dc2-bbae-dfeab9fb9a6d",
   "metadata": {},
   "outputs": [
    {
     "data": {
      "text/plain": [
       "((1587, 100, 9), (1587,))"
      ]
     },
     "execution_count": 38,
     "metadata": {},
     "output_type": "execute_result"
    }
   ],
   "source": [
    "X_train.shape, y_train.shape"
   ]
  },
  {
   "cell_type": "code",
   "execution_count": 39,
   "id": "117c4f94-11b0-496c-97a7-5428040619c2",
   "metadata": {},
   "outputs": [],
   "source": [
    "# Load Val data\n",
    "X_val = np.load(\"datasets/X_val.npy\")\n",
    "y_val = np.load(\"datasets/y_val.npy\")"
   ]
  },
  {
   "cell_type": "code",
   "execution_count": 40,
   "id": "349b2941-f179-4eae-b72b-0d601b535236",
   "metadata": {},
   "outputs": [
    {
     "data": {
      "text/plain": [
       "((397, 100, 9), (397,))"
      ]
     },
     "execution_count": 40,
     "metadata": {},
     "output_type": "execute_result"
    }
   ],
   "source": [
    "X_val.shape, y_val.shape"
   ]
  },
  {
   "cell_type": "code",
   "execution_count": 41,
   "id": "9f1a0b94-473f-42f1-96bb-533344c41e63",
   "metadata": {},
   "outputs": [],
   "source": [
    "# Load Val data\n",
    "X_test = np.load(\"datasets/X_test.npy\")\n",
    "bidder_ids = np.load(\"datasets/bidders_ids.npy\")"
   ]
  },
  {
   "cell_type": "code",
   "execution_count": 42,
   "id": "1aab6cb3-7ea4-4f51-9bda-e845e3d85919",
   "metadata": {
    "scrolled": true
   },
   "outputs": [
    {
     "data": {
      "text/plain": [
       "((4630, 100, 9), (4630,))"
      ]
     },
     "execution_count": 42,
     "metadata": {},
     "output_type": "execute_result"
    }
   ],
   "source": [
    "X_test.shape, bidder_ids.shape"
   ]
  },
  {
   "cell_type": "code",
   "execution_count": null,
   "id": "514b417a-3f37-4500-be92-705dd418cf4a",
   "metadata": {},
   "outputs": [],
   "source": []
  },
  {
   "cell_type": "code",
   "execution_count": null,
   "id": "0bac7d31-0e5d-4e31-b076-d6444b1bcc68",
   "metadata": {},
   "outputs": [],
   "source": []
  },
  {
   "cell_type": "code",
   "execution_count": 40,
   "id": "55c43e72-299a-4b96-b807-4661e292a457",
   "metadata": {},
   "outputs": [
    {
     "data": {
      "text/html": [
       "<div>\n",
       "<style scoped>\n",
       "    .dataframe tbody tr th:only-of-type {\n",
       "        vertical-align: middle;\n",
       "    }\n",
       "\n",
       "    .dataframe tbody tr th {\n",
       "        vertical-align: top;\n",
       "    }\n",
       "\n",
       "    .dataframe thead th {\n",
       "        text-align: right;\n",
       "    }\n",
       "</style>\n",
       "<table border=\"1\" class=\"dataframe\">\n",
       "  <thead>\n",
       "    <tr style=\"text-align: right;\">\n",
       "      <th></th>\n",
       "      <th>bidder_id</th>\n",
       "      <th>payment_account</th>\n",
       "      <th>address</th>\n",
       "      <th>outcome</th>\n",
       "      <th>bid_id</th>\n",
       "      <th>auction</th>\n",
       "      <th>merchandise</th>\n",
       "      <th>device</th>\n",
       "      <th>time</th>\n",
       "      <th>country</th>\n",
       "      <th>ip</th>\n",
       "      <th>url</th>\n",
       "    </tr>\n",
       "  </thead>\n",
       "  <tbody>\n",
       "    <tr>\n",
       "      <th>0</th>\n",
       "      <td>91a3c57b13234af24875c56fb7e2b2f4rb56a</td>\n",
       "      <td>a3d2de7675556553a5f08e4c88d2c228754av</td>\n",
       "      <td>a3d2de7675556553a5f08e4c88d2c228vt0u4</td>\n",
       "      <td>0.0</td>\n",
       "      <td>85371.0</td>\n",
       "      <td>yitr4</td>\n",
       "      <td>home goods</td>\n",
       "      <td>phone35</td>\n",
       "      <td>9.759489e+15</td>\n",
       "      <td>ke</td>\n",
       "      <td>82.34.177.248</td>\n",
       "      <td>vasstdc27m7nks3</td>\n",
       "    </tr>\n",
       "    <tr>\n",
       "      <th>1</th>\n",
       "      <td>91a3c57b13234af24875c56fb7e2b2f4rb56a</td>\n",
       "      <td>a3d2de7675556553a5f08e4c88d2c228754av</td>\n",
       "      <td>a3d2de7675556553a5f08e4c88d2c228vt0u4</td>\n",
       "      <td>0.0</td>\n",
       "      <td>274487.0</td>\n",
       "      <td>btpyy</td>\n",
       "      <td>home goods</td>\n",
       "      <td>phone1004</td>\n",
       "      <td>9.760249e+15</td>\n",
       "      <td>zm</td>\n",
       "      <td>202.130.71.167</td>\n",
       "      <td>vasstdc27m7nks3</td>\n",
       "    </tr>\n",
       "    <tr>\n",
       "      <th>2</th>\n",
       "      <td>91a3c57b13234af24875c56fb7e2b2f4rb56a</td>\n",
       "      <td>a3d2de7675556553a5f08e4c88d2c228754av</td>\n",
       "      <td>a3d2de7675556553a5f08e4c88d2c228vt0u4</td>\n",
       "      <td>0.0</td>\n",
       "      <td>527436.0</td>\n",
       "      <td>kj2ko</td>\n",
       "      <td>home goods</td>\n",
       "      <td>phone4</td>\n",
       "      <td>9.762261e+15</td>\n",
       "      <td>ke</td>\n",
       "      <td>22.54.76.225</td>\n",
       "      <td>vasstdc27m7nks3</td>\n",
       "    </tr>\n",
       "    <tr>\n",
       "      <th>3</th>\n",
       "      <td>91a3c57b13234af24875c56fb7e2b2f4rb56a</td>\n",
       "      <td>a3d2de7675556553a5f08e4c88d2c228754av</td>\n",
       "      <td>a3d2de7675556553a5f08e4c88d2c228vt0u4</td>\n",
       "      <td>0.0</td>\n",
       "      <td>554135.0</td>\n",
       "      <td>1m5t8</td>\n",
       "      <td>home goods</td>\n",
       "      <td>phone4</td>\n",
       "      <td>9.762431e+15</td>\n",
       "      <td>ke</td>\n",
       "      <td>32.13.237.126</td>\n",
       "      <td>vasstdc27m7nks3</td>\n",
       "    </tr>\n",
       "    <tr>\n",
       "      <th>4</th>\n",
       "      <td>91a3c57b13234af24875c56fb7e2b2f4rb56a</td>\n",
       "      <td>a3d2de7675556553a5f08e4c88d2c228754av</td>\n",
       "      <td>a3d2de7675556553a5f08e4c88d2c228vt0u4</td>\n",
       "      <td>0.0</td>\n",
       "      <td>607628.0</td>\n",
       "      <td>btpyy</td>\n",
       "      <td>home goods</td>\n",
       "      <td>phone4</td>\n",
       "      <td>9.762789e+15</td>\n",
       "      <td>ke</td>\n",
       "      <td>202.236.188.240</td>\n",
       "      <td>vasstdc27m7nks3</td>\n",
       "    </tr>\n",
       "  </tbody>\n",
       "</table>\n",
       "</div>"
      ],
      "text/plain": [
       "                               bidder_id  \\\n",
       "0  91a3c57b13234af24875c56fb7e2b2f4rb56a   \n",
       "1  91a3c57b13234af24875c56fb7e2b2f4rb56a   \n",
       "2  91a3c57b13234af24875c56fb7e2b2f4rb56a   \n",
       "3  91a3c57b13234af24875c56fb7e2b2f4rb56a   \n",
       "4  91a3c57b13234af24875c56fb7e2b2f4rb56a   \n",
       "\n",
       "                         payment_account  \\\n",
       "0  a3d2de7675556553a5f08e4c88d2c228754av   \n",
       "1  a3d2de7675556553a5f08e4c88d2c228754av   \n",
       "2  a3d2de7675556553a5f08e4c88d2c228754av   \n",
       "3  a3d2de7675556553a5f08e4c88d2c228754av   \n",
       "4  a3d2de7675556553a5f08e4c88d2c228754av   \n",
       "\n",
       "                                 address  outcome    bid_id auction  \\\n",
       "0  a3d2de7675556553a5f08e4c88d2c228vt0u4      0.0   85371.0   yitr4   \n",
       "1  a3d2de7675556553a5f08e4c88d2c228vt0u4      0.0  274487.0   btpyy   \n",
       "2  a3d2de7675556553a5f08e4c88d2c228vt0u4      0.0  527436.0   kj2ko   \n",
       "3  a3d2de7675556553a5f08e4c88d2c228vt0u4      0.0  554135.0   1m5t8   \n",
       "4  a3d2de7675556553a5f08e4c88d2c228vt0u4      0.0  607628.0   btpyy   \n",
       "\n",
       "  merchandise     device          time country               ip  \\\n",
       "0  home goods    phone35  9.759489e+15      ke    82.34.177.248   \n",
       "1  home goods  phone1004  9.760249e+15      zm   202.130.71.167   \n",
       "2  home goods     phone4  9.762261e+15      ke     22.54.76.225   \n",
       "3  home goods     phone4  9.762431e+15      ke    32.13.237.126   \n",
       "4  home goods     phone4  9.762789e+15      ke  202.236.188.240   \n",
       "\n",
       "               url  \n",
       "0  vasstdc27m7nks3  \n",
       "1  vasstdc27m7nks3  \n",
       "2  vasstdc27m7nks3  \n",
       "3  vasstdc27m7nks3  \n",
       "4  vasstdc27m7nks3  "
      ]
     },
     "execution_count": 40,
     "metadata": {},
     "output_type": "execute_result"
    }
   ],
   "source": [
    "# Load dataset\n",
    "df_test = pd.read_csv(\"datasets/train_merged_df.csv\")\n",
    "df_test.head()"
   ]
  },
  {
   "cell_type": "code",
   "execution_count": 41,
   "id": "c0e2b364-a493-470c-b43f-9f4df9b2ae29",
   "metadata": {},
   "outputs": [
    {
     "name": "stdout",
     "output_type": "stream",
     "text": [
      "auction unique values: 11689\n",
      "merchandise unique values: 9\n",
      "device unique values: 4953\n",
      "country unique values: 196\n"
     ]
    }
   ],
   "source": [
    "\n",
    "for col in categorical_cols:\n",
    "    print(f\"{col} unique values: {df[col].nunique()}\")"
   ]
  },
  {
   "cell_type": "code",
   "execution_count": 4,
   "id": "2b8cf850-0ebb-4c46-be66-7a124f951d16",
   "metadata": {},
   "outputs": [
    {
     "name": "stdout",
     "output_type": "stream",
     "text": [
      "ip unique values: 1030950\n",
      "url unique values: 663873\n"
     ]
    }
   ],
   "source": [
    "\n",
    "for col in ['ip', 'url']:\n",
    "    print(f\"{col} unique values: {df[col].nunique()}\")"
   ]
  },
  {
   "cell_type": "code",
   "execution_count": null,
   "id": "6b655919-a5b4-4f57-8496-a4d9353ec057",
   "metadata": {},
   "outputs": [],
   "source": []
  }
 ],
 "metadata": {
  "kernelspec": {
   "display_name": "Python (.venv)",
   "language": "python",
   "name": ".venv"
  },
  "language_info": {
   "codemirror_mode": {
    "name": "ipython",
    "version": 3
   },
   "file_extension": ".py",
   "mimetype": "text/x-python",
   "name": "python",
   "nbconvert_exporter": "python",
   "pygments_lexer": "ipython3",
   "version": "3.12.10"
  }
 },
 "nbformat": 4,
 "nbformat_minor": 5
}
