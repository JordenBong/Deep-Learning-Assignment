{
 "cells": [
  {
   "cell_type": "code",
   "execution_count": 1,
   "id": "ff83c456-76b9-4eaf-9155-bb102fc20c35",
   "metadata": {},
   "outputs": [],
   "source": [
    "import pandas as pd\n",
    "import matplotlib.pyplot as plt\n",
    "import seaborn as sns\n",
    "from sklearn.preprocessing import StandardScaler\n",
    "from sklearn.model_selection import train_test_split"
   ]
  },
  {
   "cell_type": "code",
   "execution_count": 2,
   "id": "0f8b4249-eca2-45e8-b823-4c3ceb2f5fdd",
   "metadata": {},
   "outputs": [],
   "source": [
    "# Load the datasets\n",
    "merged_df = pd.read_csv(\"datasets/train_merged_df.csv\")"
   ]
  },
  {
   "cell_type": "markdown",
   "id": "f8cc4d96-8889-4ff9-80b1-7056211aa22a",
   "metadata": {},
   "source": [
    "## Feature Engineering: Grouping the data by bidder_id"
   ]
  },
  {
   "cell_type": "code",
   "execution_count": 3,
   "id": "49ef934b-954d-4b24-9ec5-2a73128fd1d9",
   "metadata": {},
   "outputs": [],
   "source": [
    "# Get the number of bids per bidder\n",
    "bids_per_bidder = merged_df.groupby('bidder_id').size().reset_index(name='num_bids')"
   ]
  },
  {
   "cell_type": "code",
   "execution_count": 4,
   "id": "a72eec0f-f38a-40d9-9835-ec3e859e88d7",
   "metadata": {},
   "outputs": [],
   "source": [
    "# Get the number of unique countries per bidder\n",
    "unique_countries_per_bidder = merged_df.groupby('bidder_id')['country'].nunique().reset_index(name='num_countries')"
   ]
  },
  {
   "cell_type": "code",
   "execution_count": 5,
   "id": "1eb73ede-0406-4917-8875-2f570cbff232",
   "metadata": {},
   "outputs": [],
   "source": [
    "# Get the number of unique merchandise types per bidder\n",
    "unique_merchandise_per_bidder = merged_df.groupby('bidder_id')['merchandise'].nunique().reset_index(name='num_merchandise')"
   ]
  },
  {
   "cell_type": "code",
   "execution_count": 6,
   "id": "713bdc9e-b8d7-4779-8148-a8b1ca7cb385",
   "metadata": {},
   "outputs": [],
   "source": [
    "# Get the number of unique URLs per bidder\n",
    "unique_urls_per_bidder = merged_df.groupby('bidder_id')['url'].nunique().reset_index(name='num_urls')"
   ]
  },
  {
   "cell_type": "code",
   "execution_count": 7,
   "id": "f482e47e-ef2a-45d5-93b9-df1532345ebe",
   "metadata": {},
   "outputs": [],
   "source": [
    "# Get the number of unique IPs per bidder\n",
    "unique_ips_per_bidder = merged_df.groupby('bidder_id')['ip'].nunique().reset_index(name='num_ips')"
   ]
  },
  {
   "cell_type": "code",
   "execution_count": 8,
   "id": "c033385c-7d37-4571-a541-858d0d8a41b2",
   "metadata": {},
   "outputs": [],
   "source": [
    "# Get the number of unique devices per bidder\n",
    "unique_devices_per_bidder = merged_df.groupby('bidder_id')['device'].nunique().reset_index(name='num_devices')"
   ]
  },
  {
   "cell_type": "code",
   "execution_count": 9,
   "id": "c50b5f71-9314-4d38-a60e-04693b8a17bc",
   "metadata": {},
   "outputs": [],
   "source": [
    "# Get the number of auctions joined per bidder\n",
    "auctions_joined_per_bidder = merged_df.groupby('bidder_id')['auction'].nunique().reset_index(name='num_auctions')"
   ]
  },
  {
   "cell_type": "code",
   "execution_count": 10,
   "id": "31dd9937-aeea-4e71-9587-16684b7cac4b",
   "metadata": {},
   "outputs": [],
   "source": [
    "# Get the total duration between the first and last bid for each bidder\n",
    "total_duration = merged_df.groupby('bidder_id')['time'].agg(lambda x: x.max() - x.min()).reset_index(name='total_duration')\n",
    "total_duration['total_duration'] = total_duration['total_duration'] / 1e9  # Convert to smaller values"
   ]
  },
  {
   "cell_type": "code",
   "execution_count": 11,
   "id": "44276915-0d52-4926-a888-72001781a986",
   "metadata": {},
   "outputs": [],
   "source": [
    "# Get the majority outcome per bidder\n",
    "majority_outcome_per_bidder = merged_df.groupby('bidder_id')['outcome'].agg(lambda x: x.mode()[0]).reset_index(name='outcome')"
   ]
  },
  {
   "cell_type": "code",
   "execution_count": 12,
   "id": "f23ff9d1-374b-4e75-af4a-a21ef43ee368",
   "metadata": {},
   "outputs": [],
   "source": [
    "# Merge all the features into a single DataFrame\n",
    "featured_df = bids_per_bidder\n",
    "featured_df = pd.merge(featured_df, unique_countries_per_bidder, on='bidder_id', how='left')\n",
    "featured_df = pd.merge(featured_df, unique_merchandise_per_bidder, on='bidder_id', how='left')\n",
    "featured_df = pd.merge(featured_df, unique_urls_per_bidder, on='bidder_id', how='left')\n",
    "featured_df = pd.merge(featured_df, unique_ips_per_bidder, on='bidder_id', how='left')\n",
    "featured_df = pd.merge(featured_df, unique_devices_per_bidder, on='bidder_id', how='left')\n",
    "featured_df = pd.merge(featured_df, auctions_joined_per_bidder, on='bidder_id', how='left')\n",
    "featured_df = pd.merge(featured_df, total_duration, on='bidder_id', how='left')\n",
    "featured_df = pd.merge(featured_df, majority_outcome_per_bidder, on='bidder_id', how='left')"
   ]
  },
  {
   "cell_type": "code",
   "execution_count": 13,
   "id": "6e5b145c-32b3-4955-ac9a-a27973c62421",
   "metadata": {},
   "outputs": [
    {
     "name": "stdout",
     "output_type": "stream",
     "text": [
      "                               bidder_id  num_bids  num_countries  \\\n",
      "0  001068c415025a009fee375a12cff4fcnht8y         1              1   \n",
      "1  0030a2dd87ad2733e0873062e4f83954mkj86         1              1   \n",
      "2  00a0517965f18610417ee784a05f494d4dw6e       141             16   \n",
      "3  00cc97158e6f4cb8eac3c0075918b7ffi5k8o         3              2   \n",
      "4  01067975436d123f717ee5aba0dd4bbfa0937       543             71   \n",
      "5  012441119bcf83b23d4768bb72cea6d6carua        23             10   \n",
      "6  01255c2c7c5578c186873422fc00fd7afwk8k        65              5   \n",
      "7  01349288df20199905e719f0ff7ee771nwryj        70              4   \n",
      "8  0141844fc725a85e38e12cc02fcdbbe8ofqxv        18              6   \n",
      "9  0181b91f58e6cbaa832235e2879c9c00ovrzi        15              3   \n",
      "\n",
      "   num_merchandise  num_urls  num_ips  num_devices  num_auctions  \\\n",
      "0                1         1        1            1             1   \n",
      "1                1         1        1            1             1   \n",
      "2                1        84      103           67            74   \n",
      "3                1         1        3            3             3   \n",
      "4                1         4      398          165            17   \n",
      "5                1         3       19           16            19   \n",
      "6                1        29       55           34            13   \n",
      "7                1        23       49           28            31   \n",
      "8                1         2       16           13            14   \n",
      "9                1         9       14            7             9   \n",
      "\n",
      "   total_duration  outcome  \n",
      "0        0.000000      0.0  \n",
      "1        0.000000      0.0  \n",
      "2    76815.631579      0.0  \n",
      "3    54968.000000      0.0  \n",
      "4    13589.473684      0.0  \n",
      "5    12369.157895      0.0  \n",
      "6    13279.105263      0.0  \n",
      "7    13178.473684      0.0  \n",
      "8    12282.684211      0.0  \n",
      "9    12592.000000      0.0  \n"
     ]
    }
   ],
   "source": [
    "# Visualizing the table by printing the data for 10 bidders \n",
    "print(featured_df.head(10))"
   ]
  },
  {
   "cell_type": "code",
   "execution_count": 14,
   "id": "07a18194-6a4d-4f83-a946-43ad56121076",
   "metadata": {},
   "outputs": [],
   "source": [
    "# Normalizing the features\n",
    "features_to_scale = ['num_bids', 'num_countries', 'num_merchandise', 'num_urls', 'num_ips', 'num_devices', 'num_auctions', 'total_duration']\n",
    "scaler = StandardScaler()\n",
    "featured_df[features_to_scale] = scaler.fit_transform(featured_df[features_to_scale])"
   ]
  },
  {
   "cell_type": "code",
   "execution_count": 15,
   "id": "c1d602c3-8093-48d2-9855-af1c1dbace1b",
   "metadata": {
    "scrolled": true
   },
   "outputs": [
    {
     "data": {
      "text/html": [
       "<div>\n",
       "<style scoped>\n",
       "    .dataframe tbody tr th:only-of-type {\n",
       "        vertical-align: middle;\n",
       "    }\n",
       "\n",
       "    .dataframe tbody tr th {\n",
       "        vertical-align: top;\n",
       "    }\n",
       "\n",
       "    .dataframe thead th {\n",
       "        text-align: right;\n",
       "    }\n",
       "</style>\n",
       "<table border=\"1\" class=\"dataframe\">\n",
       "  <thead>\n",
       "    <tr style=\"text-align: right;\">\n",
       "      <th></th>\n",
       "      <th>bidder_id</th>\n",
       "      <th>num_bids</th>\n",
       "      <th>num_countries</th>\n",
       "      <th>num_merchandise</th>\n",
       "      <th>num_urls</th>\n",
       "      <th>num_ips</th>\n",
       "      <th>num_devices</th>\n",
       "      <th>num_auctions</th>\n",
       "      <th>total_duration</th>\n",
       "      <th>outcome</th>\n",
       "    </tr>\n",
       "  </thead>\n",
       "  <tbody>\n",
       "    <tr>\n",
       "      <th>0</th>\n",
       "      <td>001068c415025a009fee375a12cff4fcnht8y</td>\n",
       "      <td>-0.105254</td>\n",
       "      <td>-0.525142</td>\n",
       "      <td>-0.022456</td>\n",
       "      <td>-0.128930</td>\n",
       "      <td>-0.140742</td>\n",
       "      <td>-0.413474</td>\n",
       "      <td>-0.418184</td>\n",
       "      <td>-0.971009</td>\n",
       "      <td>0.0</td>\n",
       "    </tr>\n",
       "    <tr>\n",
       "      <th>1</th>\n",
       "      <td>0030a2dd87ad2733e0873062e4f83954mkj86</td>\n",
       "      <td>-0.105254</td>\n",
       "      <td>-0.525142</td>\n",
       "      <td>-0.022456</td>\n",
       "      <td>-0.128930</td>\n",
       "      <td>-0.140742</td>\n",
       "      <td>-0.413474</td>\n",
       "      <td>-0.418184</td>\n",
       "      <td>-0.971009</td>\n",
       "      <td>0.0</td>\n",
       "    </tr>\n",
       "    <tr>\n",
       "      <th>2</th>\n",
       "      <td>00a0517965f18610417ee784a05f494d4dw6e</td>\n",
       "      <td>-0.095728</td>\n",
       "      <td>0.115044</td>\n",
       "      <td>-0.022456</td>\n",
       "      <td>-0.097918</td>\n",
       "      <td>-0.119444</td>\n",
       "      <td>-0.061818</td>\n",
       "      <td>0.077506</td>\n",
       "      <td>1.398677</td>\n",
       "      <td>0.0</td>\n",
       "    </tr>\n",
       "    <tr>\n",
       "      <th>3</th>\n",
       "      <td>00cc97158e6f4cb8eac3c0075918b7ffi5k8o</td>\n",
       "      <td>-0.105117</td>\n",
       "      <td>-0.482463</td>\n",
       "      <td>-0.022456</td>\n",
       "      <td>-0.128930</td>\n",
       "      <td>-0.140324</td>\n",
       "      <td>-0.402817</td>\n",
       "      <td>-0.404603</td>\n",
       "      <td>0.724700</td>\n",
       "      <td>0.0</td>\n",
       "    </tr>\n",
       "    <tr>\n",
       "      <th>4</th>\n",
       "      <td>01067975436d123f717ee5aba0dd4bbfa0937</td>\n",
       "      <td>-0.068377</td>\n",
       "      <td>2.462396</td>\n",
       "      <td>-0.022456</td>\n",
       "      <td>-0.127809</td>\n",
       "      <td>-0.057847</td>\n",
       "      <td>0.460336</td>\n",
       "      <td>-0.309539</td>\n",
       "      <td>-0.551787</td>\n",
       "      <td>0.0</td>\n",
       "    </tr>\n",
       "  </tbody>\n",
       "</table>\n",
       "</div>"
      ],
      "text/plain": [
       "                               bidder_id  num_bids  num_countries  \\\n",
       "0  001068c415025a009fee375a12cff4fcnht8y -0.105254      -0.525142   \n",
       "1  0030a2dd87ad2733e0873062e4f83954mkj86 -0.105254      -0.525142   \n",
       "2  00a0517965f18610417ee784a05f494d4dw6e -0.095728       0.115044   \n",
       "3  00cc97158e6f4cb8eac3c0075918b7ffi5k8o -0.105117      -0.482463   \n",
       "4  01067975436d123f717ee5aba0dd4bbfa0937 -0.068377       2.462396   \n",
       "\n",
       "   num_merchandise  num_urls   num_ips  num_devices  num_auctions  \\\n",
       "0        -0.022456 -0.128930 -0.140742    -0.413474     -0.418184   \n",
       "1        -0.022456 -0.128930 -0.140742    -0.413474     -0.418184   \n",
       "2        -0.022456 -0.097918 -0.119444    -0.061818      0.077506   \n",
       "3        -0.022456 -0.128930 -0.140324    -0.402817     -0.404603   \n",
       "4        -0.022456 -0.127809 -0.057847     0.460336     -0.309539   \n",
       "\n",
       "   total_duration  outcome  \n",
       "0       -0.971009      0.0  \n",
       "1       -0.971009      0.0  \n",
       "2        1.398677      0.0  \n",
       "3        0.724700      0.0  \n",
       "4       -0.551787      0.0  "
      ]
     },
     "execution_count": 15,
     "metadata": {},
     "output_type": "execute_result"
    }
   ],
   "source": [
    "featured_df.head()"
   ]
  },
  {
   "cell_type": "code",
   "execution_count": 16,
   "id": "651fae5b-4c1a-432d-baa6-8978b23ec28e",
   "metadata": {},
   "outputs": [],
   "source": [
    "# Splitting the dataset into training and validation sets\n",
    "X = featured_df.drop(['bidder_id','outcome'], axis=1)  # Features\n",
    "y = featured_df['outcome']  # Target variable (1 - Robot, 0 - Human)\n",
    "X_train, X_test, y_train, y_test = train_test_split(X, y, test_size=0.2, random_state=42)"
   ]
  },
  {
   "cell_type": "code",
   "execution_count": 17,
   "id": "264153f4-4bbd-4574-823a-d6b79ea928ee",
   "metadata": {},
   "outputs": [
    {
     "data": {
      "text/plain": [
       "outcome\n",
       "0.0    1511\n",
       "1.0      76\n",
       "Name: count, dtype: int64"
      ]
     },
     "execution_count": 17,
     "metadata": {},
     "output_type": "execute_result"
    }
   ],
   "source": [
    "# Check dataset balance or not\n",
    "y_train.value_counts()"
   ]
  },
  {
   "cell_type": "code",
   "execution_count": 18,
   "id": "cb44933a-7fec-4625-9f7c-abb877735c71",
   "metadata": {},
   "outputs": [],
   "source": [
    "# Handle Imbalance - Oversampling using SMOTE\n",
    "from imblearn.over_sampling import SMOTE\n",
    "\n",
    "smt = SMOTE()\n",
    "X_train_sm, y_train_sm = smt.fit_resample(X_train, y_train)"
   ]
  },
  {
   "cell_type": "code",
   "execution_count": 19,
   "id": "eb8138a2-3bee-465e-a389-27fa10052471",
   "metadata": {},
   "outputs": [
    {
     "name": "stdout",
     "output_type": "stream",
     "text": [
      "(3022, 8) (3022,)\n"
     ]
    },
    {
     "data": {
      "text/plain": [
       "outcome\n",
       "0.0    1511\n",
       "1.0    1511\n",
       "Name: count, dtype: int64"
      ]
     },
     "execution_count": 19,
     "metadata": {},
     "output_type": "execute_result"
    }
   ],
   "source": [
    "# Check outcome \n",
    "print(X_train_sm.shape, y_train_sm.shape)\n",
    "y_train_sm.value_counts()"
   ]
  },
  {
   "cell_type": "code",
   "execution_count": 20,
   "id": "be453c32-5bdb-497e-a77e-9ff672922973",
   "metadata": {},
   "outputs": [],
   "source": [
    "# Save into csv for FNN training\n",
    "train_df = pd.concat([X_train_sm, y_train_sm], axis=1)\n",
    "train_df.head()\n",
    "train_df.to_csv(\"datasets/tabular_train_data.csv\", index=False)"
   ]
  },
  {
   "cell_type": "code",
   "execution_count": 21,
   "id": "97f0243e-ab84-481a-92da-cc269233de84",
   "metadata": {},
   "outputs": [],
   "source": [
    "# Save the validation dataset also for FNN evaluation\n",
    "val_df = pd.concat([X_test, y_test], axis=1)\n",
    "val_df.head()\n",
    "val_df.to_csv(\"datasets/tabular_validation_data.csv\", index=False)"
   ]
  },
  {
   "cell_type": "markdown",
   "id": "353ef800-2598-43c5-8ad6-343870bc2615",
   "metadata": {},
   "source": [
    "## Prepare preprocessed tabular test dataset"
   ]
  },
  {
   "cell_type": "code",
   "execution_count": 22,
   "id": "61a7b9e0-cd43-4a18-9f77-d48becbef0bc",
   "metadata": {},
   "outputs": [],
   "source": [
    "# Load the datasets\n",
    "merged_df = pd.read_csv(\"datasets/test_merged_df.csv\")"
   ]
  },
  {
   "cell_type": "code",
   "execution_count": 23,
   "id": "3988c4e1-8e6a-44a3-a5af-3416a23328e6",
   "metadata": {},
   "outputs": [],
   "source": [
    "# Get the number of bids per bidder\n",
    "bids_per_bidder = merged_df.groupby('bidder_id').size().reset_index(name='num_bids')\n",
    "\n",
    "# Get the number of unique countries per bidder\n",
    "unique_countries_per_bidder = merged_df.groupby('bidder_id')['country'].nunique().reset_index(name='num_countries')\n",
    "\n",
    "# Get the number of unique merchandise types per bidder\n",
    "unique_merchandise_per_bidder = merged_df.groupby('bidder_id')['merchandise'].nunique().reset_index(name='num_merchandise')\n",
    "\n",
    "# Get the number of unique URLs per bidder\n",
    "unique_urls_per_bidder = merged_df.groupby('bidder_id')['url'].nunique().reset_index(name='num_urls')\n",
    "\n",
    "# Get the number of unique IPs per bidder\n",
    "unique_ips_per_bidder = merged_df.groupby('bidder_id')['ip'].nunique().reset_index(name='num_ips')\n",
    "\n",
    "# Get the number of unique devices per bidder\n",
    "unique_devices_per_bidder = merged_df.groupby('bidder_id')['device'].nunique().reset_index(name='num_devices')\n",
    "\n",
    "# Get the number of auctions joined per bidder\n",
    "auctions_joined_per_bidder = merged_df.groupby('bidder_id')['auction'].nunique().reset_index(name='num_auctions')\n",
    "\n",
    "# Get the total duration between the first and last bid for each bidder\n",
    "total_duration = merged_df.groupby('bidder_id')['time'].agg(lambda x: x.max() - x.min()).reset_index(name='total_duration')\n",
    "total_duration['total_duration'] = total_duration['total_duration'] / 1e9  # Convert to smaller values"
   ]
  },
  {
   "cell_type": "code",
   "execution_count": 24,
   "id": "1e43a4c7-2889-4e5c-8b12-6af5c74e8ffa",
   "metadata": {},
   "outputs": [],
   "source": [
    "# Merge all the features into a single DataFrame\n",
    "featured_df = bids_per_bidder\n",
    "featured_df = pd.merge(featured_df, unique_countries_per_bidder, on='bidder_id', how='left')\n",
    "featured_df = pd.merge(featured_df, unique_merchandise_per_bidder, on='bidder_id', how='left')\n",
    "featured_df = pd.merge(featured_df, unique_urls_per_bidder, on='bidder_id', how='left')\n",
    "featured_df = pd.merge(featured_df, unique_ips_per_bidder, on='bidder_id', how='left')\n",
    "featured_df = pd.merge(featured_df, unique_devices_per_bidder, on='bidder_id', how='left')\n",
    "featured_df = pd.merge(featured_df, auctions_joined_per_bidder, on='bidder_id', how='left')\n",
    "featured_df = pd.merge(featured_df, total_duration, on='bidder_id', how='left')"
   ]
  },
  {
   "cell_type": "code",
   "execution_count": 25,
   "id": "e462e8cb-d35b-49ae-9060-7e583f914505",
   "metadata": {},
   "outputs": [
    {
     "name": "stdout",
     "output_type": "stream",
     "text": [
      "(4630, 9)\n",
      "                               bidder_id  num_bids  num_countries  \\\n",
      "0  002d229ffb247009810828f648afc2ef593rb         2              1   \n",
      "1  003180b29c6a5f8f1d84a6b7b6f7be57tjj1o         3              1   \n",
      "2  00486a11dff552c4bd7696265724ff81yeo9v        20              1   \n",
      "3  0051aef3fdeacdadba664b9b3b07e04e4coc6        68              4   \n",
      "4  0053b78cde37c4384a20d2da9aa4272aym4pb     10939             73   \n",
      "5  0061edfc5b07ff3d70d693883a38d370oy4fs       134              4   \n",
      "6  00862324eb508ca5202b6d4e5f1a80fc3t3lp         5              1   \n",
      "7  009479273c288b1dd096dc3087653499lrx3c         1              1   \n",
      "8  009cee781e8414f7fb55b2f92157e9dbu0y6o         5              3   \n",
      "9  00a79ebd15f0b24a0a3b5794457cd8ed7dng1       398             13   \n",
      "\n",
      "   num_merchandise  num_urls  num_ips  num_devices  num_auctions  \\\n",
      "0                1         1        1            2             1   \n",
      "1                1         2        3            3             3   \n",
      "2                1         7       10            8            13   \n",
      "3                1         3       10            6             5   \n",
      "4                1      1937     1951          518           408   \n",
      "5                1        34       53           45            38   \n",
      "6                1         1        1            1             1   \n",
      "7                1         1        1            1             1   \n",
      "8                1         3        5            4             2   \n",
      "9                1         1        8           92            74   \n",
      "\n",
      "   total_duration  \n",
      "0        0.105263  \n",
      "1    65955.684211  \n",
      "2    76349.842105  \n",
      "3    10955.210526  \n",
      "4    77280.421053  \n",
      "5    13596.947368  \n",
      "6        3.052632  \n",
      "7        0.000000  \n",
      "8    64296.421053  \n",
      "9     3021.947368  \n"
     ]
    }
   ],
   "source": [
    "# Visualizing the table by printing the data for 10 bidders \n",
    "print(featured_df.shape)\n",
    "print(featured_df.head(10))"
   ]
  },
  {
   "cell_type": "code",
   "execution_count": 26,
   "id": "a3e6d315-2d51-4ce8-9bbc-af9b0c5c81ed",
   "metadata": {},
   "outputs": [],
   "source": [
    "# Normalizing the features\n",
    "features_to_scale = ['num_bids', 'num_countries', 'num_merchandise', 'num_urls', 'num_ips', 'num_devices', 'num_auctions', 'total_duration']\n",
    "featured_df[features_to_scale] = scaler.transform(featured_df[features_to_scale])"
   ]
  },
  {
   "cell_type": "code",
   "execution_count": 27,
   "id": "969a9f73-9c6e-4123-8435-4871aa3d3ec0",
   "metadata": {},
   "outputs": [
    {
     "data": {
      "text/html": [
       "<div>\n",
       "<style scoped>\n",
       "    .dataframe tbody tr th:only-of-type {\n",
       "        vertical-align: middle;\n",
       "    }\n",
       "\n",
       "    .dataframe tbody tr th {\n",
       "        vertical-align: top;\n",
       "    }\n",
       "\n",
       "    .dataframe thead th {\n",
       "        text-align: right;\n",
       "    }\n",
       "</style>\n",
       "<table border=\"1\" class=\"dataframe\">\n",
       "  <thead>\n",
       "    <tr style=\"text-align: right;\">\n",
       "      <th></th>\n",
       "      <th>bidder_id</th>\n",
       "      <th>num_bids</th>\n",
       "      <th>num_countries</th>\n",
       "      <th>num_merchandise</th>\n",
       "      <th>num_urls</th>\n",
       "      <th>num_ips</th>\n",
       "      <th>num_devices</th>\n",
       "      <th>num_auctions</th>\n",
       "      <th>total_duration</th>\n",
       "    </tr>\n",
       "  </thead>\n",
       "  <tbody>\n",
       "    <tr>\n",
       "      <th>0</th>\n",
       "      <td>002d229ffb247009810828f648afc2ef593rb</td>\n",
       "      <td>-0.105185</td>\n",
       "      <td>-0.525142</td>\n",
       "      <td>-0.022456</td>\n",
       "      <td>-0.128930</td>\n",
       "      <td>-0.140742</td>\n",
       "      <td>-0.408146</td>\n",
       "      <td>-0.418184</td>\n",
       "      <td>-0.971005</td>\n",
       "    </tr>\n",
       "    <tr>\n",
       "      <th>1</th>\n",
       "      <td>003180b29c6a5f8f1d84a6b7b6f7be57tjj1o</td>\n",
       "      <td>-0.105117</td>\n",
       "      <td>-0.525142</td>\n",
       "      <td>-0.022456</td>\n",
       "      <td>-0.128557</td>\n",
       "      <td>-0.140324</td>\n",
       "      <td>-0.402817</td>\n",
       "      <td>-0.404603</td>\n",
       "      <td>1.063659</td>\n",
       "    </tr>\n",
       "    <tr>\n",
       "      <th>2</th>\n",
       "      <td>00486a11dff552c4bd7696265724ff81yeo9v</td>\n",
       "      <td>-0.103961</td>\n",
       "      <td>-0.525142</td>\n",
       "      <td>-0.022456</td>\n",
       "      <td>-0.126688</td>\n",
       "      <td>-0.138863</td>\n",
       "      <td>-0.376177</td>\n",
       "      <td>-0.336700</td>\n",
       "      <td>1.384308</td>\n",
       "    </tr>\n",
       "    <tr>\n",
       "      <th>3</th>\n",
       "      <td>0051aef3fdeacdadba664b9b3b07e04e4coc6</td>\n",
       "      <td>-0.100695</td>\n",
       "      <td>-0.397105</td>\n",
       "      <td>-0.022456</td>\n",
       "      <td>-0.128183</td>\n",
       "      <td>-0.138863</td>\n",
       "      <td>-0.386833</td>\n",
       "      <td>-0.391022</td>\n",
       "      <td>-0.633051</td>\n",
       "    </tr>\n",
       "    <tr>\n",
       "      <th>4</th>\n",
       "      <td>0053b78cde37c4384a20d2da9aa4272aym4pb</td>\n",
       "      <td>0.638939</td>\n",
       "      <td>2.547754</td>\n",
       "      <td>-0.022456</td>\n",
       "      <td>0.594453</td>\n",
       "      <td>0.266423</td>\n",
       "      <td>2.341159</td>\n",
       "      <td>2.345457</td>\n",
       "      <td>1.413016</td>\n",
       "    </tr>\n",
       "  </tbody>\n",
       "</table>\n",
       "</div>"
      ],
      "text/plain": [
       "                               bidder_id  num_bids  num_countries  \\\n",
       "0  002d229ffb247009810828f648afc2ef593rb -0.105185      -0.525142   \n",
       "1  003180b29c6a5f8f1d84a6b7b6f7be57tjj1o -0.105117      -0.525142   \n",
       "2  00486a11dff552c4bd7696265724ff81yeo9v -0.103961      -0.525142   \n",
       "3  0051aef3fdeacdadba664b9b3b07e04e4coc6 -0.100695      -0.397105   \n",
       "4  0053b78cde37c4384a20d2da9aa4272aym4pb  0.638939       2.547754   \n",
       "\n",
       "   num_merchandise  num_urls   num_ips  num_devices  num_auctions  \\\n",
       "0        -0.022456 -0.128930 -0.140742    -0.408146     -0.418184   \n",
       "1        -0.022456 -0.128557 -0.140324    -0.402817     -0.404603   \n",
       "2        -0.022456 -0.126688 -0.138863    -0.376177     -0.336700   \n",
       "3        -0.022456 -0.128183 -0.138863    -0.386833     -0.391022   \n",
       "4        -0.022456  0.594453  0.266423     2.341159      2.345457   \n",
       "\n",
       "   total_duration  \n",
       "0       -0.971005  \n",
       "1        1.063659  \n",
       "2        1.384308  \n",
       "3       -0.633051  \n",
       "4        1.413016  "
      ]
     },
     "execution_count": 27,
     "metadata": {},
     "output_type": "execute_result"
    }
   ],
   "source": [
    "featured_df.head()"
   ]
  },
  {
   "cell_type": "code",
   "execution_count": 28,
   "id": "5b07022b-9ade-458d-8132-725d55e05383",
   "metadata": {},
   "outputs": [],
   "source": [
    "# Save into csv for FNN training\n",
    "featured_df.to_csv(\"datasets/tabular_test_data.csv\", index=False)"
   ]
  },
  {
   "cell_type": "code",
   "execution_count": null,
   "id": "36814a29-90cd-4263-89f3-aeebeefad21c",
   "metadata": {},
   "outputs": [],
   "source": []
  }
 ],
 "metadata": {
  "kernelspec": {
   "display_name": "Python (.venv)",
   "language": "python",
   "name": ".venv"
  },
  "language_info": {
   "codemirror_mode": {
    "name": "ipython",
    "version": 3
   },
   "file_extension": ".py",
   "mimetype": "text/x-python",
   "name": "python",
   "nbconvert_exporter": "python",
   "pygments_lexer": "ipython3",
   "version": "3.12.10"
  }
 },
 "nbformat": 4,
 "nbformat_minor": 5
}
